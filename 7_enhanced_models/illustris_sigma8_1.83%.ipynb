{
 "cells": [
  {
   "cell_type": "code",
   "execution_count": 1,
   "metadata": {
    "id": "HlCP1v-Hgnmn"
   },
   "outputs": [
    {
     "name": "stdout",
     "output_type": "stream",
     "text": [
      "Collecting astro-datasets\n",
      "  Downloading astro_datasets-0.0.17.tar.gz (12 kB)\n",
      "Requirement already satisfied: numpy in /usr/local/lib/python3.8/dist-packages (1.23.4)\n",
      "Collecting matplotlib\n",
      "  Downloading matplotlib-3.6.2-cp38-cp38-manylinux_2_12_x86_64.manylinux2010_x86_64.whl (9.4 MB)\n",
      "\u001b[K     |████████████████████████████████| 9.4 MB 2.3 MB/s eta 0:00:01\n",
      "\u001b[?25hCollecting albumentations\n",
      "  Downloading albumentations-1.3.0-py3-none-any.whl (123 kB)\n",
      "\u001b[K     |████████████████████████████████| 123 kB 56.7 MB/s eta 0:00:01\n",
      "\u001b[?25hRequirement already satisfied: tensorflow in /usr/local/lib/python3.8/dist-packages (from astro-datasets) (2.11.0)\n",
      "Collecting tensorflow_datasets\n",
      "  Downloading tensorflow_datasets-4.7.0-py3-none-any.whl (4.7 MB)\n",
      "\u001b[K     |████████████████████████████████| 4.7 MB 53.8 MB/s eta 0:00:01\n",
      "\u001b[?25hCollecting pandas\n",
      "  Downloading pandas-1.5.1-cp38-cp38-manylinux_2_17_x86_64.manylinux2014_x86_64.whl (12.2 MB)\n",
      "\u001b[K     |████████████████████████████████| 12.2 MB 49.3 MB/s eta 0:00:01\n",
      "\u001b[?25hCollecting kiwisolver>=1.0.1\n",
      "  Downloading kiwisolver-1.4.4-cp38-cp38-manylinux_2_5_x86_64.manylinux1_x86_64.whl (1.2 MB)\n",
      "\u001b[K     |████████████████████████████████| 1.2 MB 36.7 MB/s eta 0:00:01\n",
      "\u001b[?25hRequirement already satisfied: python-dateutil>=2.7 in /usr/local/lib/python3.8/dist-packages (from matplotlib) (2.8.2)\n",
      "Requirement already satisfied: packaging>=20.0 in /usr/local/lib/python3.8/dist-packages (from matplotlib) (21.3)\n",
      "Collecting pillow>=6.2.0\n",
      "  Downloading Pillow-9.3.0-cp38-cp38-manylinux_2_17_x86_64.manylinux2014_x86_64.whl (3.2 MB)\n",
      "\u001b[K     |████████████████████████████████| 3.2 MB 48.4 MB/s eta 0:00:01\n",
      "\u001b[?25hCollecting contourpy>=1.0.1\n",
      "  Downloading contourpy-1.0.6-cp38-cp38-manylinux_2_17_x86_64.manylinux2014_x86_64.whl (295 kB)\n",
      "\u001b[K     |████████████████████████████████| 295 kB 52.6 MB/s eta 0:00:01\n",
      "\u001b[?25hRequirement already satisfied: pyparsing>=2.2.1 in /usr/local/lib/python3.8/dist-packages (from matplotlib) (3.0.9)\n",
      "Collecting cycler>=0.10\n",
      "  Downloading cycler-0.11.0-py3-none-any.whl (6.4 kB)\n",
      "Collecting fonttools>=4.22.0\n",
      "  Downloading fonttools-4.38.0-py3-none-any.whl (965 kB)\n",
      "\u001b[K     |████████████████████████████████| 965 kB 49.9 MB/s eta 0:00:01\n",
      "\u001b[?25hCollecting PyYAML\n",
      "  Downloading PyYAML-6.0-cp38-cp38-manylinux_2_5_x86_64.manylinux1_x86_64.manylinux_2_12_x86_64.manylinux2010_x86_64.whl (701 kB)\n",
      "\u001b[K     |████████████████████████████████| 701 kB 52.0 MB/s eta 0:00:01\n",
      "\u001b[?25hCollecting scikit-image>=0.16.1\n",
      "  Downloading scikit_image-0.19.3-cp38-cp38-manylinux_2_17_x86_64.manylinux2014_x86_64.whl (14.0 MB)\n",
      "\u001b[K     |████████████████████████████████| 14.0 MB 29.0 MB/s eta 0:00:01\n",
      "\u001b[?25hCollecting scipy\n",
      "  Downloading scipy-1.9.3-cp38-cp38-manylinux_2_17_x86_64.manylinux2014_x86_64.whl (33.8 MB)\n",
      "\u001b[K     |████████████████████████████████| 33.8 MB 30.0 MB/s eta 0:00:01\n",
      "\u001b[?25hCollecting opencv-python-headless>=4.1.1\n",
      "  Downloading opencv_python_headless-4.6.0.66-cp36-abi3-manylinux_2_17_x86_64.manylinux2014_x86_64.whl (48.3 MB)\n",
      "\u001b[K     |████████████████████████████████| 48.3 MB 23.9 MB/s eta 0:00:01\n",
      "\u001b[?25hCollecting qudida>=0.0.4\n",
      "  Downloading qudida-0.0.4-py3-none-any.whl (3.5 kB)\n",
      "Requirement already satisfied: protobuf<3.20,>=3.9.2 in /usr/local/lib/python3.8/dist-packages (from tensorflow->astro-datasets) (3.19.6)\n",
      "Requirement already satisfied: google-pasta>=0.1.1 in /usr/local/lib/python3.8/dist-packages (from tensorflow->astro-datasets) (0.2.0)\n",
      "Requirement already satisfied: grpcio<2.0,>=1.24.3 in /usr/local/lib/python3.8/dist-packages (from tensorflow->astro-datasets) (1.50.0)\n",
      "Requirement already satisfied: flatbuffers>=2.0 in /usr/local/lib/python3.8/dist-packages (from tensorflow->astro-datasets) (22.10.26)\n",
      "Requirement already satisfied: wrapt>=1.11.0 in /usr/local/lib/python3.8/dist-packages (from tensorflow->astro-datasets) (1.14.1)\n",
      "Requirement already satisfied: opt-einsum>=2.3.2 in /usr/local/lib/python3.8/dist-packages (from tensorflow->astro-datasets) (3.3.0)\n",
      "Requirement already satisfied: absl-py>=1.0.0 in /usr/local/lib/python3.8/dist-packages (from tensorflow->astro-datasets) (1.3.0)\n",
      "Requirement already satisfied: tensorflow-io-gcs-filesystem>=0.23.1; platform_machine != \"arm64\" or platform_system != \"Darwin\" in /usr/local/lib/python3.8/dist-packages (from tensorflow->astro-datasets) (0.27.0)\n",
      "Requirement already satisfied: libclang>=13.0.0 in /usr/local/lib/python3.8/dist-packages (from tensorflow->astro-datasets) (14.0.6)\n",
      "Requirement already satisfied: tensorboard<2.12,>=2.11 in /usr/local/lib/python3.8/dist-packages (from tensorflow->astro-datasets) (2.11.0)\n",
      "Requirement already satisfied: tensorflow-estimator<2.12,>=2.11.0 in /usr/local/lib/python3.8/dist-packages (from tensorflow->astro-datasets) (2.11.0)\n",
      "Requirement already satisfied: setuptools in /usr/local/lib/python3.8/dist-packages (from tensorflow->astro-datasets) (65.5.1)\n",
      "Requirement already satisfied: astunparse>=1.6.0 in /usr/local/lib/python3.8/dist-packages (from tensorflow->astro-datasets) (1.6.3)\n",
      "Requirement already satisfied: typing-extensions>=3.6.6 in /usr/local/lib/python3.8/dist-packages (from tensorflow->astro-datasets) (4.4.0)\n",
      "Requirement already satisfied: six>=1.12.0 in /usr/lib/python3/dist-packages (from tensorflow->astro-datasets) (1.14.0)\n",
      "Requirement already satisfied: gast<=0.4.0,>=0.2.1 in /usr/local/lib/python3.8/dist-packages (from tensorflow->astro-datasets) (0.4.0)\n",
      "Requirement already satisfied: termcolor>=1.1.0 in /usr/local/lib/python3.8/dist-packages (from tensorflow->astro-datasets) (2.1.0)\n",
      "Requirement already satisfied: h5py>=2.9.0 in /usr/local/lib/python3.8/dist-packages (from tensorflow->astro-datasets) (3.7.0)\n",
      "Requirement already satisfied: keras<2.12,>=2.11.0 in /usr/local/lib/python3.8/dist-packages (from tensorflow->astro-datasets) (2.11.0)\n",
      "Collecting dill\n",
      "  Downloading dill-0.3.6-py3-none-any.whl (110 kB)\n",
      "\u001b[K     |████████████████████████████████| 110 kB 53.7 MB/s eta 0:00:01\n",
      "\u001b[?25hRequirement already satisfied: requests>=2.19.0 in /usr/lib/python3/dist-packages (from tensorflow_datasets->astro-datasets) (2.22.0)\n",
      "Collecting toml\n",
      "  Downloading toml-0.10.2-py2.py3-none-any.whl (16 kB)\n",
      "Collecting etils[epath]\n",
      "  Downloading etils-0.9.0-py3-none-any.whl (140 kB)\n",
      "\u001b[K     |████████████████████████████████| 140 kB 51.6 MB/s eta 0:00:01\n",
      "\u001b[?25hRequirement already satisfied: importlib-resources; python_version < \"3.9\" in /usr/local/lib/python3.8/dist-packages (from tensorflow_datasets->astro-datasets) (5.10.0)\n",
      "Collecting promise\n",
      "  Downloading promise-2.3.tar.gz (19 kB)\n",
      "Collecting tensorflow-metadata\n",
      "  Downloading tensorflow_metadata-1.11.0-py3-none-any.whl (52 kB)\n",
      "\u001b[K     |████████████████████████████████| 52 kB 2.6 MB/s  eta 0:00:01\n",
      "\u001b[?25hCollecting tqdm\n",
      "  Downloading tqdm-4.64.1-py2.py3-none-any.whl (78 kB)\n",
      "\u001b[K     |████████████████████████████████| 78 kB 9.4 MB/s  eta 0:00:01\n",
      "\u001b[?25hRequirement already satisfied: pytz>=2020.1 in /usr/local/lib/python3.8/dist-packages (from pandas->astro-datasets) (2022.6)\n",
      "Collecting tifffile>=2019.7.26\n",
      "  Downloading tifffile-2022.10.10-py3-none-any.whl (210 kB)\n",
      "\u001b[K     |████████████████████████████████| 210 kB 51.7 MB/s eta 0:00:01\n",
      "\u001b[?25hCollecting PyWavelets>=1.1.1\n",
      "  Downloading PyWavelets-1.4.1-cp38-cp38-manylinux_2_17_x86_64.manylinux2014_x86_64.whl (6.9 MB)\n",
      "\u001b[K     |████████████████████████████████| 6.9 MB 30.7 MB/s eta 0:00:01\n",
      "\u001b[?25hCollecting imageio>=2.4.1\n",
      "  Downloading imageio-2.22.4-py3-none-any.whl (3.4 MB)\n",
      "\u001b[K     |████████████████████████████████| 3.4 MB 48.2 MB/s eta 0:00:01\n",
      "\u001b[?25hCollecting networkx>=2.2\n",
      "  Downloading networkx-2.8.8-py3-none-any.whl (2.0 MB)\n",
      "\u001b[K     |████████████████████████████████| 2.0 MB 49.4 MB/s eta 0:00:01\n",
      "\u001b[?25hCollecting scikit-learn>=0.19.1\n",
      "  Downloading scikit_learn-1.1.3-cp38-cp38-manylinux_2_17_x86_64.manylinux2014_x86_64.whl (31.2 MB)\n",
      "\u001b[K     |████████████████████████████████| 31.2 MB 51.1 MB/s eta 0:00:01\n",
      "\u001b[?25hRequirement already satisfied: google-auth<3,>=1.6.3 in /usr/local/lib/python3.8/dist-packages (from tensorboard<2.12,>=2.11->tensorflow->astro-datasets) (2.14.1)\n",
      "Requirement already satisfied: tensorboard-data-server<0.7.0,>=0.6.0 in /usr/local/lib/python3.8/dist-packages (from tensorboard<2.12,>=2.11->tensorflow->astro-datasets) (0.6.1)\n",
      "Requirement already satisfied: markdown>=2.6.8 in /usr/local/lib/python3.8/dist-packages (from tensorboard<2.12,>=2.11->tensorflow->astro-datasets) (3.4.1)\n",
      "Requirement already satisfied: wheel>=0.26 in /usr/lib/python3/dist-packages (from tensorboard<2.12,>=2.11->tensorflow->astro-datasets) (0.34.2)\n",
      "Requirement already satisfied: werkzeug>=1.0.1 in /usr/local/lib/python3.8/dist-packages (from tensorboard<2.12,>=2.11->tensorflow->astro-datasets) (2.2.2)\n",
      "Requirement already satisfied: google-auth-oauthlib<0.5,>=0.4.1 in /usr/local/lib/python3.8/dist-packages (from tensorboard<2.12,>=2.11->tensorflow->astro-datasets) (0.4.6)\n",
      "Requirement already satisfied: tensorboard-plugin-wit>=1.6.0 in /usr/local/lib/python3.8/dist-packages (from tensorboard<2.12,>=2.11->tensorflow->astro-datasets) (1.8.1)\n",
      "Requirement already satisfied: zipp; extra == \"epath\" in /usr/local/lib/python3.8/dist-packages (from etils[epath]->tensorflow_datasets->astro-datasets) (3.10.0)\n",
      "Collecting googleapis-common-protos<2,>=1.52.0\n",
      "  Downloading googleapis_common_protos-1.57.0-py2.py3-none-any.whl (217 kB)\n",
      "\u001b[K     |████████████████████████████████| 217 kB 50.4 MB/s eta 0:00:01\n",
      "\u001b[?25hCollecting threadpoolctl>=2.0.0\n",
      "  Downloading threadpoolctl-3.1.0-py3-none-any.whl (14 kB)\n",
      "Collecting joblib>=1.0.0\n",
      "  Downloading joblib-1.2.0-py3-none-any.whl (297 kB)\n",
      "\u001b[K     |████████████████████████████████| 297 kB 48.2 MB/s eta 0:00:01\n",
      "\u001b[?25hRequirement already satisfied: rsa<5,>=3.1.4; python_version >= \"3.6\" in /usr/local/lib/python3.8/dist-packages (from google-auth<3,>=1.6.3->tensorboard<2.12,>=2.11->tensorflow->astro-datasets) (4.9)\n",
      "Requirement already satisfied: cachetools<6.0,>=2.0.0 in /usr/local/lib/python3.8/dist-packages (from google-auth<3,>=1.6.3->tensorboard<2.12,>=2.11->tensorflow->astro-datasets) (5.2.0)\n",
      "Requirement already satisfied: pyasn1-modules>=0.2.1 in /usr/local/lib/python3.8/dist-packages (from google-auth<3,>=1.6.3->tensorboard<2.12,>=2.11->tensorflow->astro-datasets) (0.2.8)\n",
      "Requirement already satisfied: importlib-metadata>=4.4; python_version < \"3.10\" in /usr/local/lib/python3.8/dist-packages (from markdown>=2.6.8->tensorboard<2.12,>=2.11->tensorflow->astro-datasets) (5.0.0)\n",
      "Requirement already satisfied: MarkupSafe>=2.1.1 in /usr/local/lib/python3.8/dist-packages (from werkzeug>=1.0.1->tensorboard<2.12,>=2.11->tensorflow->astro-datasets) (2.1.1)\n",
      "Requirement already satisfied: requests-oauthlib>=0.7.0 in /usr/local/lib/python3.8/dist-packages (from google-auth-oauthlib<0.5,>=0.4.1->tensorboard<2.12,>=2.11->tensorflow->astro-datasets) (1.3.1)\n",
      "Requirement already satisfied: pyasn1>=0.1.3 in /usr/local/lib/python3.8/dist-packages (from rsa<5,>=3.1.4; python_version >= \"3.6\"->google-auth<3,>=1.6.3->tensorboard<2.12,>=2.11->tensorflow->astro-datasets) (0.4.8)\n",
      "Requirement already satisfied: oauthlib>=3.0.0 in /usr/local/lib/python3.8/dist-packages (from requests-oauthlib>=0.7.0->google-auth-oauthlib<0.5,>=0.4.1->tensorboard<2.12,>=2.11->tensorflow->astro-datasets) (3.2.2)\n",
      "Building wheels for collected packages: astro-datasets, promise\n",
      "  Building wheel for astro-datasets (setup.py) ... \u001b[?25ldone\n",
      "\u001b[?25h  Created wheel for astro-datasets: filename=astro_datasets-0.0.17-py3-none-any.whl size=17648 sha256=fd8ee2e0f21a54f94f938d5c77bb2f4657595b318ab3b0b6976bd6bf7a1847b6\n",
      "  Stored in directory: /root/.cache/pip/wheels/7d/9c/ca/9c493182ffef3bfa4a50fe2d4ed4853f4e7bd02c5c3cd6894b\n",
      "  Building wheel for promise (setup.py) ... \u001b[?25ldone\n",
      "\u001b[?25h  Created wheel for promise: filename=promise-2.3-py3-none-any.whl size=21485 sha256=2f0e856adecd8f26803decdb284c406c810a786fe80de919cba61a4f6ea226c3\n",
      "  Stored in directory: /root/.cache/pip/wheels/54/aa/01/724885182f93150035a2a91bce34a12877e8067a97baaf5dc8\n",
      "Successfully built astro-datasets promise\n",
      "Installing collected packages: dill, toml, etils, promise, googleapis-common-protos, tensorflow-metadata, tqdm, tensorflow-datasets, pandas, astro-datasets, kiwisolver, pillow, contourpy, cycler, fonttools, matplotlib, PyYAML, tifffile, PyWavelets, scipy, imageio, networkx, scikit-image, opencv-python-headless, threadpoolctl, joblib, scikit-learn, qudida, albumentations\n",
      "Successfully installed PyWavelets-1.4.1 PyYAML-6.0 albumentations-1.3.0 astro-datasets-0.0.17 contourpy-1.0.6 cycler-0.11.0 dill-0.3.6 etils-0.9.0 fonttools-4.38.0 googleapis-common-protos-1.57.0 imageio-2.22.4 joblib-1.2.0 kiwisolver-1.4.4 matplotlib-3.6.2 networkx-2.8.8 opencv-python-headless-4.6.0.66 pandas-1.5.1 pillow-9.3.0 promise-2.3 qudida-0.0.4 scikit-image-0.19.3 scikit-learn-1.1.3 scipy-1.9.3 tensorflow-datasets-4.7.0 tensorflow-metadata-1.11.0 threadpoolctl-3.1.0 tifffile-2022.10.10 toml-0.10.2 tqdm-4.64.1\n",
      "\u001b[33mWARNING: You are using pip version 20.2.4; however, version 22.3.1 is available.\n",
      "You should consider upgrading via the '/usr/bin/python3 -m pip install --upgrade pip' command.\u001b[0m\n"
     ]
    }
   ],
   "source": [
    "!pip install astro-datasets numpy matplotlib albumentations"
   ]
  },
  {
   "cell_type": "code",
   "execution_count": 2,
   "metadata": {},
   "outputs": [
    {
     "name": "stderr",
     "output_type": "stream",
     "text": [
      "2022-11-21 13:33:44.073981: I tensorflow/core/platform/cpu_feature_guard.cc:193] This TensorFlow binary is optimized with oneAPI Deep Neural Network Library (oneDNN) to use the following CPU instructions in performance-critical operations:  AVX2 FMA\n",
      "To enable them in other operations, rebuild TensorFlow with the appropriate compiler flags.\n"
     ]
    }
   ],
   "source": [
    "import numpy as np\n",
    "import time, sys, os\n",
    "import matplotlib.pyplot as plt\n",
    "import tensorflow as tf\n",
    "import tensorflow_datasets as tfds\n",
    "import astro_datasets\n",
    "import matplotlib.pyplot as plt\n",
    "import albumentations as alb"
   ]
  },
  {
   "cell_type": "code",
   "execution_count": 3,
   "metadata": {
    "colab": {
     "base_uri": "https://localhost:8080/",
     "height": 201,
     "referenced_widgets": [
      "3b68968364324cd48e16f5d1e647fccb",
      "5cb92045903143138d75ffbf3260b129",
      "0872bf294f534b48be0ba0a5f84b7649",
      "2e8f7c4f316246ac9acd897cbfc28bf1",
      "1efa77f99c2e4edc871818811c49efef",
      "c7c1e696f7164102804ba95e015a9682",
      "54c5eb9612514a799fa376478e572c29",
      "94719df8ea7746c2aa8912bb3953f907",
      "109bd6a97a7747aa91e509d8efe664e5",
      "fafa794250c84144ae94ca6ff6fbeb92",
      "82c21583518440a1a3079f7ee2114240",
      "16d7612c9cc14fb6a1be19f22e44c19f",
      "6df7d0d4cdb24af3bcf11445d9daccb6",
      "c4754680e4f440c8baf0a3234246f6fb",
      "bbaa93e9116442c5b4b285f9f04d82c5",
      "a12eb51368f7485a9034687df6b9de9e",
      "63a1f50e64874294bb48ba88d78c06f8",
      "207dce1ab2db4c448a36717026924a8d",
      "fafe9af928df4bcdb37ae80fd0b6c67c",
      "8b2ac74524d740e2900fedd815d6fde8",
      "13cab7b0fa28447faac12aa2decd5798",
      "c4c52ff96f684366a6cdd995f9151a95",
      "c003576e562a4dc38c4ea319a69c18fc",
      "cb4860c5712d48e694f0392cf3c81df3",
      "44f9a2e27198421e982321b23aad0532",
      "13ae8348717048bfafef5c6846542cf3",
      "1320b32751504bc8ad7726fd1d111120",
      "c678b0e4761f46f8bb5749c24e253c4e",
      "675c125c6b094e3684e7be8363e5ab0b",
      "1df0254f514640e6a2d4934e51b2605d",
      "8736be90c95c43bd973e57321b129b3b",
      "b0b05e12268840799d5e862be43d279e",
      "e4844600a61548eda30d5c07ac5f4a2e",
      "3536c6f894074e36a6b105877660198b",
      "b66a839a14c746d182580fd2aa88cf07",
      "2e476b93d7b04fcaa6c26abc4ea654c1",
      "2a8c41ede77143768fcedeb9d806c90f",
      "8585a478dec043aab9ec973f182b6b20",
      "fa6d2f012bed4d57af3a8d7b73b98d34",
      "23b38a0f45234ba082e08ae247d27333",
      "e4f4a9a4f1d04b10949f6d6835a45204",
      "6cdafb9e533f424f872c37c13c41225c",
      "b66ec565cfd14ede8fe904b6160221c3",
      "08791d4e234a45b2b7f6c43886e263e1",
      "cd3a4be7618a48c99621e8189908af4b",
      "01568546218f4928a7f72f8e6f6699ca",
      "d82e2a9c1fa84d668901e3c31bfd3eae",
      "c104accdccf941978f742ca944095be0",
      "9f388cac02434a41bb01f95440694a08",
      "685122aa9c4b430db69bebefe5de7f4e",
      "5297fa26f6ed40cdbc9fd64182722f96",
      "2f7eac50cf6c4658aa12b9e633bd8ab2",
      "895a65e8ccb840478abde449315f5096",
      "59d08cffe4604c0a88b54875f06db5ca",
      "ce6e9b42383a4a85b9662d890a81640e",
      "e139bd3372ba43bf9dfa7180acfce002",
      "32b8754d61a645ec8fd53e6700822281",
      "fa9385b2ef3a403ca422a0ef022968f0",
      "36bb4ba67fe2493b9bfac92c64a6179e",
      "30741f50a0a54d90827fa5a1136eb425",
      "a61514e113cf4e18b729cf19b0dd2ad6",
      "aac206b12c184e3183198aaa4421d38d",
      "a27015cefb3a450c8feb4ff9f35c16ec",
      "d9d23eb2b7854d83aad25df0cc31194f",
      "e7995821c28d4aa0a7724c9fbb831046",
      "9ed72f6f5f1840d1aeb271af38eaa5e0",
      "ebe5d292e1474fd8b94ac981b8755658",
      "7e12b19887004581b5dd961c769da7f5",
      "18b75c6a88ff4991a38e054817811b4d",
      "e27c4de0c26d404f9cdefb9778dc7051",
      "748bc322693743bf9c6c3f2a10c916ed",
      "c7e7c23921cb471ebd5209312983917e",
      "8262f53b95a94fdc8ed0e902a1db79bf",
      "8fa534e92adc4859a5c96fb44b2cf9a9",
      "eca37a59620c4475b41e207465b53db8",
      "3d8d1de2d6774f1ca27b6641b098401e",
      "6345bcc451e047539f07a1d2378f6f2e"
     ]
    },
    "id": "gg7_q3whbyRS",
    "outputId": "a386d2ba-d879-440d-c4b2-865186b8a595"
   },
   "outputs": [
    {
     "name": "stderr",
     "output_type": "stream",
     "text": [
      "2022-11-21 13:33:46.582434: W tensorflow/core/platform/cloud/google_auth_provider.cc:184] All attempts to get a Google authentication bearer token failed, returning an empty token. Retrieving token from files failed with \"NOT_FOUND: Could not locate the credentials file.\". Retrieving token from GCE failed with \"FAILED_PRECONDITION: Error executing an HTTP request: libcurl code 6 meaning 'Couldn't resolve host name', error details: Could not resolve host: metadata\".\n"
     ]
    },
    {
     "name": "stdout",
     "output_type": "stream",
     "text": [
      "Downloading and preparing dataset Unknown size (download: Unknown size, generated: Unknown size, total: Unknown size) to /root/tensorflow_datasets/Nbody_IllustrisTNG_Mtot_sigma8/cmd/1.0.4...\n"
     ]
    },
    {
     "data": {
      "application/vnd.jupyter.widget-view+json": {
       "model_id": "83ded071eaad4c4781f46c12caadb3ce",
       "version_major": 2,
       "version_minor": 0
      },
      "text/plain": [
       "Dl Completed...: 0 url [00:00, ? url/s]"
      ]
     },
     "metadata": {},
     "output_type": "display_data"
    },
    {
     "data": {
      "application/vnd.jupyter.widget-view+json": {
       "model_id": "1499d8155e884067a3186db127d92268",
       "version_major": 2,
       "version_minor": 0
      },
      "text/plain": [
       "Dl Size...: 0 MiB [00:00, ? MiB/s]"
      ]
     },
     "metadata": {},
     "output_type": "display_data"
    },
    {
     "data": {
      "application/vnd.jupyter.widget-view+json": {
       "model_id": "697edc99df524793bd2c0a4419344998",
       "version_major": 2,
       "version_minor": 0
      },
      "text/plain": [
       "Dl Completed...: 0 url [00:00, ? url/s]"
      ]
     },
     "metadata": {},
     "output_type": "display_data"
    },
    {
     "data": {
      "application/vnd.jupyter.widget-view+json": {
       "model_id": "32fa0bde11874c88ae1dc9bd5130ebd6",
       "version_major": 2,
       "version_minor": 0
      },
      "text/plain": [
       "Dl Size...: 0 MiB [00:00, ? MiB/s]"
      ]
     },
     "metadata": {},
     "output_type": "display_data"
    },
    {
     "data": {
      "application/vnd.jupyter.widget-view+json": {
       "model_id": "",
       "version_major": 2,
       "version_minor": 0
      },
      "text/plain": [
       "Generating splits...:   0%|          | 0/1 [00:00<?, ? splits/s]"
      ]
     },
     "metadata": {},
     "output_type": "display_data"
    },
    {
     "data": {
      "application/vnd.jupyter.widget-view+json": {
       "model_id": "",
       "version_major": 2,
       "version_minor": 0
      },
      "text/plain": [
       "Generating train examples...: 0 examples [00:00, ? examples/s]"
      ]
     },
     "metadata": {},
     "output_type": "display_data"
    },
    {
     "data": {
      "application/vnd.jupyter.widget-view+json": {
       "model_id": "",
       "version_major": 2,
       "version_minor": 0
      },
      "text/plain": [
       "Shuffling /root/tensorflow_datasets/Nbody_IllustrisTNG_Mtot_sigma8/cmd/1.0.4.incompleteZA625A/cmd-train.tfreco…"
      ]
     },
     "metadata": {},
     "output_type": "display_data"
    },
    {
     "name": "stdout",
     "output_type": "stream",
     "text": [
      "Dataset cmd downloaded and prepared to /root/tensorflow_datasets/Nbody_IllustrisTNG_Mtot_sigma8/cmd/1.0.4. Subsequent calls will reuse this data.\n"
     ]
    },
    {
     "name": "stderr",
     "output_type": "stream",
     "text": [
      "2022-11-21 13:38:02.050371: I tensorflow/core/platform/cpu_feature_guard.cc:193] This TensorFlow binary is optimized with oneAPI Deep Neural Network Library (oneDNN) to use the following CPU instructions in performance-critical operations:  AVX2 FMA\n",
      "To enable them in other operations, rebuild TensorFlow with the appropriate compiler flags.\n",
      "2022-11-21 13:38:02.578446: I tensorflow/core/common_runtime/gpu/gpu_device.cc:1613] Created device /job:localhost/replica:0/task:0/device:GPU:0 with 78935 MB memory:  -> device: 0, name: NVIDIA A100-SXM4-80GB, pci bus id: 0000:44:00.0, compute capability: 8.0\n"
     ]
    }
   ],
   "source": [
    "(cmd_train, cmd_test, cmd_val), info = tfds.load(name='cmd', \n",
    "                                                 split=['train[0%:90%]','train[90%:95%]','train[95%:100%]'], \n",
    "                                                 with_info=True, \n",
    "                                                 as_supervised=True, \n",
    "                                                 builder_kwargs={'simulation': 'Nbody_IllustrisTNG', 'field': 'Mtot', \n",
    "                                                 'parameters': ['sigma8']})"
   ]
  },
  {
   "cell_type": "code",
   "execution_count": 4,
   "metadata": {},
   "outputs": [
    {
     "name": "stdout",
     "output_type": "stream",
     "text": [
      "Downloading and preparing dataset Unknown size (download: Unknown size, generated: Unknown size, total: Unknown size) to /root/tensorflow_datasets/Nbody_SIMBA_Mtot_sigma8/cmd/1.0.4...\n"
     ]
    },
    {
     "data": {
      "application/vnd.jupyter.widget-view+json": {
       "model_id": "c75814257a114c25a58f799e0e5235e8",
       "version_major": 2,
       "version_minor": 0
      },
      "text/plain": [
       "Dl Completed...: 0 url [00:00, ? url/s]"
      ]
     },
     "metadata": {},
     "output_type": "display_data"
    },
    {
     "data": {
      "application/vnd.jupyter.widget-view+json": {
       "model_id": "6af9cd92e63a4578abab9f8563d68bc0",
       "version_major": 2,
       "version_minor": 0
      },
      "text/plain": [
       "Dl Size...: 0 MiB [00:00, ? MiB/s]"
      ]
     },
     "metadata": {},
     "output_type": "display_data"
    },
    {
     "data": {
      "application/vnd.jupyter.widget-view+json": {
       "model_id": "15b52010a2cf488d86d95efbd58dcd9a",
       "version_major": 2,
       "version_minor": 0
      },
      "text/plain": [
       "Dl Completed...: 0 url [00:00, ? url/s]"
      ]
     },
     "metadata": {},
     "output_type": "display_data"
    },
    {
     "data": {
      "application/vnd.jupyter.widget-view+json": {
       "model_id": "e9c9752b9ec84834bcf86991a2a52c2e",
       "version_major": 2,
       "version_minor": 0
      },
      "text/plain": [
       "Dl Size...: 0 MiB [00:00, ? MiB/s]"
      ]
     },
     "metadata": {},
     "output_type": "display_data"
    },
    {
     "data": {
      "application/vnd.jupyter.widget-view+json": {
       "model_id": "",
       "version_major": 2,
       "version_minor": 0
      },
      "text/plain": [
       "Generating splits...:   0%|          | 0/1 [00:00<?, ? splits/s]"
      ]
     },
     "metadata": {},
     "output_type": "display_data"
    },
    {
     "data": {
      "application/vnd.jupyter.widget-view+json": {
       "model_id": "",
       "version_major": 2,
       "version_minor": 0
      },
      "text/plain": [
       "Generating train examples...: 0 examples [00:00, ? examples/s]"
      ]
     },
     "metadata": {},
     "output_type": "display_data"
    },
    {
     "data": {
      "application/vnd.jupyter.widget-view+json": {
       "model_id": "",
       "version_major": 2,
       "version_minor": 0
      },
      "text/plain": [
       "Shuffling /root/tensorflow_datasets/Nbody_SIMBA_Mtot_sigma8/cmd/1.0.4.incomplete3HH2A9/cmd-train.tfrecord*...:…"
      ]
     },
     "metadata": {},
     "output_type": "display_data"
    },
    {
     "name": "stdout",
     "output_type": "stream",
     "text": [
      "Dataset cmd downloaded and prepared to /root/tensorflow_datasets/Nbody_SIMBA_Mtot_sigma8/cmd/1.0.4. Subsequent calls will reuse this data.\n"
     ]
    }
   ],
   "source": [
    "(simba_train, simba_test, simba_val), info_simba = tfds.load(name='cmd', \n",
    "                                                 split=['train[0%:90%]','train[90%:95%]','train[95%:100%]'], \n",
    "                                                 with_info=True, \n",
    "                                                 as_supervised=True, \n",
    "                                                 builder_kwargs={'simulation': 'Nbody_SIMBA', 'field': 'Mtot', \n",
    "                                                 'parameters': ['sigma8']})"
   ]
  },
  {
   "cell_type": "code",
   "execution_count": 5,
   "metadata": {
    "id": "NhHfxWv-cGxM"
   },
   "outputs": [],
   "source": [
    "# define preprocessing, normalization and augmentation functions\n",
    "\n",
    "def normalize(image, label):  \n",
    "    image = tf.math.asinh(image)\n",
    "    image = image - 26\n",
    "    return image, label\n",
    "\n",
    "def aug_fn(image):\n",
    "    data = {\"image\":image}\n",
    "    aug_data = transforms(**data)\n",
    "    aug_img = aug_data[\"image\"]\n",
    "    aug_img = tf.cast(aug_img, tf.float32)\n",
    "    aug_img = tf.image.resize(aug_img, size=[256, 256])\n",
    "    return aug_img\n",
    "\n",
    "def process_data(image, label):\n",
    "    aug_img = tf.numpy_function(func=aug_fn, inp=[image],\\\n",
    "                                Tout=tf.float32)\n",
    "    return aug_img, label\n",
    "\n",
    "def set_shapes(img, label, img_shape=(256, 256, 1)):\n",
    "    img.set_shape(img_shape)\n",
    "    label.set_shape(1,)\n",
    "    return img, label\n",
    "\n",
    "# Define augmentation pipeline\n",
    "\n",
    "transforms = alb.Compose([alb.VerticalFlip(p=0.6),\n",
    "                          alb.HorizontalFlip(p=0.6),\n",
    "                          alb.RandomRotate90(p=0.6)])\n"
   ]
  },
  {
   "cell_type": "code",
   "execution_count": 6,
   "metadata": {},
   "outputs": [],
   "source": [
    "btch_size = 128"
   ]
  },
  {
   "cell_type": "code",
   "execution_count": 7,
   "metadata": {
    "id": "4WAQKt5RcWQ_"
   },
   "outputs": [],
   "source": [
    "cmd_train = cmd_train.repeat(count=3) # increase dataset size\n",
    "cmd_train = cmd_train.map(process_data)\n",
    "cmd_train = cmd_train.map(set_shapes)\n",
    "cmd_train = cmd_train.map(normalize)\n",
    "cmd_train = cmd_train.batch(btch_size).prefetch(tf.data.AUTOTUNE)\n",
    "\n",
    "cmd_test = cmd_test.map(normalize)\n",
    "cmd_test = cmd_test.batch(btch_size).prefetch(tf.data.AUTOTUNE)\n",
    "\n",
    "cmd_val = cmd_val.map(normalize)\n",
    "cmd_val = cmd_val.batch(btch_size).prefetch(tf.data.AUTOTUNE)"
   ]
  },
  {
   "cell_type": "code",
   "execution_count": 8,
   "metadata": {},
   "outputs": [],
   "source": [
    "simba_test = simba_test.map(normalize)\n",
    "simba_test = simba_test.batch(btch_size).prefetch(tf.data.AUTOTUNE)"
   ]
  },
  {
   "cell_type": "code",
   "execution_count": 9,
   "metadata": {
    "id": "fZ2U_DtnehFG"
   },
   "outputs": [],
   "source": [
    "H = 7"
   ]
  },
  {
   "cell_type": "code",
   "execution_count": 10,
   "metadata": {
    "colab": {
     "base_uri": "https://localhost:8080/"
    },
    "id": "rGyULtUVij5A",
    "outputId": "1918006d-035a-405e-f412-ef778d795c0a"
   },
   "outputs": [
    {
     "name": "stdout",
     "output_type": "stream",
     "text": [
      "Model: \"sequential\"\n",
      "_________________________________________________________________\n",
      " Layer (type)                Output Shape              Param #   \n",
      "=================================================================\n",
      " conv2d (Conv2D)             (None, 256, 256, 14)      140       \n",
      "                                                                 \n",
      " leaky_re_lu (LeakyReLU)     (None, 256, 256, 14)      0         \n",
      "                                                                 \n",
      " conv2d_1 (Conv2D)           (None, 256, 256, 14)      1778      \n",
      "                                                                 \n",
      " batch_normalization (BatchN  (None, 256, 256, 14)     56        \n",
      " ormalization)                                                   \n",
      "                                                                 \n",
      " leaky_re_lu_1 (LeakyReLU)   (None, 256, 256, 14)      0         \n",
      "                                                                 \n",
      " conv2d_2 (Conv2D)           (None, 128, 128, 14)      798       \n",
      "                                                                 \n",
      " batch_normalization_1 (Batc  (None, 128, 128, 14)     56        \n",
      " hNormalization)                                                 \n",
      "                                                                 \n",
      " leaky_re_lu_2 (LeakyReLU)   (None, 128, 128, 14)      0         \n",
      "                                                                 \n",
      " conv2d_3 (Conv2D)           (None, 128, 128, 28)      3556      \n",
      "                                                                 \n",
      " batch_normalization_2 (Batc  (None, 128, 128, 28)     112       \n",
      " hNormalization)                                                 \n",
      "                                                                 \n",
      " leaky_re_lu_3 (LeakyReLU)   (None, 128, 128, 28)      0         \n",
      "                                                                 \n",
      " conv2d_4 (Conv2D)           (None, 128, 128, 28)      7084      \n",
      "                                                                 \n",
      " batch_normalization_3 (Batc  (None, 128, 128, 28)     112       \n",
      " hNormalization)                                                 \n",
      "                                                                 \n",
      " leaky_re_lu_4 (LeakyReLU)   (None, 128, 128, 28)      0         \n",
      "                                                                 \n",
      " conv2d_5 (Conv2D)           (None, 64, 64, 28)        3164      \n",
      "                                                                 \n",
      " batch_normalization_4 (Batc  (None, 64, 64, 28)       112       \n",
      " hNormalization)                                                 \n",
      "                                                                 \n",
      " leaky_re_lu_5 (LeakyReLU)   (None, 64, 64, 28)        0         \n",
      "                                                                 \n",
      " conv2d_6 (Conv2D)           (None, 64, 64, 56)        14168     \n",
      "                                                                 \n",
      " batch_normalization_5 (Batc  (None, 64, 64, 56)       224       \n",
      " hNormalization)                                                 \n",
      "                                                                 \n",
      " leaky_re_lu_6 (LeakyReLU)   (None, 64, 64, 56)        0         \n",
      "                                                                 \n",
      " conv2d_7 (Conv2D)           (None, 64, 64, 56)        28280     \n",
      "                                                                 \n",
      " batch_normalization_6 (Batc  (None, 64, 64, 56)       224       \n",
      " hNormalization)                                                 \n",
      "                                                                 \n",
      " leaky_re_lu_7 (LeakyReLU)   (None, 64, 64, 56)        0         \n",
      "                                                                 \n",
      " conv2d_8 (Conv2D)           (None, 32, 32, 56)        12600     \n",
      "                                                                 \n",
      " batch_normalization_7 (Batc  (None, 32, 32, 56)       224       \n",
      " hNormalization)                                                 \n",
      "                                                                 \n",
      " leaky_re_lu_8 (LeakyReLU)   (None, 32, 32, 56)        0         \n",
      "                                                                 \n",
      " conv2d_9 (Conv2D)           (None, 32, 32, 112)       56560     \n",
      "                                                                 \n",
      " batch_normalization_8 (Batc  (None, 32, 32, 112)      448       \n",
      " hNormalization)                                                 \n",
      "                                                                 \n",
      " leaky_re_lu_9 (LeakyReLU)   (None, 32, 32, 112)       0         \n",
      "                                                                 \n",
      " conv2d_10 (Conv2D)          (None, 32, 32, 112)       113008    \n",
      "                                                                 \n",
      " batch_normalization_9 (Batc  (None, 32, 32, 112)      448       \n",
      " hNormalization)                                                 \n",
      "                                                                 \n",
      " leaky_re_lu_10 (LeakyReLU)  (None, 32, 32, 112)       0         \n",
      "                                                                 \n",
      " conv2d_11 (Conv2D)          (None, 16, 16, 112)       50288     \n",
      "                                                                 \n",
      " batch_normalization_10 (Bat  (None, 16, 16, 112)      448       \n",
      " chNormalization)                                                \n",
      "                                                                 \n",
      " leaky_re_lu_11 (LeakyReLU)  (None, 16, 16, 112)       0         \n",
      "                                                                 \n",
      " conv2d_12 (Conv2D)          (None, 16, 16, 224)       226016    \n",
      "                                                                 \n",
      " batch_normalization_11 (Bat  (None, 16, 16, 224)      896       \n",
      " chNormalization)                                                \n",
      "                                                                 \n",
      " leaky_re_lu_12 (LeakyReLU)  (None, 16, 16, 224)       0         \n",
      "                                                                 \n",
      " conv2d_13 (Conv2D)          (None, 16, 16, 224)       451808    \n",
      "                                                                 \n",
      " batch_normalization_12 (Bat  (None, 16, 16, 224)      896       \n",
      " chNormalization)                                                \n",
      "                                                                 \n",
      " leaky_re_lu_13 (LeakyReLU)  (None, 16, 16, 224)       0         \n",
      "                                                                 \n",
      " conv2d_14 (Conv2D)          (None, 8, 8, 224)         200928    \n",
      "                                                                 \n",
      " batch_normalization_13 (Bat  (None, 8, 8, 224)        896       \n",
      " chNormalization)                                                \n",
      "                                                                 \n",
      " leaky_re_lu_14 (LeakyReLU)  (None, 8, 8, 224)         0         \n",
      "                                                                 \n",
      " conv2d_15 (Conv2D)          (None, 8, 8, 448)         903616    \n",
      "                                                                 \n",
      " batch_normalization_14 (Bat  (None, 8, 8, 448)        1792      \n",
      " chNormalization)                                                \n",
      "                                                                 \n",
      " leaky_re_lu_15 (LeakyReLU)  (None, 8, 8, 448)         0         \n",
      "                                                                 \n",
      " conv2d_16 (Conv2D)          (None, 8, 8, 448)         1806784   \n",
      "                                                                 \n",
      " batch_normalization_15 (Bat  (None, 8, 8, 448)        1792      \n",
      " chNormalization)                                                \n",
      "                                                                 \n",
      " leaky_re_lu_16 (LeakyReLU)  (None, 8, 8, 448)         0         \n",
      "                                                                 \n",
      " conv2d_17 (Conv2D)          (None, 4, 4, 448)         803264    \n",
      "                                                                 \n",
      " batch_normalization_16 (Bat  (None, 4, 4, 448)        1792      \n",
      " chNormalization)                                                \n",
      "                                                                 \n",
      " leaky_re_lu_17 (LeakyReLU)  (None, 4, 4, 448)         0         \n",
      "                                                                 \n",
      " conv2d_18 (Conv2D)          (None, 1, 1, 896)         6423424   \n",
      "                                                                 \n",
      " batch_normalization_17 (Bat  (None, 1, 1, 896)        3584      \n",
      " chNormalization)                                                \n",
      "                                                                 \n",
      " leaky_re_lu_18 (LeakyReLU)  (None, 1, 1, 896)         0         \n",
      "                                                                 \n",
      " flatten (Flatten)           (None, 896)               0         \n",
      "                                                                 \n",
      " dropout (Dropout)           (None, 896)               0         \n",
      "                                                                 \n",
      " dense (Dense)               (None, 448)               401856    \n",
      "                                                                 \n",
      " leaky_re_lu_19 (LeakyReLU)  (None, 448)               0         \n",
      "                                                                 \n",
      " dropout_1 (Dropout)         (None, 448)               0         \n",
      "                                                                 \n",
      " dense_1 (Dense)             (None, 1)                 449       \n",
      "                                                                 \n",
      "=================================================================\n",
      "Total params: 11,523,681\n",
      "Trainable params: 11,516,625\n",
      "Non-trainable params: 7,056\n",
      "_________________________________________________________________\n"
     ]
    }
   ],
   "source": [
    "#design CNN architecture\n",
    "model = tf.keras.models.Sequential([\n",
    "  tf.keras.layers.Conv2D(2*H, kernel_size=3, strides=1, padding = 'same', input_shape=(256, 256, 1)),\n",
    "  tf.keras.layers.LeakyReLU(0.2),\n",
    "  tf.keras.layers.Conv2D(2*H, kernel_size=3, strides=1, padding = 'same'),\n",
    "  tf.keras.layers.BatchNormalization(),  \n",
    "  tf.keras.layers.LeakyReLU(0.2),\n",
    "  tf.keras.layers.Conv2D(2*H, kernel_size=2, strides=2, padding = 'valid'),\n",
    "  tf.keras.layers.BatchNormalization(),  \n",
    "  tf.keras.layers.LeakyReLU(0.2),\n",
    "  tf.keras.layers.Conv2D(4*H, kernel_size=3, strides=1, padding = 'same'),\n",
    "  tf.keras.layers.BatchNormalization(),\n",
    "  tf.keras.layers.LeakyReLU(0.2),\n",
    "  tf.keras.layers.Conv2D(4*H, kernel_size=3, strides=1, padding = 'same'),\n",
    "  tf.keras.layers.BatchNormalization(),  \n",
    "  tf.keras.layers.LeakyReLU(0.2),\n",
    "  tf.keras.layers.Conv2D(4*H, kernel_size=2, strides=2, padding = 'valid'),\n",
    "  tf.keras.layers.BatchNormalization(),  \n",
    "  tf.keras.layers.LeakyReLU(0.2),  \n",
    "  tf.keras.layers.Conv2D(8*H, kernel_size=3, strides=1, padding = 'same'),\n",
    "  tf.keras.layers.BatchNormalization(),\n",
    "  tf.keras.layers.LeakyReLU(0.2),\n",
    "  tf.keras.layers.Conv2D(8*H, kernel_size=3, strides=1, padding = 'same'),\n",
    "  tf.keras.layers.BatchNormalization(),  \n",
    "  tf.keras.layers.LeakyReLU(0.2),\n",
    "  tf.keras.layers.Conv2D(8*H, kernel_size=2, strides=2, padding = 'valid'),\n",
    "  tf.keras.layers.BatchNormalization(),  \n",
    "  tf.keras.layers.LeakyReLU(0.2),    \n",
    "  tf.keras.layers.Conv2D(16*H, kernel_size=3, strides=1, padding = 'same'),\n",
    "  tf.keras.layers.BatchNormalization(),\n",
    "  tf.keras.layers.LeakyReLU(0.2),\n",
    "  tf.keras.layers.Conv2D(16*H, kernel_size=3, strides=1, padding = 'same'),\n",
    "  tf.keras.layers.BatchNormalization(),  \n",
    "  tf.keras.layers.LeakyReLU(0.2),\n",
    "  tf.keras.layers.Conv2D(16*H, kernel_size=2, strides=2, padding = 'valid'),\n",
    "  tf.keras.layers.BatchNormalization(),  \n",
    "  tf.keras.layers.LeakyReLU(0.2),    \n",
    "  tf.keras.layers.Conv2D(32*H, kernel_size=3, strides=1, padding = 'same'),\n",
    "  tf.keras.layers.BatchNormalization(),\n",
    "  tf.keras.layers.LeakyReLU(0.2),\n",
    "  tf.keras.layers.Conv2D(32*H, kernel_size=3, strides=1, padding = 'same'),\n",
    "  tf.keras.layers.BatchNormalization(),  \n",
    "  tf.keras.layers.LeakyReLU(0.2),\n",
    "  tf.keras.layers.Conv2D(32*H, kernel_size=2, strides=2, padding = 'valid'),\n",
    "  tf.keras.layers.BatchNormalization(),  \n",
    "  tf.keras.layers.LeakyReLU(0.2),\n",
    "  tf.keras.layers.Conv2D(64*H, kernel_size=3, strides=1, padding = 'same'),\n",
    "  tf.keras.layers.BatchNormalization(),\n",
    "  tf.keras.layers.LeakyReLU(0.2),\n",
    "  tf.keras.layers.Conv2D(64*H, kernel_size=3, strides=1, padding = 'same'),\n",
    "  tf.keras.layers.BatchNormalization(),  \n",
    "  tf.keras.layers.LeakyReLU(0.2),\n",
    "  tf.keras.layers.Conv2D(64*H, kernel_size=2, strides=2, padding = 'valid'),\n",
    "  tf.keras.layers.BatchNormalization(),  \n",
    "  tf.keras.layers.LeakyReLU(0.2),  \n",
    "  tf.keras.layers.Conv2D(128*H, kernel_size=4, strides=1, padding = 'valid'),  \n",
    "  tf.keras.layers.BatchNormalization(),  \n",
    "  tf.keras.layers.LeakyReLU(0.2),  \n",
    "  tf.keras.layers.Flatten(),  \n",
    "  tf.keras.layers.Dropout(0.2),\n",
    "  tf.keras.layers.Dense(64*H),\n",
    "  tf.keras.layers.LeakyReLU(0.2), \n",
    "  tf.keras.layers.Dropout(0.2),  \n",
    "  tf.keras.layers.Dense(1)\n",
    "])\n",
    "\n",
    "model.summary()"
   ]
  },
  {
   "cell_type": "code",
   "execution_count": 11,
   "metadata": {
    "id": "L1RqzVaomuQu"
   },
   "outputs": [],
   "source": [
    "opt = tf.keras.optimizers.Adam(beta_1=0.5, beta_2=0.999)\n",
    "reduce_lr = tf.keras.callbacks.ReduceLROnPlateau(monitor='val_loss', factor=0.3, patience=10)"
   ]
  },
  {
   "cell_type": "code",
   "execution_count": 12,
   "metadata": {
    "id": "Am-7t3Q6qitC"
   },
   "outputs": [],
   "source": [
    "#compile model, set the optimiser and the loss as defined above \n",
    "model.compile(optimizer=opt,\n",
    "              loss='mae',\n",
    "              metrics=['mse'])"
   ]
  },
  {
   "cell_type": "code",
   "execution_count": 13,
   "metadata": {
    "id": "UbO3PKd7eqH_"
   },
   "outputs": [],
   "source": [
    "epochs = 50"
   ]
  },
  {
   "cell_type": "code",
   "execution_count": 14,
   "metadata": {
    "colab": {
     "base_uri": "https://localhost:8080/"
    },
    "id": "eu91tco7muVe",
    "outputId": "41799fb5-43dc-43e7-9890-c448853a2f90"
   },
   "outputs": [
    {
     "name": "stdout",
     "output_type": "stream",
     "text": [
      "Epoch 1/50\n"
     ]
    },
    {
     "name": "stderr",
     "output_type": "stream",
     "text": [
      "2022-11-21 13:42:14.135252: I tensorflow/compiler/xla/stream_executor/cuda/cuda_dnn.cc:428] Loaded cuDNN version 8100\n",
      "2022-11-21 13:42:16.307439: I tensorflow/compiler/xla/stream_executor/cuda/cuda_blas.cc:630] TensorFloat-32 will be used for the matrix multiplication. This will only be logged once.\n",
      "2022-11-21 13:42:16.554077: I tensorflow/compiler/xla/service/service.cc:173] XLA service 0x7f9f1c009c20 initialized for platform CUDA (this does not guarantee that XLA will be used). Devices:\n",
      "2022-11-21 13:42:16.554132: I tensorflow/compiler/xla/service/service.cc:181]   StreamExecutor device (0): NVIDIA A100-SXM4-80GB, Compute Capability 8.0\n",
      "2022-11-21 13:42:16.559988: I tensorflow/compiler/mlir/tensorflow/utils/dump_mlir_util.cc:268] disabling MLIR crash reproducer, set env var `MLIR_CRASH_REPRODUCER_DIRECTORY` to enable.\n",
      "2022-11-21 13:42:16.707243: I tensorflow/compiler/jit/xla_compilation_cache.cc:477] Compiled cluster using XLA!  This line is logged at most once for the lifetime of the process.\n"
     ]
    },
    {
     "name": "stdout",
     "output_type": "stream",
     "text": [
      "317/317 [==============================] - ETA: 0s - loss: 0.3170 - mse: 0.3368\n",
      "Epoch 1: val_loss improved from inf to 2.25739, saving model to ./cp.ckpt\n"
     ]
    },
    {
     "name": "stderr",
     "output_type": "stream",
     "text": [
      "WARNING:absl:Found untraced functions such as _jit_compiled_convolution_op, _jit_compiled_convolution_op, _jit_compiled_convolution_op, _jit_compiled_convolution_op, _jit_compiled_convolution_op while saving (showing 5 of 19). These functions will not be directly callable after loading.\n"
     ]
    },
    {
     "name": "stdout",
     "output_type": "stream",
     "text": [
      "INFO:tensorflow:Assets written to: ./cp.ckpt/assets\n"
     ]
    },
    {
     "name": "stderr",
     "output_type": "stream",
     "text": [
      "INFO:tensorflow:Assets written to: ./cp.ckpt/assets\n"
     ]
    },
    {
     "name": "stdout",
     "output_type": "stream",
     "text": [
      "317/317 [==============================] - 119s 329ms/step - loss: 0.3170 - mse: 0.3368 - val_loss: 2.2574 - val_mse: 9.5480 - lr: 0.0010\n",
      "Epoch 2/50\n",
      "317/317 [==============================] - ETA: 0s - loss: 0.1205 - mse: 0.0438\n",
      "Epoch 2: val_loss improved from 2.25739 to 0.11063, saving model to ./cp.ckpt\n"
     ]
    },
    {
     "name": "stderr",
     "output_type": "stream",
     "text": [
      "WARNING:absl:Found untraced functions such as _jit_compiled_convolution_op, _jit_compiled_convolution_op, _jit_compiled_convolution_op, _jit_compiled_convolution_op, _jit_compiled_convolution_op while saving (showing 5 of 19). These functions will not be directly callable after loading.\n"
     ]
    },
    {
     "name": "stdout",
     "output_type": "stream",
     "text": [
      "INFO:tensorflow:Assets written to: ./cp.ckpt/assets\n"
     ]
    },
    {
     "name": "stderr",
     "output_type": "stream",
     "text": [
      "INFO:tensorflow:Assets written to: ./cp.ckpt/assets\n"
     ]
    },
    {
     "name": "stdout",
     "output_type": "stream",
     "text": [
      "317/317 [==============================] - 103s 325ms/step - loss: 0.1205 - mse: 0.0438 - val_loss: 0.1106 - val_mse: 0.0666 - lr: 0.0010\n",
      "Epoch 3/50\n",
      "317/317 [==============================] - ETA: 0s - loss: 0.0855 - mse: 0.0218\n",
      "Epoch 3: val_loss did not improve from 0.11063\n",
      "317/317 [==============================] - 101s 318ms/step - loss: 0.0855 - mse: 0.0218 - val_loss: 0.1372 - val_mse: 0.0244 - lr: 0.0010\n",
      "Epoch 4/50\n",
      "317/317 [==============================] - ETA: 0s - loss: 0.0719 - mse: 0.0154\n",
      "Epoch 4: val_loss improved from 0.11063 to 0.07046, saving model to ./cp.ckpt\n"
     ]
    },
    {
     "name": "stderr",
     "output_type": "stream",
     "text": [
      "WARNING:absl:Found untraced functions such as _jit_compiled_convolution_op, _jit_compiled_convolution_op, _jit_compiled_convolution_op, _jit_compiled_convolution_op, _jit_compiled_convolution_op while saving (showing 5 of 19). These functions will not be directly callable after loading.\n"
     ]
    },
    {
     "name": "stdout",
     "output_type": "stream",
     "text": [
      "INFO:tensorflow:Assets written to: ./cp.ckpt/assets\n"
     ]
    },
    {
     "name": "stderr",
     "output_type": "stream",
     "text": [
      "INFO:tensorflow:Assets written to: ./cp.ckpt/assets\n"
     ]
    },
    {
     "name": "stdout",
     "output_type": "stream",
     "text": [
      "317/317 [==============================] - 103s 324ms/step - loss: 0.0719 - mse: 0.0154 - val_loss: 0.0705 - val_mse: 0.0275 - lr: 0.0010\n",
      "Epoch 5/50\n",
      "317/317 [==============================] - ETA: 0s - loss: 0.0616 - mse: 0.0105\n",
      "Epoch 5: val_loss improved from 0.07046 to 0.05270, saving model to ./cp.ckpt\n"
     ]
    },
    {
     "name": "stderr",
     "output_type": "stream",
     "text": [
      "WARNING:absl:Found untraced functions such as _jit_compiled_convolution_op, _jit_compiled_convolution_op, _jit_compiled_convolution_op, _jit_compiled_convolution_op, _jit_compiled_convolution_op while saving (showing 5 of 19). These functions will not be directly callable after loading.\n"
     ]
    },
    {
     "name": "stdout",
     "output_type": "stream",
     "text": [
      "INFO:tensorflow:Assets written to: ./cp.ckpt/assets\n"
     ]
    },
    {
     "name": "stderr",
     "output_type": "stream",
     "text": [
      "INFO:tensorflow:Assets written to: ./cp.ckpt/assets\n"
     ]
    },
    {
     "name": "stdout",
     "output_type": "stream",
     "text": [
      "317/317 [==============================] - 103s 325ms/step - loss: 0.0616 - mse: 0.0105 - val_loss: 0.0527 - val_mse: 0.0059 - lr: 0.0010\n",
      "Epoch 6/50\n",
      "317/317 [==============================] - ETA: 0s - loss: 0.0560 - mse: 0.0099\n",
      "Epoch 6: val_loss did not improve from 0.05270\n",
      "317/317 [==============================] - 97s 304ms/step - loss: 0.0560 - mse: 0.0099 - val_loss: 0.3123 - val_mse: 0.4796 - lr: 0.0010\n",
      "Epoch 7/50\n",
      "317/317 [==============================] - ETA: 0s - loss: 0.0499 - mse: 0.0070\n",
      "Epoch 7: val_loss did not improve from 0.05270\n",
      "317/317 [==============================] - 97s 306ms/step - loss: 0.0499 - mse: 0.0070 - val_loss: 0.0789 - val_mse: 0.0076 - lr: 0.0010\n",
      "Epoch 8/50\n",
      "317/317 [==============================] - ETA: 0s - loss: 0.0483 - mse: 0.0072\n",
      "Epoch 8: val_loss did not improve from 0.05270\n",
      "317/317 [==============================] - 97s 305ms/step - loss: 0.0483 - mse: 0.0072 - val_loss: 0.3675 - val_mse: 0.5244 - lr: 0.0010\n",
      "Epoch 9/50\n",
      "317/317 [==============================] - ETA: 0s - loss: 0.0469 - mse: 0.0075\n",
      "Epoch 9: val_loss did not improve from 0.05270\n",
      "317/317 [==============================] - 99s 313ms/step - loss: 0.0469 - mse: 0.0075 - val_loss: 0.0841 - val_mse: 0.0086 - lr: 0.0010\n",
      "Epoch 10/50\n",
      "317/317 [==============================] - ETA: 0s - loss: 0.0430 - mse: 0.0057\n",
      "Epoch 10: val_loss did not improve from 0.05270\n",
      "317/317 [==============================] - 96s 302ms/step - loss: 0.0430 - mse: 0.0057 - val_loss: 0.5906 - val_mse: 0.9970 - lr: 0.0010\n",
      "Epoch 11/50\n",
      "317/317 [==============================] - ETA: 0s - loss: 0.0433 - mse: 0.0056\n",
      "Epoch 11: val_loss improved from 0.05270 to 0.04200, saving model to ./cp.ckpt\n"
     ]
    },
    {
     "name": "stderr",
     "output_type": "stream",
     "text": [
      "WARNING:absl:Found untraced functions such as _jit_compiled_convolution_op, _jit_compiled_convolution_op, _jit_compiled_convolution_op, _jit_compiled_convolution_op, _jit_compiled_convolution_op while saving (showing 5 of 19). These functions will not be directly callable after loading.\n"
     ]
    },
    {
     "name": "stdout",
     "output_type": "stream",
     "text": [
      "INFO:tensorflow:Assets written to: ./cp.ckpt/assets\n"
     ]
    },
    {
     "name": "stderr",
     "output_type": "stream",
     "text": [
      "INFO:tensorflow:Assets written to: ./cp.ckpt/assets\n"
     ]
    },
    {
     "name": "stdout",
     "output_type": "stream",
     "text": [
      "317/317 [==============================] - 103s 326ms/step - loss: 0.0433 - mse: 0.0056 - val_loss: 0.0420 - val_mse: 0.0030 - lr: 0.0010\n",
      "Epoch 12/50\n",
      "317/317 [==============================] - ETA: 0s - loss: 0.0417 - mse: 0.0053\n",
      "Epoch 12: val_loss did not improve from 0.04200\n",
      "317/317 [==============================] - 96s 304ms/step - loss: 0.0417 - mse: 0.0053 - val_loss: 0.1037 - val_mse: 0.0199 - lr: 0.0010\n",
      "Epoch 13/50\n",
      "317/317 [==============================] - ETA: 0s - loss: 0.0381 - mse: 0.0046\n",
      "Epoch 13: val_loss did not improve from 0.04200\n",
      "317/317 [==============================] - 100s 314ms/step - loss: 0.0381 - mse: 0.0046 - val_loss: 0.3702 - val_mse: 0.7455 - lr: 0.0010\n",
      "Epoch 14/50\n",
      "317/317 [==============================] - ETA: 0s - loss: 0.0383 - mse: 0.0052\n",
      "Epoch 14: val_loss did not improve from 0.04200\n",
      "317/317 [==============================] - 96s 302ms/step - loss: 0.0383 - mse: 0.0052 - val_loss: 0.0452 - val_mse: 0.0034 - lr: 0.0010\n",
      "Epoch 15/50\n",
      "317/317 [==============================] - ETA: 0s - loss: 0.0366 - mse: 0.0052\n",
      "Epoch 15: val_loss did not improve from 0.04200\n",
      "317/317 [==============================] - 97s 305ms/step - loss: 0.0366 - mse: 0.0052 - val_loss: 0.0605 - val_mse: 0.0055 - lr: 0.0010\n",
      "Epoch 16/50\n",
      "317/317 [==============================] - ETA: 0s - loss: 0.0375 - mse: 0.0045\n",
      "Epoch 16: val_loss improved from 0.04200 to 0.03265, saving model to ./cp.ckpt\n"
     ]
    },
    {
     "name": "stderr",
     "output_type": "stream",
     "text": [
      "WARNING:absl:Found untraced functions such as _jit_compiled_convolution_op, _jit_compiled_convolution_op, _jit_compiled_convolution_op, _jit_compiled_convolution_op, _jit_compiled_convolution_op while saving (showing 5 of 19). These functions will not be directly callable after loading.\n"
     ]
    },
    {
     "name": "stdout",
     "output_type": "stream",
     "text": [
      "INFO:tensorflow:Assets written to: ./cp.ckpt/assets\n"
     ]
    },
    {
     "name": "stderr",
     "output_type": "stream",
     "text": [
      "INFO:tensorflow:Assets written to: ./cp.ckpt/assets\n"
     ]
    },
    {
     "name": "stdout",
     "output_type": "stream",
     "text": [
      "317/317 [==============================] - 103s 325ms/step - loss: 0.0375 - mse: 0.0045 - val_loss: 0.0326 - val_mse: 0.0017 - lr: 0.0010\n",
      "Epoch 17/50\n",
      "317/317 [==============================] - ETA: 0s - loss: 0.0366 - mse: 0.0044\n",
      "Epoch 17: val_loss did not improve from 0.03265\n",
      "317/317 [==============================] - 97s 305ms/step - loss: 0.0366 - mse: 0.0044 - val_loss: 3.9503 - val_mse: 43.2836 - lr: 0.0010\n",
      "Epoch 18/50\n",
      "317/317 [==============================] - ETA: 0s - loss: 0.0336 - mse: 0.0038\n",
      "Epoch 18: val_loss did not improve from 0.03265\n",
      "317/317 [==============================] - 109s 343ms/step - loss: 0.0336 - mse: 0.0038 - val_loss: 0.0537 - val_mse: 0.0041 - lr: 0.0010\n",
      "Epoch 19/50\n",
      "317/317 [==============================] - ETA: 0s - loss: 0.0336 - mse: 0.0034\n",
      "Epoch 19: val_loss did not improve from 0.03265\n",
      "317/317 [==============================] - 99s 313ms/step - loss: 0.0336 - mse: 0.0034 - val_loss: 0.0473 - val_mse: 0.0043 - lr: 0.0010\n",
      "Epoch 20/50\n",
      "317/317 [==============================] - ETA: 0s - loss: 0.0321 - mse: 0.0033\n",
      "Epoch 20: val_loss did not improve from 0.03265\n",
      "317/317 [==============================] - 97s 306ms/step - loss: 0.0321 - mse: 0.0033 - val_loss: 0.2347 - val_mse: 0.1524 - lr: 0.0010\n",
      "Epoch 21/50\n",
      "317/317 [==============================] - ETA: 0s - loss: 0.0309 - mse: 0.0027\n",
      "Epoch 21: val_loss did not improve from 0.03265\n",
      "317/317 [==============================] - 100s 315ms/step - loss: 0.0309 - mse: 0.0027 - val_loss: 0.0950 - val_mse: 0.0151 - lr: 0.0010\n",
      "Epoch 22/50\n",
      "317/317 [==============================] - ETA: 0s - loss: 0.0299 - mse: 0.0028\n",
      "Epoch 22: val_loss did not improve from 0.03265\n",
      "317/317 [==============================] - 97s 306ms/step - loss: 0.0299 - mse: 0.0028 - val_loss: 0.0709 - val_mse: 0.0060 - lr: 0.0010\n",
      "Epoch 23/50\n",
      "317/317 [==============================] - ETA: 0s - loss: 0.0300 - mse: 0.0024\n",
      "Epoch 23: val_loss did not improve from 0.03265\n",
      "317/317 [==============================] - 97s 306ms/step - loss: 0.0300 - mse: 0.0024 - val_loss: 0.3105 - val_mse: 0.4818 - lr: 0.0010\n",
      "Epoch 24/50\n",
      "317/317 [==============================] - ETA: 0s - loss: 0.0310 - mse: 0.0025\n",
      "Epoch 24: val_loss did not improve from 0.03265\n",
      "317/317 [==============================] - 98s 309ms/step - loss: 0.0310 - mse: 0.0025 - val_loss: 0.1052 - val_mse: 0.0216 - lr: 0.0010\n",
      "Epoch 25/50\n",
      "317/317 [==============================] - ETA: 0s - loss: 0.0284 - mse: 0.0021\n",
      "Epoch 25: val_loss did not improve from 0.03265\n",
      "317/317 [==============================] - 97s 306ms/step - loss: 0.0284 - mse: 0.0021 - val_loss: 0.0721 - val_mse: 0.0068 - lr: 0.0010\n",
      "Epoch 26/50\n",
      "317/317 [==============================] - ETA: 0s - loss: 0.0271 - mse: 0.0020\n",
      "Epoch 26: val_loss did not improve from 0.03265\n",
      "317/317 [==============================] - 98s 308ms/step - loss: 0.0271 - mse: 0.0020 - val_loss: 0.0458 - val_mse: 0.0034 - lr: 0.0010\n",
      "Epoch 27/50\n",
      "317/317 [==============================] - ETA: 0s - loss: 0.0207 - mse: 9.1789e-04\n",
      "Epoch 27: val_loss did not improve from 0.03265\n",
      "317/317 [==============================] - 99s 312ms/step - loss: 0.0207 - mse: 9.1789e-04 - val_loss: 0.0512 - val_mse: 0.0037 - lr: 3.0000e-04\n",
      "Epoch 28/50\n",
      "317/317 [==============================] - ETA: 0s - loss: 0.0202 - mse: 8.6478e-04\n",
      "Epoch 28: val_loss did not improve from 0.03265\n",
      "317/317 [==============================] - 96s 303ms/step - loss: 0.0202 - mse: 8.6478e-04 - val_loss: 0.0490 - val_mse: 0.0034 - lr: 3.0000e-04\n",
      "Epoch 29/50\n",
      "317/317 [==============================] - ETA: 0s - loss: 0.0200 - mse: 8.2840e-04\n",
      "Epoch 29: val_loss did not improve from 0.03265\n",
      "317/317 [==============================] - 99s 311ms/step - loss: 0.0200 - mse: 8.2840e-04 - val_loss: 0.0750 - val_mse: 0.0076 - lr: 3.0000e-04\n",
      "Epoch 30/50\n",
      "317/317 [==============================] - ETA: 0s - loss: 0.0201 - mse: 8.4683e-04\n",
      "Epoch 30: val_loss did not improve from 0.03265\n",
      "317/317 [==============================] - 97s 306ms/step - loss: 0.0201 - mse: 8.4683e-04 - val_loss: 0.1381 - val_mse: 0.0229 - lr: 3.0000e-04\n",
      "Epoch 31/50\n",
      "317/317 [==============================] - ETA: 0s - loss: 0.0200 - mse: 8.3699e-04\n",
      "Epoch 31: val_loss improved from 0.03265 to 0.01662, saving model to ./cp.ckpt\n"
     ]
    },
    {
     "name": "stderr",
     "output_type": "stream",
     "text": [
      "WARNING:absl:Found untraced functions such as _jit_compiled_convolution_op, _jit_compiled_convolution_op, _jit_compiled_convolution_op, _jit_compiled_convolution_op, _jit_compiled_convolution_op while saving (showing 5 of 19). These functions will not be directly callable after loading.\n"
     ]
    },
    {
     "name": "stdout",
     "output_type": "stream",
     "text": [
      "INFO:tensorflow:Assets written to: ./cp.ckpt/assets\n"
     ]
    },
    {
     "name": "stderr",
     "output_type": "stream",
     "text": [
      "INFO:tensorflow:Assets written to: ./cp.ckpt/assets\n"
     ]
    },
    {
     "name": "stdout",
     "output_type": "stream",
     "text": [
      "317/317 [==============================] - 102s 323ms/step - loss: 0.0200 - mse: 8.3699e-04 - val_loss: 0.0166 - val_mse: 4.7599e-04 - lr: 3.0000e-04\n",
      "Epoch 32/50\n",
      "317/317 [==============================] - ETA: 0s - loss: 0.0197 - mse: 7.8300e-04\n",
      "Epoch 32: val_loss did not improve from 0.01662\n",
      "317/317 [==============================] - 97s 307ms/step - loss: 0.0197 - mse: 7.8300e-04 - val_loss: 0.0188 - val_mse: 9.9321e-04 - lr: 3.0000e-04\n",
      "Epoch 33/50\n",
      "317/317 [==============================] - ETA: 0s - loss: 0.0197 - mse: 8.3642e-04\n",
      "Epoch 33: val_loss did not improve from 0.01662\n",
      "317/317 [==============================] - 97s 305ms/step - loss: 0.0197 - mse: 8.3642e-04 - val_loss: 0.1231 - val_mse: 0.0740 - lr: 3.0000e-04\n",
      "Epoch 34/50\n",
      "317/317 [==============================] - ETA: 0s - loss: 0.0197 - mse: 7.9147e-04\n",
      "Epoch 34: val_loss did not improve from 0.01662\n",
      "317/317 [==============================] - 97s 307ms/step - loss: 0.0197 - mse: 7.9147e-04 - val_loss: 0.0274 - val_mse: 0.0017 - lr: 3.0000e-04\n",
      "Epoch 35/50\n",
      "317/317 [==============================] - ETA: 0s - loss: 0.0196 - mse: 7.7312e-04\n",
      "Epoch 35: val_loss did not improve from 0.01662\n",
      "317/317 [==============================] - 100s 314ms/step - loss: 0.0196 - mse: 7.7312e-04 - val_loss: 0.0196 - val_mse: 0.0012 - lr: 3.0000e-04\n",
      "Epoch 36/50\n",
      "317/317 [==============================] - ETA: 0s - loss: 0.0195 - mse: 7.6928e-04\n",
      "Epoch 36: val_loss improved from 0.01662 to 0.01568, saving model to ./cp.ckpt\n"
     ]
    },
    {
     "name": "stderr",
     "output_type": "stream",
     "text": [
      "WARNING:absl:Found untraced functions such as _jit_compiled_convolution_op, _jit_compiled_convolution_op, _jit_compiled_convolution_op, _jit_compiled_convolution_op, _jit_compiled_convolution_op while saving (showing 5 of 19). These functions will not be directly callable after loading.\n"
     ]
    },
    {
     "name": "stdout",
     "output_type": "stream",
     "text": [
      "INFO:tensorflow:Assets written to: ./cp.ckpt/assets\n"
     ]
    },
    {
     "name": "stderr",
     "output_type": "stream",
     "text": [
      "INFO:tensorflow:Assets written to: ./cp.ckpt/assets\n"
     ]
    },
    {
     "name": "stdout",
     "output_type": "stream",
     "text": [
      "317/317 [==============================] - 102s 322ms/step - loss: 0.0195 - mse: 7.6928e-04 - val_loss: 0.0157 - val_mse: 8.2410e-04 - lr: 3.0000e-04\n",
      "Epoch 37/50\n",
      "317/317 [==============================] - ETA: 0s - loss: 0.0191 - mse: 7.3907e-04\n",
      "Epoch 37: val_loss did not improve from 0.01568\n",
      "317/317 [==============================] - 97s 304ms/step - loss: 0.0191 - mse: 7.3907e-04 - val_loss: 0.0280 - val_mse: 0.0013 - lr: 3.0000e-04\n",
      "Epoch 38/50\n",
      "317/317 [==============================] - ETA: 0s - loss: 0.0191 - mse: 7.4288e-04\n",
      "Epoch 38: val_loss did not improve from 0.01568\n",
      "317/317 [==============================] - 96s 303ms/step - loss: 0.0191 - mse: 7.4288e-04 - val_loss: 0.0450 - val_mse: 0.0105 - lr: 3.0000e-04\n",
      "Epoch 39/50\n",
      "317/317 [==============================] - ETA: 0s - loss: 0.0194 - mse: 7.8640e-04\n",
      "Epoch 39: val_loss did not improve from 0.01568\n",
      "317/317 [==============================] - 97s 306ms/step - loss: 0.0194 - mse: 7.8640e-04 - val_loss: 0.0185 - val_mse: 5.6603e-04 - lr: 3.0000e-04\n",
      "Epoch 40/50\n",
      "317/317 [==============================] - ETA: 0s - loss: 0.0188 - mse: 7.0400e-04\n",
      "Epoch 40: val_loss did not improve from 0.01568\n",
      "317/317 [==============================] - 97s 305ms/step - loss: 0.0188 - mse: 7.0400e-04 - val_loss: 0.0290 - val_mse: 0.0015 - lr: 3.0000e-04\n",
      "Epoch 41/50\n",
      "317/317 [==============================] - ETA: 0s - loss: 0.0189 - mse: 7.2657e-04\n",
      "Epoch 41: val_loss did not improve from 0.01568\n",
      "317/317 [==============================] - 98s 309ms/step - loss: 0.0189 - mse: 7.2657e-04 - val_loss: 0.0264 - val_mse: 0.0012 - lr: 3.0000e-04\n",
      "Epoch 42/50\n",
      "317/317 [==============================] - ETA: 0s - loss: 0.0187 - mse: 7.0200e-04\n",
      "Epoch 42: val_loss did not improve from 0.01568\n",
      "317/317 [==============================] - 100s 316ms/step - loss: 0.0187 - mse: 7.0200e-04 - val_loss: 0.0818 - val_mse: 0.0096 - lr: 3.0000e-04\n",
      "Epoch 43/50\n",
      "317/317 [==============================] - ETA: 0s - loss: 0.0187 - mse: 7.0065e-04\n",
      "Epoch 43: val_loss did not improve from 0.01568\n",
      "317/317 [==============================] - 96s 303ms/step - loss: 0.0187 - mse: 7.0065e-04 - val_loss: 0.0458 - val_mse: 0.0030 - lr: 3.0000e-04\n",
      "Epoch 44/50\n",
      "317/317 [==============================] - ETA: 0s - loss: 0.0188 - mse: 7.2494e-04\n",
      "Epoch 44: val_loss did not improve from 0.01568\n",
      "317/317 [==============================] - 96s 302ms/step - loss: 0.0188 - mse: 7.2494e-04 - val_loss: 0.0832 - val_mse: 0.0085 - lr: 3.0000e-04\n",
      "Epoch 45/50\n",
      "317/317 [==============================] - ETA: 0s - loss: 0.0189 - mse: 6.9904e-04\n",
      "Epoch 45: val_loss improved from 0.01568 to 0.01505, saving model to ./cp.ckpt\n"
     ]
    },
    {
     "name": "stderr",
     "output_type": "stream",
     "text": [
      "WARNING:absl:Found untraced functions such as _jit_compiled_convolution_op, _jit_compiled_convolution_op, _jit_compiled_convolution_op, _jit_compiled_convolution_op, _jit_compiled_convolution_op while saving (showing 5 of 19). These functions will not be directly callable after loading.\n"
     ]
    },
    {
     "name": "stdout",
     "output_type": "stream",
     "text": [
      "INFO:tensorflow:Assets written to: ./cp.ckpt/assets\n"
     ]
    },
    {
     "name": "stderr",
     "output_type": "stream",
     "text": [
      "INFO:tensorflow:Assets written to: ./cp.ckpt/assets\n"
     ]
    },
    {
     "name": "stdout",
     "output_type": "stream",
     "text": [
      "317/317 [==============================] - 104s 327ms/step - loss: 0.0189 - mse: 6.9904e-04 - val_loss: 0.0151 - val_mse: 3.9375e-04 - lr: 3.0000e-04\n",
      "Epoch 46/50\n",
      "317/317 [==============================] - ETA: 0s - loss: 0.0184 - mse: 6.4824e-04\n",
      "Epoch 46: val_loss did not improve from 0.01505\n",
      "317/317 [==============================] - 96s 301ms/step - loss: 0.0184 - mse: 6.4824e-04 - val_loss: 0.0240 - val_mse: 0.0024 - lr: 3.0000e-04\n",
      "Epoch 47/50\n",
      "317/317 [==============================] - ETA: 0s - loss: 0.0180 - mse: 6.4009e-04\n",
      "Epoch 47: val_loss did not improve from 0.01505\n",
      "317/317 [==============================] - 96s 301ms/step - loss: 0.0180 - mse: 6.4009e-04 - val_loss: 0.0473 - val_mse: 0.0034 - lr: 3.0000e-04\n",
      "Epoch 48/50\n",
      "317/317 [==============================] - ETA: 0s - loss: 0.0181 - mse: 6.4299e-04\n",
      "Epoch 48: val_loss did not improve from 0.01505\n",
      "317/317 [==============================] - 96s 304ms/step - loss: 0.0181 - mse: 6.4299e-04 - val_loss: 0.0354 - val_mse: 0.0024 - lr: 3.0000e-04\n",
      "Epoch 49/50\n",
      "317/317 [==============================] - ETA: 0s - loss: 0.0180 - mse: 6.6016e-04\n",
      "Epoch 49: val_loss did not improve from 0.01505\n",
      "317/317 [==============================] - 98s 308ms/step - loss: 0.0180 - mse: 6.6016e-04 - val_loss: 0.0280 - val_mse: 0.0014 - lr: 3.0000e-04\n",
      "Epoch 50/50\n",
      "317/317 [==============================] - ETA: 0s - loss: 0.0184 - mse: 6.6571e-04\n",
      "Epoch 50: val_loss did not improve from 0.01505\n",
      "317/317 [==============================] - 97s 306ms/step - loss: 0.0184 - mse: 6.6571e-04 - val_loss: 0.0245 - val_mse: 0.0016 - lr: 3.0000e-04\n"
     ]
    },
    {
     "data": {
      "text/plain": [
       "<keras.callbacks.History at 0x7faab383ac40>"
      ]
     },
     "execution_count": 14,
     "metadata": {},
     "output_type": "execute_result"
    }
   ],
   "source": [
    "checkpoint_path = \"./cp.ckpt\"\n",
    "checkpoint_dir = os.path.dirname(checkpoint_path)\n",
    "\n",
    "# Create a callback that saves the model's weights\n",
    "cp_callback = tf.keras.callbacks.ModelCheckpoint(filepath=checkpoint_path,\n",
    "                                                 save_weights_only=False,\n",
    "                                                 monitor='val_loss',\n",
    "                                                 mode='min',\n",
    "                                                 verbose=1,\n",
    "                                                 save_best_only=True)\n",
    "\n",
    "model.fit(cmd_train, epochs=epochs, \n",
    "          callbacks=[tf.keras.callbacks.EarlyStopping(monitor='val_loss', patience=50, restore_best_weights=True), reduce_lr, cp_callback], \n",
    "          validation_data=cmd_val)"
   ]
  },
  {
   "cell_type": "code",
   "execution_count": 15,
   "metadata": {
    "id": "duAVufwQpJMF"
   },
   "outputs": [],
   "source": [
    "best_model = tf.keras.models.load_model(checkpoint_path)"
   ]
  },
  {
   "cell_type": "code",
   "execution_count": 16,
   "metadata": {},
   "outputs": [
    {
     "name": "stdout",
     "output_type": "stream",
     "text": [
      "6/6 [==============================] - 1s 33ms/step - loss: 0.0148 - mse: 3.8501e-04\n"
     ]
    },
    {
     "data": {
      "text/plain": [
       "[0.014783525839447975, 0.0003850134089589119]"
      ]
     },
     "execution_count": 16,
     "metadata": {},
     "output_type": "execute_result"
    }
   ],
   "source": [
    "best_model.evaluate(cmd_test)"
   ]
  },
  {
   "cell_type": "code",
   "execution_count": 17,
   "metadata": {},
   "outputs": [
    {
     "name": "stdout",
     "output_type": "stream",
     "text": [
      "6/6 [==============================] - 0s 29ms/step - loss: 0.0149 - mse: 3.8614e-04\n"
     ]
    },
    {
     "data": {
      "text/plain": [
       "[0.014883688651025295, 0.0003861438890453428]"
      ]
     },
     "execution_count": 17,
     "metadata": {},
     "output_type": "execute_result"
    }
   ],
   "source": [
    "best_model.evaluate(simba_test)"
   ]
  },
  {
   "cell_type": "code",
   "execution_count": 18,
   "metadata": {
    "colab": {
     "base_uri": "https://localhost:8080/"
    },
    "id": "zyYL-C2IpsdJ",
    "outputId": "debc9317-9229-48b1-caf6-6d91b336304f"
   },
   "outputs": [
    {
     "name": "stdout",
     "output_type": "stream",
     "text": [
      "6/6 [==============================] - 1s 24ms/step\n"
     ]
    }
   ],
   "source": [
    "yhat_cmd = best_model.predict(cmd_test)"
   ]
  },
  {
   "cell_type": "code",
   "execution_count": 19,
   "metadata": {},
   "outputs": [
    {
     "name": "stdout",
     "output_type": "stream",
     "text": [
      "6/6 [==============================] - 0s 26ms/step\n"
     ]
    }
   ],
   "source": [
    "yhat_simba = best_model.predict(simba_test)"
   ]
  },
  {
   "cell_type": "code",
   "execution_count": 20,
   "metadata": {},
   "outputs": [],
   "source": [
    "lbl_cmd = np.concatenate([y for x, y in cmd_test], axis=0)"
   ]
  },
  {
   "cell_type": "code",
   "execution_count": 21,
   "metadata": {},
   "outputs": [],
   "source": [
    "lbl_simba = np.concatenate([y for x, y in simba_test], axis=0)"
   ]
  },
  {
   "cell_type": "code",
   "execution_count": 22,
   "metadata": {},
   "outputs": [
    {
     "data": {
      "text/plain": [
       "(750, 1)"
      ]
     },
     "execution_count": 22,
     "metadata": {},
     "output_type": "execute_result"
    }
   ],
   "source": [
    "yhat_cmd.shape"
   ]
  },
  {
   "cell_type": "code",
   "execution_count": 23,
   "metadata": {},
   "outputs": [
    {
     "data": {
      "text/plain": [
       "(750, 1)"
      ]
     },
     "execution_count": 23,
     "metadata": {},
     "output_type": "execute_result"
    }
   ],
   "source": [
    "lbl_cmd.shape"
   ]
  },
  {
   "cell_type": "code",
   "execution_count": 24,
   "metadata": {},
   "outputs": [
    {
     "data": {
      "text/plain": [
       "0.018278563"
      ]
     },
     "execution_count": 24,
     "metadata": {},
     "output_type": "execute_result"
    }
   ],
   "source": [
    "np.mean(np.abs((lbl_cmd - yhat_cmd) / lbl_cmd))"
   ]
  },
  {
   "cell_type": "code",
   "execution_count": 25,
   "metadata": {},
   "outputs": [
    {
     "data": {
      "text/plain": [
       "0.018398995"
      ]
     },
     "execution_count": 25,
     "metadata": {},
     "output_type": "execute_result"
    }
   ],
   "source": [
    "np.mean(np.abs((lbl_simba - yhat_simba) / lbl_simba))"
   ]
  },
  {
   "cell_type": "code",
   "execution_count": 26,
   "metadata": {
    "colab": {
     "base_uri": "https://localhost:8080/",
     "height": 279
    },
    "id": "1aMYBd3eAaC-",
    "outputId": "2bd87b64-61e0-49eb-87b9-fcbf03787b65"
   },
   "outputs": [
    {
     "data": {
      "image/png": "[encoded data removed]",
      "text/plain": [
       "<Figure size 640x480 with 1 Axes>"
      ]
     },
     "metadata": {},
     "output_type": "display_data"
    }
   ],
   "source": [
    "plt.scatter(lbl_cmd, yhat_cmd, s=2)\n",
    "plt.xlabel('Ground truth')\n",
    "plt.ylabel('Prediction')\n",
    "\n",
    "plt.show()"
   ]
  },
  {
   "cell_type": "code",
   "execution_count": null,
   "metadata": {
    "id": "uKjhFT22owRn"
   },
   "outputs": [],
   "source": []
  }
 ],
 "metadata": {
  "accelerator": "GPU",
  "colab": {
   "machine_shape": "hm",
   "provenance": []
  },
  "gpuClass": "premium",
  "kernelspec": {
   "display_name": "Python 3 (ipykernel)",
   "language": "python",
   "name": "python3"
  },
  "language_info": {
   "codemirror_mode": {
    "name": "ipython",
    "version": 3
   },
   "file_extension": ".py",
   "mimetype": "text/x-python",
   "name": "python",
   "nbconvert_exporter": "python",
   "pygments_lexer": "ipython3",
   "version": "3.8.10"
  },
  "widgets": {
   "application/vnd.jupyter.widget-state+json": {
    "01568546218f4928a7f72f8e6f6699ca": {
     "model_module": "@jupyter-widgets/controls",
     "model_module_version": "1.5.0",
     "model_name": "HTMLModel",
     "state": {
      "_dom_classes": [],
      "_model_module": "@jupyter-widgets/controls",
      "_model_module_version": "1.5.0",
      "_model_name": "HTMLModel",
      "_view_count": null,
      "_view_module": "@jupyter-widgets/controls",
      "_view_module_version": "1.5.0",
      "_view_name": "HTMLView",
      "description": "",
      "description_tooltip": null,
      "layout": "IPY_MODEL_685122aa9c4b430db69bebefe5de7f4e",
      "placeholder": "​",
      "style": "IPY_MODEL_5297fa26f6ed40cdbc9fd64182722f96",
      "value": "Generating splits...: 100%"
     }
    },
    "0872bf294f534b48be0ba0a5f84b7649": {
     "model_module": "@jupyter-widgets/controls",
     "model_module_version": "1.5.0",
     "model_name": "FloatProgressModel",
     "state": {
      "_dom_classes": [],
      "_model_module": "@jupyter-widgets/controls",
      "_model_module_version": "1.5.0",
      "_model_name": "FloatProgressModel",
      "_view_count": null,
      "_view_module": "@jupyter-widgets/controls",
      "_view_module_version": "1.5.0",
      "_view_name": "ProgressView",
      "bar_style": "success",
      "description": "",
      "description_tooltip": null,
      "layout": "IPY_MODEL_94719df8ea7746c2aa8912bb3953f907",
      "max": 1,
      "min": 0,
      "orientation": "horizontal",
      "style": "IPY_MODEL_109bd6a97a7747aa91e509d8efe664e5",
      "value": 1
     }
    },
    "08791d4e234a45b2b7f6c43886e263e1": {
     "model_module": "@jupyter-widgets/controls",
     "model_module_version": "1.5.0",
     "model_name": "DescriptionStyleModel",
     "state": {
      "_model_module": "@jupyter-widgets/controls",
      "_model_module_version": "1.5.0",
      "_model_name": "DescriptionStyleModel",
      "_view_count": null,
      "_view_module": "@jupyter-widgets/base",
      "_view_module_version": "1.2.0",
      "_view_name": "StyleView",
      "description_width": ""
     }
    },
    "109bd6a97a7747aa91e509d8efe664e5": {
     "model_module": "@jupyter-widgets/controls",
     "model_module_version": "1.5.0",
     "model_name": "ProgressStyleModel",
     "state": {
      "_model_module": "@jupyter-widgets/controls",
      "_model_module_version": "1.5.0",
      "_model_name": "ProgressStyleModel",
      "_view_count": null,
      "_view_module": "@jupyter-widgets/base",
      "_view_module_version": "1.2.0",
      "_view_name": "StyleView",
      "bar_color": null,
      "description_width": ""
     }
    },
    "1320b32751504bc8ad7726fd1d111120": {
     "model_module": "@jupyter-widgets/base",
     "model_module_version": "1.2.0",
     "model_name": "LayoutModel",
     "state": {
      "_model_module": "@jupyter-widgets/base",
      "_model_module_version": "1.2.0",
      "_model_name": "LayoutModel",
      "_view_count": null,
      "_view_module": "@jupyter-widgets/base",
      "_view_module_version": "1.2.0",
      "_view_name": "LayoutView",
      "align_content": null,
      "align_items": null,
      "align_self": null,
      "border": null,
      "bottom": null,
      "display": null,
      "flex": null,
      "flex_flow": null,
      "grid_area": null,
      "grid_auto_columns": null,
      "grid_auto_flow": null,
      "grid_auto_rows": null,
      "grid_column": null,
      "grid_gap": null,
      "grid_row": null,
      "grid_template_areas": null,
      "grid_template_columns": null,
      "grid_template_rows": null,
      "height": null,
      "justify_content": null,
      "justify_items": null,
      "left": null,
      "margin": null,
      "max_height": null,
      "max_width": null,
      "min_height": null,
      "min_width": null,
      "object_fit": null,
      "object_position": null,
      "order": null,
      "overflow": null,
      "overflow_x": null,
      "overflow_y": null,
      "padding": null,
      "right": null,
      "top": null,
      "visibility": null,
      "width": null
     }
    },
    "13ae8348717048bfafef5c6846542cf3": {
     "model_module": "@jupyter-widgets/controls",
     "model_module_version": "1.5.0",
     "model_name": "HTMLModel",
     "state": {
      "_dom_classes": [],
      "_model_module": "@jupyter-widgets/controls",
      "_model_module_version": "1.5.0",
      "_model_name": "HTMLModel",
      "_view_count": null,
      "_view_module": "@jupyter-widgets/controls",
      "_view_module_version": "1.5.0",
      "_view_name": "HTMLView",
      "description": "",
      "description_tooltip": null,
      "layout": "IPY_MODEL_b0b05e12268840799d5e862be43d279e",
      "placeholder": "​",
      "style": "IPY_MODEL_e4844600a61548eda30d5c07ac5f4a2e",
      "value": " 1/1 [10:38&lt;00:00, 638.13s/ url]"
     }
    },
    "13cab7b0fa28447faac12aa2decd5798": {
     "model_module": "@jupyter-widgets/base",
     "model_module_version": "1.2.0",
     "model_name": "LayoutModel",
     "state": {
      "_model_module": "@jupyter-widgets/base",
      "_model_module_version": "1.2.0",
      "_model_name": "LayoutModel",
      "_view_count": null,
      "_view_module": "@jupyter-widgets/base",
      "_view_module_version": "1.2.0",
      "_view_name": "LayoutView",
      "align_content": null,
      "align_items": null,
      "align_self": null,
      "border": null,
      "bottom": null,
      "display": null,
      "flex": null,
      "flex_flow": null,
      "grid_area": null,
      "grid_auto_columns": null,
      "grid_auto_flow": null,
      "grid_auto_rows": null,
      "grid_column": null,
      "grid_gap": null,
      "grid_row": null,
      "grid_template_areas": null,
      "grid_template_columns": null,
      "grid_template_rows": null,
      "height": null,
      "justify_content": null,
      "justify_items": null,
      "left": null,
      "margin": null,
      "max_height": null,
      "max_width": null,
      "min_height": null,
      "min_width": null,
      "object_fit": null,
      "object_position": null,
      "order": null,
      "overflow": null,
      "overflow_x": null,
      "overflow_y": null,
      "padding": null,
      "right": null,
      "top": null,
      "visibility": null,
      "width": null
     }
    },
    "16d7612c9cc14fb6a1be19f22e44c19f": {
     "model_module": "@jupyter-widgets/controls",
     "model_module_version": "1.5.0",
     "model_name": "HBoxModel",
     "state": {
      "_dom_classes": [],
      "_model_module": "@jupyter-widgets/controls",
      "_model_module_version": "1.5.0",
      "_model_name": "HBoxModel",
      "_view_count": null,
      "_view_module": "@jupyter-widgets/controls",
      "_view_module_version": "1.5.0",
      "_view_name": "HBoxView",
      "box_style": "",
      "children": [
       "IPY_MODEL_6df7d0d4cdb24af3bcf11445d9daccb6",
       "IPY_MODEL_c4754680e4f440c8baf0a3234246f6fb",
       "IPY_MODEL_bbaa93e9116442c5b4b285f9f04d82c5"
      ],
      "layout": "IPY_MODEL_a12eb51368f7485a9034687df6b9de9e"
     }
    },
    "18b75c6a88ff4991a38e054817811b4d": {
     "model_module": "@jupyter-widgets/controls",
     "model_module_version": "1.5.0",
     "model_name": "FloatProgressModel",
     "state": {
      "_dom_classes": [],
      "_model_module": "@jupyter-widgets/controls",
      "_model_module_version": "1.5.0",
      "_model_name": "FloatProgressModel",
      "_view_count": null,
      "_view_module": "@jupyter-widgets/controls",
      "_view_module_version": "1.5.0",
      "_view_name": "ProgressView",
      "bar_style": "",
      "description": "",
      "description_tooltip": null,
      "layout": "IPY_MODEL_8fa534e92adc4859a5c96fb44b2cf9a9",
      "max": 15000,
      "min": 0,
      "orientation": "horizontal",
      "style": "IPY_MODEL_eca37a59620c4475b41e207465b53db8",
      "value": 15000
     }
    },
    "1df0254f514640e6a2d4934e51b2605d": {
     "model_module": "@jupyter-widgets/base",
     "model_module_version": "1.2.0",
     "model_name": "LayoutModel",
     "state": {
      "_model_module": "@jupyter-widgets/base",
      "_model_module_version": "1.2.0",
      "_model_name": "LayoutModel",
      "_view_count": null,
      "_view_module": "@jupyter-widgets/base",
      "_view_module_version": "1.2.0",
      "_view_name": "LayoutView",
      "align_content": null,
      "align_items": null,
      "align_self": null,
      "border": null,
      "bottom": null,
      "display": null,
      "flex": null,
      "flex_flow": null,
      "grid_area": null,
      "grid_auto_columns": null,
      "grid_auto_flow": null,
      "grid_auto_rows": null,
      "grid_column": null,
      "grid_gap": null,
      "grid_row": null,
      "grid_template_areas": null,
      "grid_template_columns": null,
      "grid_template_rows": null,
      "height": null,
      "justify_content": null,
      "justify_items": null,
      "left": null,
      "margin": null,
      "max_height": null,
      "max_width": null,
      "min_height": null,
      "min_width": null,
      "object_fit": null,
      "object_position": null,
      "order": null,
      "overflow": null,
      "overflow_x": null,
      "overflow_y": null,
      "padding": null,
      "right": null,
      "top": null,
      "visibility": null,
      "width": "20px"
     }
    },
    "1efa77f99c2e4edc871818811c49efef": {
     "model_module": "@jupyter-widgets/base",
     "model_module_version": "1.2.0",
     "model_name": "LayoutModel",
     "state": {
      "_model_module": "@jupyter-widgets/base",
      "_model_module_version": "1.2.0",
      "_model_name": "LayoutModel",
      "_view_count": null,
      "_view_module": "@jupyter-widgets/base",
      "_view_module_version": "1.2.0",
      "_view_name": "LayoutView",
      "align_content": null,
      "align_items": null,
      "align_self": null,
      "border": null,
      "bottom": null,
      "display": null,
      "flex": null,
      "flex_flow": null,
      "grid_area": null,
      "grid_auto_columns": null,
      "grid_auto_flow": null,
      "grid_auto_rows": null,
      "grid_column": null,
      "grid_gap": null,
      "grid_row": null,
      "grid_template_areas": null,
      "grid_template_columns": null,
      "grid_template_rows": null,
      "height": null,
      "justify_content": null,
      "justify_items": null,
      "left": null,
      "margin": null,
      "max_height": null,
      "max_width": null,
      "min_height": null,
      "min_width": null,
      "object_fit": null,
      "object_position": null,
      "order": null,
      "overflow": null,
      "overflow_x": null,
      "overflow_y": null,
      "padding": null,
      "right": null,
      "top": null,
      "visibility": null,
      "width": null
     }
    },
    "207dce1ab2db4c448a36717026924a8d": {
     "model_module": "@jupyter-widgets/controls",
     "model_module_version": "1.5.0",
     "model_name": "DescriptionStyleModel",
     "state": {
      "_model_module": "@jupyter-widgets/controls",
      "_model_module_version": "1.5.0",
      "_model_name": "DescriptionStyleModel",
      "_view_count": null,
      "_view_module": "@jupyter-widgets/base",
      "_view_module_version": "1.2.0",
      "_view_name": "StyleView",
      "description_width": ""
     }
    },
    "23b38a0f45234ba082e08ae247d27333": {
     "model_module": "@jupyter-widgets/controls",
     "model_module_version": "1.5.0",
     "model_name": "DescriptionStyleModel",
     "state": {
      "_model_module": "@jupyter-widgets/controls",
      "_model_module_version": "1.5.0",
      "_model_name": "DescriptionStyleModel",
      "_view_count": null,
      "_view_module": "@jupyter-widgets/base",
      "_view_module_version": "1.2.0",
      "_view_name": "StyleView",
      "description_width": ""
     }
    },
    "2a8c41ede77143768fcedeb9d806c90f": {
     "model_module": "@jupyter-widgets/controls",
     "model_module_version": "1.5.0",
     "model_name": "HTMLModel",
     "state": {
      "_dom_classes": [],
      "_model_module": "@jupyter-widgets/controls",
      "_model_module_version": "1.5.0",
      "_model_name": "HTMLModel",
      "_view_count": null,
      "_view_module": "@jupyter-widgets/controls",
      "_view_module_version": "1.5.0",
      "_view_name": "HTMLView",
      "description": "",
      "description_tooltip": null,
      "layout": "IPY_MODEL_b66ec565cfd14ede8fe904b6160221c3",
      "placeholder": "​",
      "style": "IPY_MODEL_08791d4e234a45b2b7f6c43886e263e1",
      "value": " 3750/3750 [10:38&lt;00:00,  6.12 MiB/s]"
     }
    },
    "2e476b93d7b04fcaa6c26abc4ea654c1": {
     "model_module": "@jupyter-widgets/controls",
     "model_module_version": "1.5.0",
     "model_name": "FloatProgressModel",
     "state": {
      "_dom_classes": [],
      "_model_module": "@jupyter-widgets/controls",
      "_model_module_version": "1.5.0",
      "_model_name": "FloatProgressModel",
      "_view_count": null,
      "_view_module": "@jupyter-widgets/controls",
      "_view_module_version": "1.5.0",
      "_view_name": "ProgressView",
      "bar_style": "success",
      "description": "",
      "description_tooltip": null,
      "layout": "IPY_MODEL_e4f4a9a4f1d04b10949f6d6835a45204",
      "max": 1,
      "min": 0,
      "orientation": "horizontal",
      "style": "IPY_MODEL_6cdafb9e533f424f872c37c13c41225c",
      "value": 1
     }
    },
    "2e8f7c4f316246ac9acd897cbfc28bf1": {
     "model_module": "@jupyter-widgets/controls",
     "model_module_version": "1.5.0",
     "model_name": "HTMLModel",
     "state": {
      "_dom_classes": [],
      "_model_module": "@jupyter-widgets/controls",
      "_model_module_version": "1.5.0",
      "_model_name": "HTMLModel",
      "_view_count": null,
      "_view_module": "@jupyter-widgets/controls",
      "_view_module_version": "1.5.0",
      "_view_name": "HTMLView",
      "description": "",
      "description_tooltip": null,
      "layout": "IPY_MODEL_fafa794250c84144ae94ca6ff6fbeb92",
      "placeholder": "​",
      "style": "IPY_MODEL_82c21583518440a1a3079f7ee2114240",
      "value": " 1/1 [00:01&lt;00:00,  1.51s/ url]"
     }
    },
    "2f7eac50cf6c4658aa12b9e633bd8ab2": {
     "model_module": "@jupyter-widgets/base",
     "model_module_version": "1.2.0",
     "model_name": "LayoutModel",
     "state": {
      "_model_module": "@jupyter-widgets/base",
      "_model_module_version": "1.2.0",
      "_model_name": "LayoutModel",
      "_view_count": null,
      "_view_module": "@jupyter-widgets/base",
      "_view_module_version": "1.2.0",
      "_view_name": "LayoutView",
      "align_content": null,
      "align_items": null,
      "align_self": null,
      "border": null,
      "bottom": null,
      "display": null,
      "flex": null,
      "flex_flow": null,
      "grid_area": null,
      "grid_auto_columns": null,
      "grid_auto_flow": null,
      "grid_auto_rows": null,
      "grid_column": null,
      "grid_gap": null,
      "grid_row": null,
      "grid_template_areas": null,
      "grid_template_columns": null,
      "grid_template_rows": null,
      "height": null,
      "justify_content": null,
      "justify_items": null,
      "left": null,
      "margin": null,
      "max_height": null,
      "max_width": null,
      "min_height": null,
      "min_width": null,
      "object_fit": null,
      "object_position": null,
      "order": null,
      "overflow": null,
      "overflow_x": null,
      "overflow_y": null,
      "padding": null,
      "right": null,
      "top": null,
      "visibility": null,
      "width": null
     }
    },
    "30741f50a0a54d90827fa5a1136eb425": {
     "model_module": "@jupyter-widgets/base",
     "model_module_version": "1.2.0",
     "model_name": "LayoutModel",
     "state": {
      "_model_module": "@jupyter-widgets/base",
      "_model_module_version": "1.2.0",
      "_model_name": "LayoutModel",
      "_view_count": null,
      "_view_module": "@jupyter-widgets/base",
      "_view_module_version": "1.2.0",
      "_view_name": "LayoutView",
      "align_content": null,
      "align_items": null,
      "align_self": null,
      "border": null,
      "bottom": null,
      "display": null,
      "flex": null,
      "flex_flow": null,
      "grid_area": null,
      "grid_auto_columns": null,
      "grid_auto_flow": null,
      "grid_auto_rows": null,
      "grid_column": null,
      "grid_gap": null,
      "grid_row": null,
      "grid_template_areas": null,
      "grid_template_columns": null,
      "grid_template_rows": null,
      "height": null,
      "justify_content": null,
      "justify_items": null,
      "left": null,
      "margin": null,
      "max_height": null,
      "max_width": null,
      "min_height": null,
      "min_width": null,
      "object_fit": null,
      "object_position": null,
      "order": null,
      "overflow": null,
      "overflow_x": null,
      "overflow_y": null,
      "padding": null,
      "right": null,
      "top": null,
      "visibility": "hidden",
      "width": null
     }
    },
    "32b8754d61a645ec8fd53e6700822281": {
     "model_module": "@jupyter-widgets/controls",
     "model_module_version": "1.5.0",
     "model_name": "HTMLModel",
     "state": {
      "_dom_classes": [],
      "_model_module": "@jupyter-widgets/controls",
      "_model_module_version": "1.5.0",
      "_model_name": "HTMLModel",
      "_view_count": null,
      "_view_module": "@jupyter-widgets/controls",
      "_view_module_version": "1.5.0",
      "_view_name": "HTMLView",
      "description": "",
      "description_tooltip": null,
      "layout": "IPY_MODEL_a61514e113cf4e18b729cf19b0dd2ad6",
      "placeholder": "​",
      "style": "IPY_MODEL_aac206b12c184e3183198aaa4421d38d",
      "value": "Generating train examples...: "
     }
    },
    "3536c6f894074e36a6b105877660198b": {
     "model_module": "@jupyter-widgets/controls",
     "model_module_version": "1.5.0",
     "model_name": "HBoxModel",
     "state": {
      "_dom_classes": [],
      "_model_module": "@jupyter-widgets/controls",
      "_model_module_version": "1.5.0",
      "_model_name": "HBoxModel",
      "_view_count": null,
      "_view_module": "@jupyter-widgets/controls",
      "_view_module_version": "1.5.0",
      "_view_name": "HBoxView",
      "box_style": "",
      "children": [
       "IPY_MODEL_b66a839a14c746d182580fd2aa88cf07",
       "IPY_MODEL_2e476b93d7b04fcaa6c26abc4ea654c1",
       "IPY_MODEL_2a8c41ede77143768fcedeb9d806c90f"
      ],
      "layout": "IPY_MODEL_8585a478dec043aab9ec973f182b6b20"
     }
    },
    "36bb4ba67fe2493b9bfac92c64a6179e": {
     "model_module": "@jupyter-widgets/controls",
     "model_module_version": "1.5.0",
     "model_name": "HTMLModel",
     "state": {
      "_dom_classes": [],
      "_model_module": "@jupyter-widgets/controls",
      "_model_module_version": "1.5.0",
      "_model_name": "HTMLModel",
      "_view_count": null,
      "_view_module": "@jupyter-widgets/controls",
      "_view_module_version": "1.5.0",
      "_view_name": "HTMLView",
      "description": "",
      "description_tooltip": null,
      "layout": "IPY_MODEL_e7995821c28d4aa0a7724c9fbb831046",
      "placeholder": "​",
      "style": "IPY_MODEL_9ed72f6f5f1840d1aeb271af38eaa5e0",
      "value": " 14996/? [03:54&lt;00:00, 67.12 examples/s]"
     }
    },
    "3b68968364324cd48e16f5d1e647fccb": {
     "model_module": "@jupyter-widgets/controls",
     "model_module_version": "1.5.0",
     "model_name": "HBoxModel",
     "state": {
      "_dom_classes": [],
      "_model_module": "@jupyter-widgets/controls",
      "_model_module_version": "1.5.0",
      "_model_name": "HBoxModel",
      "_view_count": null,
      "_view_module": "@jupyter-widgets/controls",
      "_view_module_version": "1.5.0",
      "_view_name": "HBoxView",
      "box_style": "",
      "children": [
       "IPY_MODEL_5cb92045903143138d75ffbf3260b129",
       "IPY_MODEL_0872bf294f534b48be0ba0a5f84b7649",
       "IPY_MODEL_2e8f7c4f316246ac9acd897cbfc28bf1"
      ],
      "layout": "IPY_MODEL_1efa77f99c2e4edc871818811c49efef"
     }
    },
    "3d8d1de2d6774f1ca27b6641b098401e": {
     "model_module": "@jupyter-widgets/base",
     "model_module_version": "1.2.0",
     "model_name": "LayoutModel",
     "state": {
      "_model_module": "@jupyter-widgets/base",
      "_model_module_version": "1.2.0",
      "_model_name": "LayoutModel",
      "_view_count": null,
      "_view_module": "@jupyter-widgets/base",
      "_view_module_version": "1.2.0",
      "_view_name": "LayoutView",
      "align_content": null,
      "align_items": null,
      "align_self": null,
      "border": null,
      "bottom": null,
      "display": null,
      "flex": null,
      "flex_flow": null,
      "grid_area": null,
      "grid_auto_columns": null,
      "grid_auto_flow": null,
      "grid_auto_rows": null,
      "grid_column": null,
      "grid_gap": null,
      "grid_row": null,
      "grid_template_areas": null,
      "grid_template_columns": null,
      "grid_template_rows": null,
      "height": null,
      "justify_content": null,
      "justify_items": null,
      "left": null,
      "margin": null,
      "max_height": null,
      "max_width": null,
      "min_height": null,
      "min_width": null,
      "object_fit": null,
      "object_position": null,
      "order": null,
      "overflow": null,
      "overflow_x": null,
      "overflow_y": null,
      "padding": null,
      "right": null,
      "top": null,
      "visibility": null,
      "width": null
     }
    },
    "44f9a2e27198421e982321b23aad0532": {
     "model_module": "@jupyter-widgets/controls",
     "model_module_version": "1.5.0",
     "model_name": "FloatProgressModel",
     "state": {
      "_dom_classes": [],
      "_model_module": "@jupyter-widgets/controls",
      "_model_module_version": "1.5.0",
      "_model_name": "FloatProgressModel",
      "_view_count": null,
      "_view_module": "@jupyter-widgets/controls",
      "_view_module_version": "1.5.0",
      "_view_name": "ProgressView",
      "bar_style": "success",
      "description": "",
      "description_tooltip": null,
      "layout": "IPY_MODEL_1df0254f514640e6a2d4934e51b2605d",
      "max": 1,
      "min": 0,
      "orientation": "horizontal",
      "style": "IPY_MODEL_8736be90c95c43bd973e57321b129b3b",
      "value": 1
     }
    },
    "5297fa26f6ed40cdbc9fd64182722f96": {
     "model_module": "@jupyter-widgets/controls",
     "model_module_version": "1.5.0",
     "model_name": "DescriptionStyleModel",
     "state": {
      "_model_module": "@jupyter-widgets/controls",
      "_model_module_version": "1.5.0",
      "_model_name": "DescriptionStyleModel",
      "_view_count": null,
      "_view_module": "@jupyter-widgets/base",
      "_view_module_version": "1.2.0",
      "_view_name": "StyleView",
      "description_width": ""
     }
    },
    "54c5eb9612514a799fa376478e572c29": {
     "model_module": "@jupyter-widgets/controls",
     "model_module_version": "1.5.0",
     "model_name": "DescriptionStyleModel",
     "state": {
      "_model_module": "@jupyter-widgets/controls",
      "_model_module_version": "1.5.0",
      "_model_name": "DescriptionStyleModel",
      "_view_count": null,
      "_view_module": "@jupyter-widgets/base",
      "_view_module_version": "1.2.0",
      "_view_name": "StyleView",
      "description_width": ""
     }
    },
    "59d08cffe4604c0a88b54875f06db5ca": {
     "model_module": "@jupyter-widgets/base",
     "model_module_version": "1.2.0",
     "model_name": "LayoutModel",
     "state": {
      "_model_module": "@jupyter-widgets/base",
      "_model_module_version": "1.2.0",
      "_model_name": "LayoutModel",
      "_view_count": null,
      "_view_module": "@jupyter-widgets/base",
      "_view_module_version": "1.2.0",
      "_view_name": "LayoutView",
      "align_content": null,
      "align_items": null,
      "align_self": null,
      "border": null,
      "bottom": null,
      "display": null,
      "flex": null,
      "flex_flow": null,
      "grid_area": null,
      "grid_auto_columns": null,
      "grid_auto_flow": null,
      "grid_auto_rows": null,
      "grid_column": null,
      "grid_gap": null,
      "grid_row": null,
      "grid_template_areas": null,
      "grid_template_columns": null,
      "grid_template_rows": null,
      "height": null,
      "justify_content": null,
      "justify_items": null,
      "left": null,
      "margin": null,
      "max_height": null,
      "max_width": null,
      "min_height": null,
      "min_width": null,
      "object_fit": null,
      "object_position": null,
      "order": null,
      "overflow": null,
      "overflow_x": null,
      "overflow_y": null,
      "padding": null,
      "right": null,
      "top": null,
      "visibility": null,
      "width": null
     }
    },
    "5cb92045903143138d75ffbf3260b129": {
     "model_module": "@jupyter-widgets/controls",
     "model_module_version": "1.5.0",
     "model_name": "HTMLModel",
     "state": {
      "_dom_classes": [],
      "_model_module": "@jupyter-widgets/controls",
      "_model_module_version": "1.5.0",
      "_model_name": "HTMLModel",
      "_view_count": null,
      "_view_module": "@jupyter-widgets/controls",
      "_view_module_version": "1.5.0",
      "_view_name": "HTMLView",
      "description": "",
      "description_tooltip": null,
      "layout": "IPY_MODEL_c7c1e696f7164102804ba95e015a9682",
      "placeholder": "​",
      "style": "IPY_MODEL_54c5eb9612514a799fa376478e572c29",
      "value": "Dl Completed...: 100%"
     }
    },
    "6345bcc451e047539f07a1d2378f6f2e": {
     "model_module": "@jupyter-widgets/controls",
     "model_module_version": "1.5.0",
     "model_name": "DescriptionStyleModel",
     "state": {
      "_model_module": "@jupyter-widgets/controls",
      "_model_module_version": "1.5.0",
      "_model_name": "DescriptionStyleModel",
      "_view_count": null,
      "_view_module": "@jupyter-widgets/base",
      "_view_module_version": "1.2.0",
      "_view_name": "StyleView",
      "description_width": ""
     }
    },
    "63a1f50e64874294bb48ba88d78c06f8": {
     "model_module": "@jupyter-widgets/base",
     "model_module_version": "1.2.0",
     "model_name": "LayoutModel",
     "state": {
      "_model_module": "@jupyter-widgets/base",
      "_model_module_version": "1.2.0",
      "_model_name": "LayoutModel",
      "_view_count": null,
      "_view_module": "@jupyter-widgets/base",
      "_view_module_version": "1.2.0",
      "_view_name": "LayoutView",
      "align_content": null,
      "align_items": null,
      "align_self": null,
      "border": null,
      "bottom": null,
      "display": null,
      "flex": null,
      "flex_flow": null,
      "grid_area": null,
      "grid_auto_columns": null,
      "grid_auto_flow": null,
      "grid_auto_rows": null,
      "grid_column": null,
      "grid_gap": null,
      "grid_row": null,
      "grid_template_areas": null,
      "grid_template_columns": null,
      "grid_template_rows": null,
      "height": null,
      "justify_content": null,
      "justify_items": null,
      "left": null,
      "margin": null,
      "max_height": null,
      "max_width": null,
      "min_height": null,
      "min_width": null,
      "object_fit": null,
      "object_position": null,
      "order": null,
      "overflow": null,
      "overflow_x": null,
      "overflow_y": null,
      "padding": null,
      "right": null,
      "top": null,
      "visibility": null,
      "width": null
     }
    },
    "675c125c6b094e3684e7be8363e5ab0b": {
     "model_module": "@jupyter-widgets/controls",
     "model_module_version": "1.5.0",
     "model_name": "DescriptionStyleModel",
     "state": {
      "_model_module": "@jupyter-widgets/controls",
      "_model_module_version": "1.5.0",
      "_model_name": "DescriptionStyleModel",
      "_view_count": null,
      "_view_module": "@jupyter-widgets/base",
      "_view_module_version": "1.2.0",
      "_view_name": "StyleView",
      "description_width": ""
     }
    },
    "685122aa9c4b430db69bebefe5de7f4e": {
     "model_module": "@jupyter-widgets/base",
     "model_module_version": "1.2.0",
     "model_name": "LayoutModel",
     "state": {
      "_model_module": "@jupyter-widgets/base",
      "_model_module_version": "1.2.0",
      "_model_name": "LayoutModel",
      "_view_count": null,
      "_view_module": "@jupyter-widgets/base",
      "_view_module_version": "1.2.0",
      "_view_name": "LayoutView",
      "align_content": null,
      "align_items": null,
      "align_self": null,
      "border": null,
      "bottom": null,
      "display": null,
      "flex": null,
      "flex_flow": null,
      "grid_area": null,
      "grid_auto_columns": null,
      "grid_auto_flow": null,
      "grid_auto_rows": null,
      "grid_column": null,
      "grid_gap": null,
      "grid_row": null,
      "grid_template_areas": null,
      "grid_template_columns": null,
      "grid_template_rows": null,
      "height": null,
      "justify_content": null,
      "justify_items": null,
      "left": null,
      "margin": null,
      "max_height": null,
      "max_width": null,
      "min_height": null,
      "min_width": null,
      "object_fit": null,
      "object_position": null,
      "order": null,
      "overflow": null,
      "overflow_x": null,
      "overflow_y": null,
      "padding": null,
      "right": null,
      "top": null,
      "visibility": null,
      "width": null
     }
    },
    "6cdafb9e533f424f872c37c13c41225c": {
     "model_module": "@jupyter-widgets/controls",
     "model_module_version": "1.5.0",
     "model_name": "ProgressStyleModel",
     "state": {
      "_model_module": "@jupyter-widgets/controls",
      "_model_module_version": "1.5.0",
      "_model_name": "ProgressStyleModel",
      "_view_count": null,
      "_view_module": "@jupyter-widgets/base",
      "_view_module_version": "1.2.0",
      "_view_name": "StyleView",
      "bar_color": null,
      "description_width": ""
     }
    },
    "6df7d0d4cdb24af3bcf11445d9daccb6": {
     "model_module": "@jupyter-widgets/controls",
     "model_module_version": "1.5.0",
     "model_name": "HTMLModel",
     "state": {
      "_dom_classes": [],
      "_model_module": "@jupyter-widgets/controls",
      "_model_module_version": "1.5.0",
      "_model_name": "HTMLModel",
      "_view_count": null,
      "_view_module": "@jupyter-widgets/controls",
      "_view_module_version": "1.5.0",
      "_view_name": "HTMLView",
      "description": "",
      "description_tooltip": null,
      "layout": "IPY_MODEL_63a1f50e64874294bb48ba88d78c06f8",
      "placeholder": "​",
      "style": "IPY_MODEL_207dce1ab2db4c448a36717026924a8d",
      "value": "Dl Size...: "
     }
    },
    "748bc322693743bf9c6c3f2a10c916ed": {
     "model_module": "@jupyter-widgets/base",
     "model_module_version": "1.2.0",
     "model_name": "LayoutModel",
     "state": {
      "_model_module": "@jupyter-widgets/base",
      "_model_module_version": "1.2.0",
      "_model_name": "LayoutModel",
      "_view_count": null,
      "_view_module": "@jupyter-widgets/base",
      "_view_module_version": "1.2.0",
      "_view_name": "LayoutView",
      "align_content": null,
      "align_items": null,
      "align_self": null,
      "border": null,
      "bottom": null,
      "display": null,
      "flex": null,
      "flex_flow": null,
      "grid_area": null,
      "grid_auto_columns": null,
      "grid_auto_flow": null,
      "grid_auto_rows": null,
      "grid_column": null,
      "grid_gap": null,
      "grid_row": null,
      "grid_template_areas": null,
      "grid_template_columns": null,
      "grid_template_rows": null,
      "height": null,
      "justify_content": null,
      "justify_items": null,
      "left": null,
      "margin": null,
      "max_height": null,
      "max_width": null,
      "min_height": null,
      "min_width": null,
      "object_fit": null,
      "object_position": null,
      "order": null,
      "overflow": null,
      "overflow_x": null,
      "overflow_y": null,
      "padding": null,
      "right": null,
      "top": null,
      "visibility": "hidden",
      "width": null
     }
    },
    "7e12b19887004581b5dd961c769da7f5": {
     "model_module": "@jupyter-widgets/controls",
     "model_module_version": "1.5.0",
     "model_name": "HTMLModel",
     "state": {
      "_dom_classes": [],
      "_model_module": "@jupyter-widgets/controls",
      "_model_module_version": "1.5.0",
      "_model_name": "HTMLModel",
      "_view_count": null,
      "_view_module": "@jupyter-widgets/controls",
      "_view_module_version": "1.5.0",
      "_view_name": "HTMLView",
      "description": "",
      "description_tooltip": null,
      "layout": "IPY_MODEL_c7e7c23921cb471ebd5209312983917e",
      "placeholder": "​",
      "style": "IPY_MODEL_8262f53b95a94fdc8ed0e902a1db79bf",
      "value": "Shuffling /root/tensorflow_datasets/Nbody_IllustrisTNG_Mtot_omegam/cmd/1.0.4.incompleteTGJQNG/cmd-train.tfrecord*...: 100%"
     }
    },
    "8262f53b95a94fdc8ed0e902a1db79bf": {
     "model_module": "@jupyter-widgets/controls",
     "model_module_version": "1.5.0",
     "model_name": "DescriptionStyleModel",
     "state": {
      "_model_module": "@jupyter-widgets/controls",
      "_model_module_version": "1.5.0",
      "_model_name": "DescriptionStyleModel",
      "_view_count": null,
      "_view_module": "@jupyter-widgets/base",
      "_view_module_version": "1.2.0",
      "_view_name": "StyleView",
      "description_width": ""
     }
    },
    "82c21583518440a1a3079f7ee2114240": {
     "model_module": "@jupyter-widgets/controls",
     "model_module_version": "1.5.0",
     "model_name": "DescriptionStyleModel",
     "state": {
      "_model_module": "@jupyter-widgets/controls",
      "_model_module_version": "1.5.0",
      "_model_name": "DescriptionStyleModel",
      "_view_count": null,
      "_view_module": "@jupyter-widgets/base",
      "_view_module_version": "1.2.0",
      "_view_name": "StyleView",
      "description_width": ""
     }
    },
    "8585a478dec043aab9ec973f182b6b20": {
     "model_module": "@jupyter-widgets/base",
     "model_module_version": "1.2.0",
     "model_name": "LayoutModel",
     "state": {
      "_model_module": "@jupyter-widgets/base",
      "_model_module_version": "1.2.0",
      "_model_name": "LayoutModel",
      "_view_count": null,
      "_view_module": "@jupyter-widgets/base",
      "_view_module_version": "1.2.0",
      "_view_name": "LayoutView",
      "align_content": null,
      "align_items": null,
      "align_self": null,
      "border": null,
      "bottom": null,
      "display": null,
      "flex": null,
      "flex_flow": null,
      "grid_area": null,
      "grid_auto_columns": null,
      "grid_auto_flow": null,
      "grid_auto_rows": null,
      "grid_column": null,
      "grid_gap": null,
      "grid_row": null,
      "grid_template_areas": null,
      "grid_template_columns": null,
      "grid_template_rows": null,
      "height": null,
      "justify_content": null,
      "justify_items": null,
      "left": null,
      "margin": null,
      "max_height": null,
      "max_width": null,
      "min_height": null,
      "min_width": null,
      "object_fit": null,
      "object_position": null,
      "order": null,
      "overflow": null,
      "overflow_x": null,
      "overflow_y": null,
      "padding": null,
      "right": null,
      "top": null,
      "visibility": null,
      "width": null
     }
    },
    "8736be90c95c43bd973e57321b129b3b": {
     "model_module": "@jupyter-widgets/controls",
     "model_module_version": "1.5.0",
     "model_name": "ProgressStyleModel",
     "state": {
      "_model_module": "@jupyter-widgets/controls",
      "_model_module_version": "1.5.0",
      "_model_name": "ProgressStyleModel",
      "_view_count": null,
      "_view_module": "@jupyter-widgets/base",
      "_view_module_version": "1.2.0",
      "_view_name": "StyleView",
      "bar_color": null,
      "description_width": ""
     }
    },
    "895a65e8ccb840478abde449315f5096": {
     "model_module": "@jupyter-widgets/controls",
     "model_module_version": "1.5.0",
     "model_name": "ProgressStyleModel",
     "state": {
      "_model_module": "@jupyter-widgets/controls",
      "_model_module_version": "1.5.0",
      "_model_name": "ProgressStyleModel",
      "_view_count": null,
      "_view_module": "@jupyter-widgets/base",
      "_view_module_version": "1.2.0",
      "_view_name": "StyleView",
      "bar_color": null,
      "description_width": ""
     }
    },
    "8b2ac74524d740e2900fedd815d6fde8": {
     "model_module": "@jupyter-widgets/controls",
     "model_module_version": "1.5.0",
     "model_name": "ProgressStyleModel",
     "state": {
      "_model_module": "@jupyter-widgets/controls",
      "_model_module_version": "1.5.0",
      "_model_name": "ProgressStyleModel",
      "_view_count": null,
      "_view_module": "@jupyter-widgets/base",
      "_view_module_version": "1.2.0",
      "_view_name": "StyleView",
      "bar_color": null,
      "description_width": ""
     }
    },
    "8fa534e92adc4859a5c96fb44b2cf9a9": {
     "model_module": "@jupyter-widgets/base",
     "model_module_version": "1.2.0",
     "model_name": "LayoutModel",
     "state": {
      "_model_module": "@jupyter-widgets/base",
      "_model_module_version": "1.2.0",
      "_model_name": "LayoutModel",
      "_view_count": null,
      "_view_module": "@jupyter-widgets/base",
      "_view_module_version": "1.2.0",
      "_view_name": "LayoutView",
      "align_content": null,
      "align_items": null,
      "align_self": null,
      "border": null,
      "bottom": null,
      "display": null,
      "flex": null,
      "flex_flow": null,
      "grid_area": null,
      "grid_auto_columns": null,
      "grid_auto_flow": null,
      "grid_auto_rows": null,
      "grid_column": null,
      "grid_gap": null,
      "grid_row": null,
      "grid_template_areas": null,
      "grid_template_columns": null,
      "grid_template_rows": null,
      "height": null,
      "justify_content": null,
      "justify_items": null,
      "left": null,
      "margin": null,
      "max_height": null,
      "max_width": null,
      "min_height": null,
      "min_width": null,
      "object_fit": null,
      "object_position": null,
      "order": null,
      "overflow": null,
      "overflow_x": null,
      "overflow_y": null,
      "padding": null,
      "right": null,
      "top": null,
      "visibility": null,
      "width": null
     }
    },
    "94719df8ea7746c2aa8912bb3953f907": {
     "model_module": "@jupyter-widgets/base",
     "model_module_version": "1.2.0",
     "model_name": "LayoutModel",
     "state": {
      "_model_module": "@jupyter-widgets/base",
      "_model_module_version": "1.2.0",
      "_model_name": "LayoutModel",
      "_view_count": null,
      "_view_module": "@jupyter-widgets/base",
      "_view_module_version": "1.2.0",
      "_view_name": "LayoutView",
      "align_content": null,
      "align_items": null,
      "align_self": null,
      "border": null,
      "bottom": null,
      "display": null,
      "flex": null,
      "flex_flow": null,
      "grid_area": null,
      "grid_auto_columns": null,
      "grid_auto_flow": null,
      "grid_auto_rows": null,
      "grid_column": null,
      "grid_gap": null,
      "grid_row": null,
      "grid_template_areas": null,
      "grid_template_columns": null,
      "grid_template_rows": null,
      "height": null,
      "justify_content": null,
      "justify_items": null,
      "left": null,
      "margin": null,
      "max_height": null,
      "max_width": null,
      "min_height": null,
      "min_width": null,
      "object_fit": null,
      "object_position": null,
      "order": null,
      "overflow": null,
      "overflow_x": null,
      "overflow_y": null,
      "padding": null,
      "right": null,
      "top": null,
      "visibility": null,
      "width": "20px"
     }
    },
    "9ed72f6f5f1840d1aeb271af38eaa5e0": {
     "model_module": "@jupyter-widgets/controls",
     "model_module_version": "1.5.0",
     "model_name": "DescriptionStyleModel",
     "state": {
      "_model_module": "@jupyter-widgets/controls",
      "_model_module_version": "1.5.0",
      "_model_name": "DescriptionStyleModel",
      "_view_count": null,
      "_view_module": "@jupyter-widgets/base",
      "_view_module_version": "1.2.0",
      "_view_name": "StyleView",
      "description_width": ""
     }
    },
    "9f388cac02434a41bb01f95440694a08": {
     "model_module": "@jupyter-widgets/base",
     "model_module_version": "1.2.0",
     "model_name": "LayoutModel",
     "state": {
      "_model_module": "@jupyter-widgets/base",
      "_model_module_version": "1.2.0",
      "_model_name": "LayoutModel",
      "_view_count": null,
      "_view_module": "@jupyter-widgets/base",
      "_view_module_version": "1.2.0",
      "_view_name": "LayoutView",
      "align_content": null,
      "align_items": null,
      "align_self": null,
      "border": null,
      "bottom": null,
      "display": null,
      "flex": null,
      "flex_flow": null,
      "grid_area": null,
      "grid_auto_columns": null,
      "grid_auto_flow": null,
      "grid_auto_rows": null,
      "grid_column": null,
      "grid_gap": null,
      "grid_row": null,
      "grid_template_areas": null,
      "grid_template_columns": null,
      "grid_template_rows": null,
      "height": null,
      "justify_content": null,
      "justify_items": null,
      "left": null,
      "margin": null,
      "max_height": null,
      "max_width": null,
      "min_height": null,
      "min_width": null,
      "object_fit": null,
      "object_position": null,
      "order": null,
      "overflow": null,
      "overflow_x": null,
      "overflow_y": null,
      "padding": null,
      "right": null,
      "top": null,
      "visibility": "hidden",
      "width": null
     }
    },
    "a12eb51368f7485a9034687df6b9de9e": {
     "model_module": "@jupyter-widgets/base",
     "model_module_version": "1.2.0",
     "model_name": "LayoutModel",
     "state": {
      "_model_module": "@jupyter-widgets/base",
      "_model_module_version": "1.2.0",
      "_model_name": "LayoutModel",
      "_view_count": null,
      "_view_module": "@jupyter-widgets/base",
      "_view_module_version": "1.2.0",
      "_view_name": "LayoutView",
      "align_content": null,
      "align_items": null,
      "align_self": null,
      "border": null,
      "bottom": null,
      "display": null,
      "flex": null,
      "flex_flow": null,
      "grid_area": null,
      "grid_auto_columns": null,
      "grid_auto_flow": null,
      "grid_auto_rows": null,
      "grid_column": null,
      "grid_gap": null,
      "grid_row": null,
      "grid_template_areas": null,
      "grid_template_columns": null,
      "grid_template_rows": null,
      "height": null,
      "justify_content": null,
      "justify_items": null,
      "left": null,
      "margin": null,
      "max_height": null,
      "max_width": null,
      "min_height": null,
      "min_width": null,
      "object_fit": null,
      "object_position": null,
      "order": null,
      "overflow": null,
      "overflow_x": null,
      "overflow_y": null,
      "padding": null,
      "right": null,
      "top": null,
      "visibility": null,
      "width": null
     }
    },
    "a27015cefb3a450c8feb4ff9f35c16ec": {
     "model_module": "@jupyter-widgets/base",
     "model_module_version": "1.2.0",
     "model_name": "LayoutModel",
     "state": {
      "_model_module": "@jupyter-widgets/base",
      "_model_module_version": "1.2.0",
      "_model_name": "LayoutModel",
      "_view_count": null,
      "_view_module": "@jupyter-widgets/base",
      "_view_module_version": "1.2.0",
      "_view_name": "LayoutView",
      "align_content": null,
      "align_items": null,
      "align_self": null,
      "border": null,
      "bottom": null,
      "display": null,
      "flex": null,
      "flex_flow": null,
      "grid_area": null,
      "grid_auto_columns": null,
      "grid_auto_flow": null,
      "grid_auto_rows": null,
      "grid_column": null,
      "grid_gap": null,
      "grid_row": null,
      "grid_template_areas": null,
      "grid_template_columns": null,
      "grid_template_rows": null,
      "height": null,
      "justify_content": null,
      "justify_items": null,
      "left": null,
      "margin": null,
      "max_height": null,
      "max_width": null,
      "min_height": null,
      "min_width": null,
      "object_fit": null,
      "object_position": null,
      "order": null,
      "overflow": null,
      "overflow_x": null,
      "overflow_y": null,
      "padding": null,
      "right": null,
      "top": null,
      "visibility": null,
      "width": "20px"
     }
    },
    "a61514e113cf4e18b729cf19b0dd2ad6": {
     "model_module": "@jupyter-widgets/base",
     "model_module_version": "1.2.0",
     "model_name": "LayoutModel",
     "state": {
      "_model_module": "@jupyter-widgets/base",
      "_model_module_version": "1.2.0",
      "_model_name": "LayoutModel",
      "_view_count": null,
      "_view_module": "@jupyter-widgets/base",
      "_view_module_version": "1.2.0",
      "_view_name": "LayoutView",
      "align_content": null,
      "align_items": null,
      "align_self": null,
      "border": null,
      "bottom": null,
      "display": null,
      "flex": null,
      "flex_flow": null,
      "grid_area": null,
      "grid_auto_columns": null,
      "grid_auto_flow": null,
      "grid_auto_rows": null,
      "grid_column": null,
      "grid_gap": null,
      "grid_row": null,
      "grid_template_areas": null,
      "grid_template_columns": null,
      "grid_template_rows": null,
      "height": null,
      "justify_content": null,
      "justify_items": null,
      "left": null,
      "margin": null,
      "max_height": null,
      "max_width": null,
      "min_height": null,
      "min_width": null,
      "object_fit": null,
      "object_position": null,
      "order": null,
      "overflow": null,
      "overflow_x": null,
      "overflow_y": null,
      "padding": null,
      "right": null,
      "top": null,
      "visibility": null,
      "width": null
     }
    },
    "aac206b12c184e3183198aaa4421d38d": {
     "model_module": "@jupyter-widgets/controls",
     "model_module_version": "1.5.0",
     "model_name": "DescriptionStyleModel",
     "state": {
      "_model_module": "@jupyter-widgets/controls",
      "_model_module_version": "1.5.0",
      "_model_name": "DescriptionStyleModel",
      "_view_count": null,
      "_view_module": "@jupyter-widgets/base",
      "_view_module_version": "1.2.0",
      "_view_name": "StyleView",
      "description_width": ""
     }
    },
    "b0b05e12268840799d5e862be43d279e": {
     "model_module": "@jupyter-widgets/base",
     "model_module_version": "1.2.0",
     "model_name": "LayoutModel",
     "state": {
      "_model_module": "@jupyter-widgets/base",
      "_model_module_version": "1.2.0",
      "_model_name": "LayoutModel",
      "_view_count": null,
      "_view_module": "@jupyter-widgets/base",
      "_view_module_version": "1.2.0",
      "_view_name": "LayoutView",
      "align_content": null,
      "align_items": null,
      "align_self": null,
      "border": null,
      "bottom": null,
      "display": null,
      "flex": null,
      "flex_flow": null,
      "grid_area": null,
      "grid_auto_columns": null,
      "grid_auto_flow": null,
      "grid_auto_rows": null,
      "grid_column": null,
      "grid_gap": null,
      "grid_row": null,
      "grid_template_areas": null,
      "grid_template_columns": null,
      "grid_template_rows": null,
      "height": null,
      "justify_content": null,
      "justify_items": null,
      "left": null,
      "margin": null,
      "max_height": null,
      "max_width": null,
      "min_height": null,
      "min_width": null,
      "object_fit": null,
      "object_position": null,
      "order": null,
      "overflow": null,
      "overflow_x": null,
      "overflow_y": null,
      "padding": null,
      "right": null,
      "top": null,
      "visibility": null,
      "width": null
     }
    },
    "b66a839a14c746d182580fd2aa88cf07": {
     "model_module": "@jupyter-widgets/controls",
     "model_module_version": "1.5.0",
     "model_name": "HTMLModel",
     "state": {
      "_dom_classes": [],
      "_model_module": "@jupyter-widgets/controls",
      "_model_module_version": "1.5.0",
      "_model_name": "HTMLModel",
      "_view_count": null,
      "_view_module": "@jupyter-widgets/controls",
      "_view_module_version": "1.5.0",
      "_view_name": "HTMLView",
      "description": "",
      "description_tooltip": null,
      "layout": "IPY_MODEL_fa6d2f012bed4d57af3a8d7b73b98d34",
      "placeholder": "​",
      "style": "IPY_MODEL_23b38a0f45234ba082e08ae247d27333",
      "value": "Dl Size...: 100%"
     }
    },
    "b66ec565cfd14ede8fe904b6160221c3": {
     "model_module": "@jupyter-widgets/base",
     "model_module_version": "1.2.0",
     "model_name": "LayoutModel",
     "state": {
      "_model_module": "@jupyter-widgets/base",
      "_model_module_version": "1.2.0",
      "_model_name": "LayoutModel",
      "_view_count": null,
      "_view_module": "@jupyter-widgets/base",
      "_view_module_version": "1.2.0",
      "_view_name": "LayoutView",
      "align_content": null,
      "align_items": null,
      "align_self": null,
      "border": null,
      "bottom": null,
      "display": null,
      "flex": null,
      "flex_flow": null,
      "grid_area": null,
      "grid_auto_columns": null,
      "grid_auto_flow": null,
      "grid_auto_rows": null,
      "grid_column": null,
      "grid_gap": null,
      "grid_row": null,
      "grid_template_areas": null,
      "grid_template_columns": null,
      "grid_template_rows": null,
      "height": null,
      "justify_content": null,
      "justify_items": null,
      "left": null,
      "margin": null,
      "max_height": null,
      "max_width": null,
      "min_height": null,
      "min_width": null,
      "object_fit": null,
      "object_position": null,
      "order": null,
      "overflow": null,
      "overflow_x": null,
      "overflow_y": null,
      "padding": null,
      "right": null,
      "top": null,
      "visibility": null,
      "width": null
     }
    },
    "bbaa93e9116442c5b4b285f9f04d82c5": {
     "model_module": "@jupyter-widgets/controls",
     "model_module_version": "1.5.0",
     "model_name": "HTMLModel",
     "state": {
      "_dom_classes": [],
      "_model_module": "@jupyter-widgets/controls",
      "_model_module_version": "1.5.0",
      "_model_name": "HTMLModel",
      "_view_count": null,
      "_view_module": "@jupyter-widgets/controls",
      "_view_module_version": "1.5.0",
      "_view_name": "HTMLView",
      "description": "",
      "description_tooltip": null,
      "layout": "IPY_MODEL_13cab7b0fa28447faac12aa2decd5798",
      "placeholder": "​",
      "style": "IPY_MODEL_c4c52ff96f684366a6cdd995f9151a95",
      "value": " 0/0 [00:01&lt;?, ? MiB/s]"
     }
    },
    "c003576e562a4dc38c4ea319a69c18fc": {
     "model_module": "@jupyter-widgets/controls",
     "model_module_version": "1.5.0",
     "model_name": "HBoxModel",
     "state": {
      "_dom_classes": [],
      "_model_module": "@jupyter-widgets/controls",
      "_model_module_version": "1.5.0",
      "_model_name": "HBoxModel",
      "_view_count": null,
      "_view_module": "@jupyter-widgets/controls",
      "_view_module_version": "1.5.0",
      "_view_name": "HBoxView",
      "box_style": "",
      "children": [
       "IPY_MODEL_cb4860c5712d48e694f0392cf3c81df3",
       "IPY_MODEL_44f9a2e27198421e982321b23aad0532",
       "IPY_MODEL_13ae8348717048bfafef5c6846542cf3"
      ],
      "layout": "IPY_MODEL_1320b32751504bc8ad7726fd1d111120"
     }
    },
    "c104accdccf941978f742ca944095be0": {
     "model_module": "@jupyter-widgets/controls",
     "model_module_version": "1.5.0",
     "model_name": "HTMLModel",
     "state": {
      "_dom_classes": [],
      "_model_module": "@jupyter-widgets/controls",
      "_model_module_version": "1.5.0",
      "_model_name": "HTMLModel",
      "_view_count": null,
      "_view_module": "@jupyter-widgets/controls",
      "_view_module_version": "1.5.0",
      "_view_name": "HTMLView",
      "description": "",
      "description_tooltip": null,
      "layout": "IPY_MODEL_59d08cffe4604c0a88b54875f06db5ca",
      "placeholder": "​",
      "style": "IPY_MODEL_ce6e9b42383a4a85b9662d890a81640e",
      "value": " 1/1 [04:05&lt;00:00, 245.63s/ splits]"
     }
    },
    "c4754680e4f440c8baf0a3234246f6fb": {
     "model_module": "@jupyter-widgets/controls",
     "model_module_version": "1.5.0",
     "model_name": "FloatProgressModel",
     "state": {
      "_dom_classes": [],
      "_model_module": "@jupyter-widgets/controls",
      "_model_module_version": "1.5.0",
      "_model_name": "FloatProgressModel",
      "_view_count": null,
      "_view_module": "@jupyter-widgets/controls",
      "_view_module_version": "1.5.0",
      "_view_name": "ProgressView",
      "bar_style": "success",
      "description": "",
      "description_tooltip": null,
      "layout": "IPY_MODEL_fafe9af928df4bcdb37ae80fd0b6c67c",
      "max": 1,
      "min": 0,
      "orientation": "horizontal",
      "style": "IPY_MODEL_8b2ac74524d740e2900fedd815d6fde8",
      "value": 0
     }
    },
    "c4c52ff96f684366a6cdd995f9151a95": {
     "model_module": "@jupyter-widgets/controls",
     "model_module_version": "1.5.0",
     "model_name": "DescriptionStyleModel",
     "state": {
      "_model_module": "@jupyter-widgets/controls",
      "_model_module_version": "1.5.0",
      "_model_name": "DescriptionStyleModel",
      "_view_count": null,
      "_view_module": "@jupyter-widgets/base",
      "_view_module_version": "1.2.0",
      "_view_name": "StyleView",
      "description_width": ""
     }
    },
    "c678b0e4761f46f8bb5749c24e253c4e": {
     "model_module": "@jupyter-widgets/base",
     "model_module_version": "1.2.0",
     "model_name": "LayoutModel",
     "state": {
      "_model_module": "@jupyter-widgets/base",
      "_model_module_version": "1.2.0",
      "_model_name": "LayoutModel",
      "_view_count": null,
      "_view_module": "@jupyter-widgets/base",
      "_view_module_version": "1.2.0",
      "_view_name": "LayoutView",
      "align_content": null,
      "align_items": null,
      "align_self": null,
      "border": null,
      "bottom": null,
      "display": null,
      "flex": null,
      "flex_flow": null,
      "grid_area": null,
      "grid_auto_columns": null,
      "grid_auto_flow": null,
      "grid_auto_rows": null,
      "grid_column": null,
      "grid_gap": null,
      "grid_row": null,
      "grid_template_areas": null,
      "grid_template_columns": null,
      "grid_template_rows": null,
      "height": null,
      "justify_content": null,
      "justify_items": null,
      "left": null,
      "margin": null,
      "max_height": null,
      "max_width": null,
      "min_height": null,
      "min_width": null,
      "object_fit": null,
      "object_position": null,
      "order": null,
      "overflow": null,
      "overflow_x": null,
      "overflow_y": null,
      "padding": null,
      "right": null,
      "top": null,
      "visibility": null,
      "width": null
     }
    },
    "c7c1e696f7164102804ba95e015a9682": {
     "model_module": "@jupyter-widgets/base",
     "model_module_version": "1.2.0",
     "model_name": "LayoutModel",
     "state": {
      "_model_module": "@jupyter-widgets/base",
      "_model_module_version": "1.2.0",
      "_model_name": "LayoutModel",
      "_view_count": null,
      "_view_module": "@jupyter-widgets/base",
      "_view_module_version": "1.2.0",
      "_view_name": "LayoutView",
      "align_content": null,
      "align_items": null,
      "align_self": null,
      "border": null,
      "bottom": null,
      "display": null,
      "flex": null,
      "flex_flow": null,
      "grid_area": null,
      "grid_auto_columns": null,
      "grid_auto_flow": null,
      "grid_auto_rows": null,
      "grid_column": null,
      "grid_gap": null,
      "grid_row": null,
      "grid_template_areas": null,
      "grid_template_columns": null,
      "grid_template_rows": null,
      "height": null,
      "justify_content": null,
      "justify_items": null,
      "left": null,
      "margin": null,
      "max_height": null,
      "max_width": null,
      "min_height": null,
      "min_width": null,
      "object_fit": null,
      "object_position": null,
      "order": null,
      "overflow": null,
      "overflow_x": null,
      "overflow_y": null,
      "padding": null,
      "right": null,
      "top": null,
      "visibility": null,
      "width": null
     }
    },
    "c7e7c23921cb471ebd5209312983917e": {
     "model_module": "@jupyter-widgets/base",
     "model_module_version": "1.2.0",
     "model_name": "LayoutModel",
     "state": {
      "_model_module": "@jupyter-widgets/base",
      "_model_module_version": "1.2.0",
      "_model_name": "LayoutModel",
      "_view_count": null,
      "_view_module": "@jupyter-widgets/base",
      "_view_module_version": "1.2.0",
      "_view_name": "LayoutView",
      "align_content": null,
      "align_items": null,
      "align_self": null,
      "border": null,
      "bottom": null,
      "display": null,
      "flex": null,
      "flex_flow": null,
      "grid_area": null,
      "grid_auto_columns": null,
      "grid_auto_flow": null,
      "grid_auto_rows": null,
      "grid_column": null,
      "grid_gap": null,
      "grid_row": null,
      "grid_template_areas": null,
      "grid_template_columns": null,
      "grid_template_rows": null,
      "height": null,
      "justify_content": null,
      "justify_items": null,
      "left": null,
      "margin": null,
      "max_height": null,
      "max_width": null,
      "min_height": null,
      "min_width": null,
      "object_fit": null,
      "object_position": null,
      "order": null,
      "overflow": null,
      "overflow_x": null,
      "overflow_y": null,
      "padding": null,
      "right": null,
      "top": null,
      "visibility": null,
      "width": null
     }
    },
    "cb4860c5712d48e694f0392cf3c81df3": {
     "model_module": "@jupyter-widgets/controls",
     "model_module_version": "1.5.0",
     "model_name": "HTMLModel",
     "state": {
      "_dom_classes": [],
      "_model_module": "@jupyter-widgets/controls",
      "_model_module_version": "1.5.0",
      "_model_name": "HTMLModel",
      "_view_count": null,
      "_view_module": "@jupyter-widgets/controls",
      "_view_module_version": "1.5.0",
      "_view_name": "HTMLView",
      "description": "",
      "description_tooltip": null,
      "layout": "IPY_MODEL_c678b0e4761f46f8bb5749c24e253c4e",
      "placeholder": "​",
      "style": "IPY_MODEL_675c125c6b094e3684e7be8363e5ab0b",
      "value": "Dl Completed...: 100%"
     }
    },
    "cd3a4be7618a48c99621e8189908af4b": {
     "model_module": "@jupyter-widgets/controls",
     "model_module_version": "1.5.0",
     "model_name": "HBoxModel",
     "state": {
      "_dom_classes": [],
      "_model_module": "@jupyter-widgets/controls",
      "_model_module_version": "1.5.0",
      "_model_name": "HBoxModel",
      "_view_count": null,
      "_view_module": "@jupyter-widgets/controls",
      "_view_module_version": "1.5.0",
      "_view_name": "HBoxView",
      "box_style": "",
      "children": [
       "IPY_MODEL_01568546218f4928a7f72f8e6f6699ca",
       "IPY_MODEL_d82e2a9c1fa84d668901e3c31bfd3eae",
       "IPY_MODEL_c104accdccf941978f742ca944095be0"
      ],
      "layout": "IPY_MODEL_9f388cac02434a41bb01f95440694a08"
     }
    },
    "ce6e9b42383a4a85b9662d890a81640e": {
     "model_module": "@jupyter-widgets/controls",
     "model_module_version": "1.5.0",
     "model_name": "DescriptionStyleModel",
     "state": {
      "_model_module": "@jupyter-widgets/controls",
      "_model_module_version": "1.5.0",
      "_model_name": "DescriptionStyleModel",
      "_view_count": null,
      "_view_module": "@jupyter-widgets/base",
      "_view_module_version": "1.2.0",
      "_view_name": "StyleView",
      "description_width": ""
     }
    },
    "d82e2a9c1fa84d668901e3c31bfd3eae": {
     "model_module": "@jupyter-widgets/controls",
     "model_module_version": "1.5.0",
     "model_name": "FloatProgressModel",
     "state": {
      "_dom_classes": [],
      "_model_module": "@jupyter-widgets/controls",
      "_model_module_version": "1.5.0",
      "_model_name": "FloatProgressModel",
      "_view_count": null,
      "_view_module": "@jupyter-widgets/controls",
      "_view_module_version": "1.5.0",
      "_view_name": "ProgressView",
      "bar_style": "",
      "description": "",
      "description_tooltip": null,
      "layout": "IPY_MODEL_2f7eac50cf6c4658aa12b9e633bd8ab2",
      "max": 1,
      "min": 0,
      "orientation": "horizontal",
      "style": "IPY_MODEL_895a65e8ccb840478abde449315f5096",
      "value": 1
     }
    },
    "d9d23eb2b7854d83aad25df0cc31194f": {
     "model_module": "@jupyter-widgets/controls",
     "model_module_version": "1.5.0",
     "model_name": "ProgressStyleModel",
     "state": {
      "_model_module": "@jupyter-widgets/controls",
      "_model_module_version": "1.5.0",
      "_model_name": "ProgressStyleModel",
      "_view_count": null,
      "_view_module": "@jupyter-widgets/base",
      "_view_module_version": "1.2.0",
      "_view_name": "StyleView",
      "bar_color": null,
      "description_width": ""
     }
    },
    "e139bd3372ba43bf9dfa7180acfce002": {
     "model_module": "@jupyter-widgets/controls",
     "model_module_version": "1.5.0",
     "model_name": "HBoxModel",
     "state": {
      "_dom_classes": [],
      "_model_module": "@jupyter-widgets/controls",
      "_model_module_version": "1.5.0",
      "_model_name": "HBoxModel",
      "_view_count": null,
      "_view_module": "@jupyter-widgets/controls",
      "_view_module_version": "1.5.0",
      "_view_name": "HBoxView",
      "box_style": "",
      "children": [
       "IPY_MODEL_32b8754d61a645ec8fd53e6700822281",
       "IPY_MODEL_fa9385b2ef3a403ca422a0ef022968f0",
       "IPY_MODEL_36bb4ba67fe2493b9bfac92c64a6179e"
      ],
      "layout": "IPY_MODEL_30741f50a0a54d90827fa5a1136eb425"
     }
    },
    "e27c4de0c26d404f9cdefb9778dc7051": {
     "model_module": "@jupyter-widgets/controls",
     "model_module_version": "1.5.0",
     "model_name": "HTMLModel",
     "state": {
      "_dom_classes": [],
      "_model_module": "@jupyter-widgets/controls",
      "_model_module_version": "1.5.0",
      "_model_name": "HTMLModel",
      "_view_count": null,
      "_view_module": "@jupyter-widgets/controls",
      "_view_module_version": "1.5.0",
      "_view_name": "HTMLView",
      "description": "",
      "description_tooltip": null,
      "layout": "IPY_MODEL_3d8d1de2d6774f1ca27b6641b098401e",
      "placeholder": "​",
      "style": "IPY_MODEL_6345bcc451e047539f07a1d2378f6f2e",
      "value": " 14956/15000 [00:10&lt;00:00, 1312.54 examples/s]"
     }
    },
    "e4844600a61548eda30d5c07ac5f4a2e": {
     "model_module": "@jupyter-widgets/controls",
     "model_module_version": "1.5.0",
     "model_name": "DescriptionStyleModel",
     "state": {
      "_model_module": "@jupyter-widgets/controls",
      "_model_module_version": "1.5.0",
      "_model_name": "DescriptionStyleModel",
      "_view_count": null,
      "_view_module": "@jupyter-widgets/base",
      "_view_module_version": "1.2.0",
      "_view_name": "StyleView",
      "description_width": ""
     }
    },
    "e4f4a9a4f1d04b10949f6d6835a45204": {
     "model_module": "@jupyter-widgets/base",
     "model_module_version": "1.2.0",
     "model_name": "LayoutModel",
     "state": {
      "_model_module": "@jupyter-widgets/base",
      "_model_module_version": "1.2.0",
      "_model_name": "LayoutModel",
      "_view_count": null,
      "_view_module": "@jupyter-widgets/base",
      "_view_module_version": "1.2.0",
      "_view_name": "LayoutView",
      "align_content": null,
      "align_items": null,
      "align_self": null,
      "border": null,
      "bottom": null,
      "display": null,
      "flex": null,
      "flex_flow": null,
      "grid_area": null,
      "grid_auto_columns": null,
      "grid_auto_flow": null,
      "grid_auto_rows": null,
      "grid_column": null,
      "grid_gap": null,
      "grid_row": null,
      "grid_template_areas": null,
      "grid_template_columns": null,
      "grid_template_rows": null,
      "height": null,
      "justify_content": null,
      "justify_items": null,
      "left": null,
      "margin": null,
      "max_height": null,
      "max_width": null,
      "min_height": null,
      "min_width": null,
      "object_fit": null,
      "object_position": null,
      "order": null,
      "overflow": null,
      "overflow_x": null,
      "overflow_y": null,
      "padding": null,
      "right": null,
      "top": null,
      "visibility": null,
      "width": "20px"
     }
    },
    "e7995821c28d4aa0a7724c9fbb831046": {
     "model_module": "@jupyter-widgets/base",
     "model_module_version": "1.2.0",
     "model_name": "LayoutModel",
     "state": {
      "_model_module": "@jupyter-widgets/base",
      "_model_module_version": "1.2.0",
      "_model_name": "LayoutModel",
      "_view_count": null,
      "_view_module": "@jupyter-widgets/base",
      "_view_module_version": "1.2.0",
      "_view_name": "LayoutView",
      "align_content": null,
      "align_items": null,
      "align_self": null,
      "border": null,
      "bottom": null,
      "display": null,
      "flex": null,
      "flex_flow": null,
      "grid_area": null,
      "grid_auto_columns": null,
      "grid_auto_flow": null,
      "grid_auto_rows": null,
      "grid_column": null,
      "grid_gap": null,
      "grid_row": null,
      "grid_template_areas": null,
      "grid_template_columns": null,
      "grid_template_rows": null,
      "height": null,
      "justify_content": null,
      "justify_items": null,
      "left": null,
      "margin": null,
      "max_height": null,
      "max_width": null,
      "min_height": null,
      "min_width": null,
      "object_fit": null,
      "object_position": null,
      "order": null,
      "overflow": null,
      "overflow_x": null,
      "overflow_y": null,
      "padding": null,
      "right": null,
      "top": null,
      "visibility": null,
      "width": null
     }
    },
    "ebe5d292e1474fd8b94ac981b8755658": {
     "model_module": "@jupyter-widgets/controls",
     "model_module_version": "1.5.0",
     "model_name": "HBoxModel",
     "state": {
      "_dom_classes": [],
      "_model_module": "@jupyter-widgets/controls",
      "_model_module_version": "1.5.0",
      "_model_name": "HBoxModel",
      "_view_count": null,
      "_view_module": "@jupyter-widgets/controls",
      "_view_module_version": "1.5.0",
      "_view_name": "HBoxView",
      "box_style": "",
      "children": [
       "IPY_MODEL_7e12b19887004581b5dd961c769da7f5",
       "IPY_MODEL_18b75c6a88ff4991a38e054817811b4d",
       "IPY_MODEL_e27c4de0c26d404f9cdefb9778dc7051"
      ],
      "layout": "IPY_MODEL_748bc322693743bf9c6c3f2a10c916ed"
     }
    },
    "eca37a59620c4475b41e207465b53db8": {
     "model_module": "@jupyter-widgets/controls",
     "model_module_version": "1.5.0",
     "model_name": "ProgressStyleModel",
     "state": {
      "_model_module": "@jupyter-widgets/controls",
      "_model_module_version": "1.5.0",
      "_model_name": "ProgressStyleModel",
      "_view_count": null,
      "_view_module": "@jupyter-widgets/base",
      "_view_module_version": "1.2.0",
      "_view_name": "StyleView",
      "bar_color": null,
      "description_width": ""
     }
    },
    "fa6d2f012bed4d57af3a8d7b73b98d34": {
     "model_module": "@jupyter-widgets/base",
     "model_module_version": "1.2.0",
     "model_name": "LayoutModel",
     "state": {
      "_model_module": "@jupyter-widgets/base",
      "_model_module_version": "1.2.0",
      "_model_name": "LayoutModel",
      "_view_count": null,
      "_view_module": "@jupyter-widgets/base",
      "_view_module_version": "1.2.0",
      "_view_name": "LayoutView",
      "align_content": null,
      "align_items": null,
      "align_self": null,
      "border": null,
      "bottom": null,
      "display": null,
      "flex": null,
      "flex_flow": null,
      "grid_area": null,
      "grid_auto_columns": null,
      "grid_auto_flow": null,
      "grid_auto_rows": null,
      "grid_column": null,
      "grid_gap": null,
      "grid_row": null,
      "grid_template_areas": null,
      "grid_template_columns": null,
      "grid_template_rows": null,
      "height": null,
      "justify_content": null,
      "justify_items": null,
      "left": null,
      "margin": null,
      "max_height": null,
      "max_width": null,
      "min_height": null,
      "min_width": null,
      "object_fit": null,
      "object_position": null,
      "order": null,
      "overflow": null,
      "overflow_x": null,
      "overflow_y": null,
      "padding": null,
      "right": null,
      "top": null,
      "visibility": null,
      "width": null
     }
    },
    "fa9385b2ef3a403ca422a0ef022968f0": {
     "model_module": "@jupyter-widgets/controls",
     "model_module_version": "1.5.0",
     "model_name": "FloatProgressModel",
     "state": {
      "_dom_classes": [],
      "_model_module": "@jupyter-widgets/controls",
      "_model_module_version": "1.5.0",
      "_model_name": "FloatProgressModel",
      "_view_count": null,
      "_view_module": "@jupyter-widgets/controls",
      "_view_module_version": "1.5.0",
      "_view_name": "ProgressView",
      "bar_style": "info",
      "description": "",
      "description_tooltip": null,
      "layout": "IPY_MODEL_a27015cefb3a450c8feb4ff9f35c16ec",
      "max": 1,
      "min": 0,
      "orientation": "horizontal",
      "style": "IPY_MODEL_d9d23eb2b7854d83aad25df0cc31194f",
      "value": 1
     }
    },
    "fafa794250c84144ae94ca6ff6fbeb92": {
     "model_module": "@jupyter-widgets/base",
     "model_module_version": "1.2.0",
     "model_name": "LayoutModel",
     "state": {
      "_model_module": "@jupyter-widgets/base",
      "_model_module_version": "1.2.0",
      "_model_name": "LayoutModel",
      "_view_count": null,
      "_view_module": "@jupyter-widgets/base",
      "_view_module_version": "1.2.0",
      "_view_name": "LayoutView",
      "align_content": null,
      "align_items": null,
      "align_self": null,
      "border": null,
      "bottom": null,
      "display": null,
      "flex": null,
      "flex_flow": null,
      "grid_area": null,
      "grid_auto_columns": null,
      "grid_auto_flow": null,
      "grid_auto_rows": null,
      "grid_column": null,
      "grid_gap": null,
      "grid_row": null,
      "grid_template_areas": null,
      "grid_template_columns": null,
      "grid_template_rows": null,
      "height": null,
      "justify_content": null,
      "justify_items": null,
      "left": null,
      "margin": null,
      "max_height": null,
      "max_width": null,
      "min_height": null,
      "min_width": null,
      "object_fit": null,
      "object_position": null,
      "order": null,
      "overflow": null,
      "overflow_x": null,
      "overflow_y": null,
      "padding": null,
      "right": null,
      "top": null,
      "visibility": null,
      "width": null
     }
    },
    "fafe9af928df4bcdb37ae80fd0b6c67c": {
     "model_module": "@jupyter-widgets/base",
     "model_module_version": "1.2.0",
     "model_name": "LayoutModel",
     "state": {
      "_model_module": "@jupyter-widgets/base",
      "_model_module_version": "1.2.0",
      "_model_name": "LayoutModel",
      "_view_count": null,
      "_view_module": "@jupyter-widgets/base",
      "_view_module_version": "1.2.0",
      "_view_name": "LayoutView",
      "align_content": null,
      "align_items": null,
      "align_self": null,
      "border": null,
      "bottom": null,
      "display": null,
      "flex": null,
      "flex_flow": null,
      "grid_area": null,
      "grid_auto_columns": null,
      "grid_auto_flow": null,
      "grid_auto_rows": null,
      "grid_column": null,
      "grid_gap": null,
      "grid_row": null,
      "grid_template_areas": null,
      "grid_template_columns": null,
      "grid_template_rows": null,
      "height": null,
      "justify_content": null,
      "justify_items": null,
      "left": null,
      "margin": null,
      "max_height": null,
      "max_width": null,
      "min_height": null,
      "min_width": null,
      "object_fit": null,
      "object_position": null,
      "order": null,
      "overflow": null,
      "overflow_x": null,
      "overflow_y": null,
      "padding": null,
      "right": null,
      "top": null,
      "visibility": null,
      "width": "20px"
     }
    }
   }
  }
 },
 "nbformat": 4,
 "nbformat_minor": 1
}
