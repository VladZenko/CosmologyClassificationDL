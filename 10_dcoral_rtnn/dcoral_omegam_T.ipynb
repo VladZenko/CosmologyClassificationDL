{
 "cells": [
  {
   "cell_type": "code",
   "execution_count": 1,
   "metadata": {
    "id": "HlCP1v-Hgnmn"
   },
   "outputs": [
    {
     "name": "stdout",
     "output_type": "stream",
     "text": [
      "Requirement already satisfied: astro-datasets in /usr/local/lib/python3.8/dist-packages (0.0.19)\n",
      "Requirement already satisfied: numpy in /usr/local/lib/python3.8/dist-packages (1.23.4)\n",
      "Requirement already satisfied: matplotlib in /usr/local/lib/python3.8/dist-packages (3.6.2)\n",
      "Requirement already satisfied: albumentations in /usr/local/lib/python3.8/dist-packages (1.3.0)\n",
      "Requirement already satisfied: adapt in /usr/local/lib/python3.8/dist-packages (0.4.2)\n",
      "Requirement already satisfied: tensorflow in /usr/local/lib/python3.8/dist-packages (from astro-datasets) (2.11.0)\n",
      "Requirement already satisfied: tensorflow-datasets in /usr/local/lib/python3.8/dist-packages (from astro-datasets) (4.7.0)\n",
      "Requirement already satisfied: pandas in /usr/local/lib/python3.8/dist-packages (from astro-datasets) (1.5.2)\n",
      "Requirement already satisfied: fonttools>=4.22.0 in /usr/local/lib/python3.8/dist-packages (from matplotlib) (4.38.0)\n",
      "Requirement already satisfied: cycler>=0.10 in /usr/local/lib/python3.8/dist-packages (from matplotlib) (0.11.0)\n",
      "Requirement already satisfied: kiwisolver>=1.0.1 in /usr/local/lib/python3.8/dist-packages (from matplotlib) (1.4.4)\n",
      "Requirement already satisfied: packaging>=20.0 in /usr/local/lib/python3.8/dist-packages (from matplotlib) (21.3)\n",
      "Requirement already satisfied: contourpy>=1.0.1 in /usr/local/lib/python3.8/dist-packages (from matplotlib) (1.0.6)\n",
      "Requirement already satisfied: pillow>=6.2.0 in /usr/local/lib/python3.8/dist-packages (from matplotlib) (9.3.0)\n",
      "Requirement already satisfied: python-dateutil>=2.7 in /usr/local/lib/python3.8/dist-packages (from matplotlib) (2.8.2)\n",
      "Requirement already satisfied: pyparsing>=2.2.1 in /usr/local/lib/python3.8/dist-packages (from matplotlib) (3.0.9)\n",
      "Requirement already satisfied: qudida>=0.0.4 in /usr/local/lib/python3.8/dist-packages (from albumentations) (0.0.4)\n",
      "Requirement already satisfied: opencv-python-headless>=4.1.1 in /usr/local/lib/python3.8/dist-packages (from albumentations) (4.6.0.66)\n",
      "Requirement already satisfied: scipy in /usr/local/lib/python3.8/dist-packages (from albumentations) (1.9.3)\n",
      "Requirement already satisfied: PyYAML in /usr/local/lib/python3.8/dist-packages (from albumentations) (6.0)\n",
      "Requirement already satisfied: scikit-image>=0.16.1 in /usr/local/lib/python3.8/dist-packages (from albumentations) (0.19.3)\n",
      "Requirement already satisfied: scikit-learn>=0.2 in /usr/local/lib/python3.8/dist-packages (from adapt) (1.2.0)\n",
      "Requirement already satisfied: cvxopt>=1.2 in /usr/local/lib/python3.8/dist-packages (from adapt) (1.3.0)\n",
      "Requirement already satisfied: tensorflow-io-gcs-filesystem>=0.23.1; platform_machine != \"arm64\" or platform_system != \"Darwin\" in /usr/local/lib/python3.8/dist-packages (from tensorflow->astro-datasets) (0.27.0)\n",
      "Requirement already satisfied: protobuf<3.20,>=3.9.2 in /usr/local/lib/python3.8/dist-packages (from tensorflow->astro-datasets) (3.19.6)\n",
      "Requirement already satisfied: keras<2.12,>=2.11.0 in /usr/local/lib/python3.8/dist-packages (from tensorflow->astro-datasets) (2.11.0)\n",
      "Requirement already satisfied: setuptools in /usr/local/lib/python3.8/dist-packages (from tensorflow->astro-datasets) (65.5.1)\n",
      "Requirement already satisfied: flatbuffers>=2.0 in /usr/local/lib/python3.8/dist-packages (from tensorflow->astro-datasets) (22.10.26)\n",
      "Requirement already satisfied: libclang>=13.0.0 in /usr/local/lib/python3.8/dist-packages (from tensorflow->astro-datasets) (14.0.6)\n",
      "Requirement already satisfied: tensorflow-estimator<2.12,>=2.11.0 in /usr/local/lib/python3.8/dist-packages (from tensorflow->astro-datasets) (2.11.0)\n",
      "Requirement already satisfied: termcolor>=1.1.0 in /usr/local/lib/python3.8/dist-packages (from tensorflow->astro-datasets) (2.1.0)\n",
      "Requirement already satisfied: opt-einsum>=2.3.2 in /usr/local/lib/python3.8/dist-packages (from tensorflow->astro-datasets) (3.3.0)\n",
      "Requirement already satisfied: wrapt>=1.11.0 in /usr/local/lib/python3.8/dist-packages (from tensorflow->astro-datasets) (1.14.1)\n",
      "Requirement already satisfied: grpcio<2.0,>=1.24.3 in /usr/local/lib/python3.8/dist-packages (from tensorflow->astro-datasets) (1.50.0)\n",
      "Requirement already satisfied: six>=1.12.0 in /usr/lib/python3/dist-packages (from tensorflow->astro-datasets) (1.14.0)\n",
      "Requirement already satisfied: astunparse>=1.6.0 in /usr/local/lib/python3.8/dist-packages (from tensorflow->astro-datasets) (1.6.3)\n",
      "Requirement already satisfied: absl-py>=1.0.0 in /usr/local/lib/python3.8/dist-packages (from tensorflow->astro-datasets) (1.3.0)\n",
      "Requirement already satisfied: tensorboard<2.12,>=2.11 in /usr/local/lib/python3.8/dist-packages (from tensorflow->astro-datasets) (2.11.0)\n",
      "Requirement already satisfied: google-pasta>=0.1.1 in /usr/local/lib/python3.8/dist-packages (from tensorflow->astro-datasets) (0.2.0)\n",
      "Requirement already satisfied: typing-extensions>=3.6.6 in /usr/local/lib/python3.8/dist-packages (from tensorflow->astro-datasets) (4.4.0)\n",
      "Requirement already satisfied: h5py>=2.9.0 in /usr/local/lib/python3.8/dist-packages (from tensorflow->astro-datasets) (3.7.0)\n",
      "Requirement already satisfied: gast<=0.4.0,>=0.2.1 in /usr/local/lib/python3.8/dist-packages (from tensorflow->astro-datasets) (0.4.0)\n",
      "Requirement already satisfied: importlib-resources; python_version < \"3.9\" in /usr/local/lib/python3.8/dist-packages (from tensorflow-datasets->astro-datasets) (5.10.0)\n",
      "Requirement already satisfied: requests>=2.19.0 in /usr/lib/python3/dist-packages (from tensorflow-datasets->astro-datasets) (2.22.0)\n",
      "Requirement already satisfied: tensorflow-metadata in /usr/local/lib/python3.8/dist-packages (from tensorflow-datasets->astro-datasets) (1.12.0)\n",
      "Requirement already satisfied: promise in /usr/local/lib/python3.8/dist-packages (from tensorflow-datasets->astro-datasets) (2.3)\n",
      "Requirement already satisfied: dill in /usr/local/lib/python3.8/dist-packages (from tensorflow-datasets->astro-datasets) (0.3.6)\n",
      "Requirement already satisfied: tqdm in /usr/local/lib/python3.8/dist-packages (from tensorflow-datasets->astro-datasets) (4.64.1)\n",
      "Requirement already satisfied: etils[epath] in /usr/local/lib/python3.8/dist-packages (from tensorflow-datasets->astro-datasets) (0.9.0)\n",
      "Requirement already satisfied: toml in /usr/local/lib/python3.8/dist-packages (from tensorflow-datasets->astro-datasets) (0.10.2)\n",
      "Requirement already satisfied: pytz>=2020.1 in /usr/local/lib/python3.8/dist-packages (from pandas->astro-datasets) (2022.6)\n",
      "Requirement already satisfied: tifffile>=2019.7.26 in /usr/local/lib/python3.8/dist-packages (from scikit-image>=0.16.1->albumentations) (2022.10.10)\n",
      "Requirement already satisfied: imageio>=2.4.1 in /usr/local/lib/python3.8/dist-packages (from scikit-image>=0.16.1->albumentations) (2.23.0)\n",
      "Requirement already satisfied: PyWavelets>=1.1.1 in /usr/local/lib/python3.8/dist-packages (from scikit-image>=0.16.1->albumentations) (1.4.1)\n",
      "Requirement already satisfied: networkx>=2.2 in /usr/local/lib/python3.8/dist-packages (from scikit-image>=0.16.1->albumentations) (2.8.8)\n",
      "Requirement already satisfied: threadpoolctl>=2.0.0 in /usr/local/lib/python3.8/dist-packages (from scikit-learn>=0.2->adapt) (3.1.0)\n",
      "Requirement already satisfied: joblib>=1.1.1 in /usr/local/lib/python3.8/dist-packages (from scikit-learn>=0.2->adapt) (1.2.0)\n",
      "Requirement already satisfied: wheel<1.0,>=0.23.0 in /usr/lib/python3/dist-packages (from astunparse>=1.6.0->tensorflow->astro-datasets) (0.34.2)\n",
      "Requirement already satisfied: tensorboard-plugin-wit>=1.6.0 in /usr/local/lib/python3.8/dist-packages (from tensorboard<2.12,>=2.11->tensorflow->astro-datasets) (1.8.1)\n",
      "Requirement already satisfied: werkzeug>=1.0.1 in /usr/local/lib/python3.8/dist-packages (from tensorboard<2.12,>=2.11->tensorflow->astro-datasets) (2.2.2)\n",
      "Requirement already satisfied: google-auth-oauthlib<0.5,>=0.4.1 in /usr/local/lib/python3.8/dist-packages (from tensorboard<2.12,>=2.11->tensorflow->astro-datasets) (0.4.6)\n",
      "Requirement already satisfied: google-auth<3,>=1.6.3 in /usr/local/lib/python3.8/dist-packages (from tensorboard<2.12,>=2.11->tensorflow->astro-datasets) (2.14.1)\n",
      "Requirement already satisfied: markdown>=2.6.8 in /usr/local/lib/python3.8/dist-packages (from tensorboard<2.12,>=2.11->tensorflow->astro-datasets) (3.4.1)\n",
      "Requirement already satisfied: tensorboard-data-server<0.7.0,>=0.6.0 in /usr/local/lib/python3.8/dist-packages (from tensorboard<2.12,>=2.11->tensorflow->astro-datasets) (0.6.1)\n",
      "Requirement already satisfied: zipp>=3.1.0; python_version < \"3.10\" in /usr/local/lib/python3.8/dist-packages (from importlib-resources; python_version < \"3.9\"->tensorflow-datasets->astro-datasets) (3.10.0)\n",
      "Requirement already satisfied: googleapis-common-protos<2,>=1.52.0 in /usr/local/lib/python3.8/dist-packages (from tensorflow-metadata->tensorflow-datasets->astro-datasets) (1.57.0)\n",
      "Requirement already satisfied: MarkupSafe>=2.1.1 in /usr/local/lib/python3.8/dist-packages (from werkzeug>=1.0.1->tensorboard<2.12,>=2.11->tensorflow->astro-datasets) (2.1.1)\n",
      "Requirement already satisfied: requests-oauthlib>=0.7.0 in /usr/local/lib/python3.8/dist-packages (from google-auth-oauthlib<0.5,>=0.4.1->tensorboard<2.12,>=2.11->tensorflow->astro-datasets) (1.3.1)\n",
      "Requirement already satisfied: cachetools<6.0,>=2.0.0 in /usr/local/lib/python3.8/dist-packages (from google-auth<3,>=1.6.3->tensorboard<2.12,>=2.11->tensorflow->astro-datasets) (5.2.0)\n",
      "Requirement already satisfied: pyasn1-modules>=0.2.1 in /usr/local/lib/python3.8/dist-packages (from google-auth<3,>=1.6.3->tensorboard<2.12,>=2.11->tensorflow->astro-datasets) (0.2.8)\n",
      "Requirement already satisfied: rsa<5,>=3.1.4; python_version >= \"3.6\" in /usr/local/lib/python3.8/dist-packages (from google-auth<3,>=1.6.3->tensorboard<2.12,>=2.11->tensorflow->astro-datasets) (4.9)\n",
      "Requirement already satisfied: importlib-metadata>=4.4; python_version < \"3.10\" in /usr/local/lib/python3.8/dist-packages (from markdown>=2.6.8->tensorboard<2.12,>=2.11->tensorflow->astro-datasets) (5.0.0)\n",
      "Requirement already satisfied: oauthlib>=3.0.0 in /usr/local/lib/python3.8/dist-packages (from requests-oauthlib>=0.7.0->google-auth-oauthlib<0.5,>=0.4.1->tensorboard<2.12,>=2.11->tensorflow->astro-datasets) (3.2.2)\n",
      "Requirement already satisfied: pyasn1<0.5.0,>=0.4.6 in /usr/local/lib/python3.8/dist-packages (from pyasn1-modules>=0.2.1->google-auth<3,>=1.6.3->tensorboard<2.12,>=2.11->tensorflow->astro-datasets) (0.4.8)\n",
      "\u001b[33mWARNING: You are using pip version 20.2.4; however, version 22.3.1 is available.\n",
      "You should consider upgrading via the '/usr/bin/python3 -m pip install --upgrade pip' command.\u001b[0m\n",
      "Note: you may need to restart the kernel to use updated packages.\n"
     ]
    }
   ],
   "source": [
    "%pip install astro-datasets numpy matplotlib albumentations adapt"
   ]
  },
  {
   "cell_type": "code",
   "execution_count": 2,
   "metadata": {},
   "outputs": [
    {
     "name": "stderr",
     "output_type": "stream",
     "text": [
      "2022-12-20 10:42:25.806137: I tensorflow/core/platform/cpu_feature_guard.cc:193] This TensorFlow binary is optimized with oneAPI Deep Neural Network Library (oneDNN) to use the following CPU instructions in performance-critical operations:  AVX2 FMA\n",
      "To enable them in other operations, rebuild TensorFlow with the appropriate compiler flags.\n"
     ]
    }
   ],
   "source": [
    "import numpy as np\n",
    "import time, sys, os\n",
    "import matplotlib.pyplot as plt\n",
    "import tensorflow as tf\n",
    "import tensorflow_datasets as tfds\n",
    "import astro_datasets\n",
    "import matplotlib.pyplot as plt\n",
    "import albumentations as alb\n",
    "from adapt.feature_based import MDD, DeepCORAL\n",
    "from adapt.utils import UpdateLambda"
   ]
  },
  {
   "cell_type": "code",
   "execution_count": 3,
   "metadata": {
    "colab": {
     "base_uri": "https://localhost:8080/",
     "height": 201,
     "referenced_widgets": [
      "3b68968364324cd48e16f5d1e647fccb",
      "5cb92045903143138d75ffbf3260b129",
      "0872bf294f534b48be0ba0a5f84b7649",
      "2e8f7c4f316246ac9acd897cbfc28bf1",
      "1efa77f99c2e4edc871818811c49efef",
      "c7c1e696f7164102804ba95e015a9682",
      "54c5eb9612514a799fa376478e572c29",
      "94719df8ea7746c2aa8912bb3953f907",
      "109bd6a97a7747aa91e509d8efe664e5",
      "fafa794250c84144ae94ca6ff6fbeb92",
      "82c21583518440a1a3079f7ee2114240",
      "16d7612c9cc14fb6a1be19f22e44c19f",
      "6df7d0d4cdb24af3bcf11445d9daccb6",
      "c4754680e4f440c8baf0a3234246f6fb",
      "bbaa93e9116442c5b4b285f9f04d82c5",
      "a12eb51368f7485a9034687df6b9de9e",
      "63a1f50e64874294bb48ba88d78c06f8",
      "207dce1ab2db4c448a36717026924a8d",
      "fafe9af928df4bcdb37ae80fd0b6c67c",
      "8b2ac74524d740e2900fedd815d6fde8",
      "13cab7b0fa28447faac12aa2decd5798",
      "c4c52ff96f684366a6cdd995f9151a95",
      "c003576e562a4dc38c4ea319a69c18fc",
      "cb4860c5712d48e694f0392cf3c81df3",
      "44f9a2e27198421e982321b23aad0532",
      "13ae8348717048bfafef5c6846542cf3",
      "1320b32751504bc8ad7726fd1d111120",
      "c678b0e4761f46f8bb5749c24e253c4e",
      "675c125c6b094e3684e7be8363e5ab0b",
      "1df0254f514640e6a2d4934e51b2605d",
      "8736be90c95c43bd973e57321b129b3b",
      "b0b05e12268840799d5e862be43d279e",
      "e4844600a61548eda30d5c07ac5f4a2e",
      "3536c6f894074e36a6b105877660198b",
      "b66a839a14c746d182580fd2aa88cf07",
      "2e476b93d7b04fcaa6c26abc4ea654c1",
      "2a8c41ede77143768fcedeb9d806c90f",
      "8585a478dec043aab9ec973f182b6b20",
      "fa6d2f012bed4d57af3a8d7b73b98d34",
      "23b38a0f45234ba082e08ae247d27333",
      "e4f4a9a4f1d04b10949f6d6835a45204",
      "6cdafb9e533f424f872c37c13c41225c",
      "b66ec565cfd14ede8fe904b6160221c3",
      "08791d4e234a45b2b7f6c43886e263e1",
      "cd3a4be7618a48c99621e8189908af4b",
      "01568546218f4928a7f72f8e6f6699ca",
      "d82e2a9c1fa84d668901e3c31bfd3eae",
      "c104accdccf941978f742ca944095be0",
      "9f388cac02434a41bb01f95440694a08",
      "685122aa9c4b430db69bebefe5de7f4e",
      "5297fa26f6ed40cdbc9fd64182722f96",
      "2f7eac50cf6c4658aa12b9e633bd8ab2",
      "895a65e8ccb840478abde449315f5096",
      "59d08cffe4604c0a88b54875f06db5ca",
      "ce6e9b42383a4a85b9662d890a81640e",
      "e139bd3372ba43bf9dfa7180acfce002",
      "32b8754d61a645ec8fd53e6700822281",
      "fa9385b2ef3a403ca422a0ef022968f0",
      "36bb4ba67fe2493b9bfac92c64a6179e",
      "30741f50a0a54d90827fa5a1136eb425",
      "a61514e113cf4e18b729cf19b0dd2ad6",
      "aac206b12c184e3183198aaa4421d38d",
      "a27015cefb3a450c8feb4ff9f35c16ec",
      "d9d23eb2b7854d83aad25df0cc31194f",
      "e7995821c28d4aa0a7724c9fbb831046",
      "9ed72f6f5f1840d1aeb271af38eaa5e0",
      "ebe5d292e1474fd8b94ac981b8755658",
      "7e12b19887004581b5dd961c769da7f5",
      "18b75c6a88ff4991a38e054817811b4d",
      "e27c4de0c26d404f9cdefb9778dc7051",
      "748bc322693743bf9c6c3f2a10c916ed",
      "c7e7c23921cb471ebd5209312983917e",
      "8262f53b95a94fdc8ed0e902a1db79bf",
      "8fa534e92adc4859a5c96fb44b2cf9a9",
      "eca37a59620c4475b41e207465b53db8",
      "3d8d1de2d6774f1ca27b6641b098401e",
      "6345bcc451e047539f07a1d2378f6f2e"
     ]
    },
    "id": "gg7_q3whbyRS",
    "outputId": "a386d2ba-d879-440d-c4b2-865186b8a595"
   },
   "outputs": [
    {
     "name": "stderr",
     "output_type": "stream",
     "text": [
      "2022-12-20 10:42:32.568782: I tensorflow/core/platform/cpu_feature_guard.cc:193] This TensorFlow binary is optimized with oneAPI Deep Neural Network Library (oneDNN) to use the following CPU instructions in performance-critical operations:  AVX2 FMA\n",
      "To enable them in other operations, rebuild TensorFlow with the appropriate compiler flags.\n",
      "2022-12-20 10:42:33.259395: I tensorflow/core/common_runtime/gpu/gpu_device.cc:1613] Created device /job:localhost/replica:0/task:0/device:GPU:0 with 78977 MB memory:  -> device: 0, name: NVIDIA A100-SXM4-80GB, pci bus id: 0000:84:00.0, compute capability: 8.0\n"
     ]
    }
   ],
   "source": [
    "(cmd_train, cmd_test, cmd_val), info = tfds.load(name='cmd', \n",
    "                                                 split=['train[0%:90%]','train[90%:95%]','train[95%:100%]'], \n",
    "                                                 with_info=True, \n",
    "                                                 as_supervised=True, \n",
    "                                                 builder_kwargs={'simulation': 'IllustrisTNG', 'field': 'T', \n",
    "                                                 'parameters': ['omegam']})"
   ]
  },
  {
   "cell_type": "code",
   "execution_count": 4,
   "metadata": {},
   "outputs": [],
   "source": [
    "(simba_train, simba_test, simba_val), info_simba = tfds.load(name='cmd', \n",
    "                                                 split=['train[0%:90%]','train[90%:95%]','train[95%:100%]'], \n",
    "                                                 with_info=True, \n",
    "                                                 as_supervised=True, \n",
    "                                                 builder_kwargs={'simulation': 'SIMBA', 'field': 'T', \n",
    "                                                 'parameters': ['omegam']})"
   ]
  },
  {
   "cell_type": "code",
   "execution_count": 5,
   "metadata": {
    "id": "NhHfxWv-cGxM"
   },
   "outputs": [],
   "source": [
    "# define preprocessing, normalization and augmentation functions\n",
    "\n",
    "def normalize(image, label):  \n",
    "    image = tf.math.asinh(image)\n",
    "    image = image - 26\n",
    "    return image, label\n",
    "\n",
    "def aug_fn(image):\n",
    "    data = {\"image\":image}\n",
    "    aug_data = transforms(**data)\n",
    "    aug_img = aug_data[\"image\"]\n",
    "    aug_img = tf.cast(aug_img, tf.float32)\n",
    "    aug_img = tf.image.resize(aug_img, size=[256, 256])\n",
    "    return aug_img\n",
    "\n",
    "def process_data(image, label):\n",
    "    aug_img = tf.numpy_function(func=aug_fn, inp=[image],\\\n",
    "                                Tout=tf.float32)\n",
    "    return aug_img, label\n",
    "\n",
    "def set_shapes(img, label, img_shape=(256, 256, 1)):\n",
    "    img.set_shape(img_shape)\n",
    "    label.set_shape(1,)\n",
    "    return img, label\n",
    "\n",
    "\n",
    "# Separating images from labels\n",
    "\n",
    "def get_features(features, labels):\n",
    "    return features\n",
    " \n",
    "def get_labels(features, labels):\n",
    "    return labels\n",
    "\n",
    "# Define augmentation pipeline\n",
    "\n",
    "transforms = alb.Compose([alb.VerticalFlip(p=0.6),\n",
    "                          alb.HorizontalFlip(p=0.6),\n",
    "                          alb.RandomRotate90(p=0.6)])\n"
   ]
  },
  {
   "cell_type": "code",
   "execution_count": 6,
   "metadata": {},
   "outputs": [],
   "source": [
    "btch_size = 128"
   ]
  },
  {
   "cell_type": "code",
   "execution_count": 7,
   "metadata": {
    "id": "4WAQKt5RcWQ_"
   },
   "outputs": [],
   "source": [
    "cmd_train = cmd_train.repeat(count=3) # increase dataset size\n",
    "cmd_train = cmd_train.map(process_data)\n",
    "cmd_train = cmd_train.map(set_shapes)\n",
    "cmd_train = cmd_train.map(normalize)\n",
    "cmd_train = cmd_train.batch(btch_size).prefetch(tf.data.AUTOTUNE)\n",
    "\n",
    "cmd_test = cmd_test.map(normalize)\n",
    "cmd_test = cmd_test.batch(btch_size).prefetch(tf.data.AUTOTUNE)\n",
    "\n",
    "cmd_val = cmd_val.map(normalize)\n",
    "cmd_val = cmd_val.batch(btch_size).prefetch(tf.data.AUTOTUNE)"
   ]
  },
  {
   "cell_type": "code",
   "execution_count": 8,
   "metadata": {},
   "outputs": [],
   "source": [
    "simba_test = simba_test.map(normalize)\n",
    "simba_test = simba_test.batch(btch_size).prefetch(tf.data.AUTOTUNE)\n",
    "\n",
    "simba_train = simba_train.map(normalize)\n",
    "simba_train = simba_train.batch(btch_size).prefetch(tf.data.AUTOTUNE)"
   ]
  },
  {
   "cell_type": "code",
   "execution_count": 9,
   "metadata": {
    "id": "fZ2U_DtnehFG"
   },
   "outputs": [],
   "source": [
    "H = 7"
   ]
  },
  {
   "cell_type": "code",
   "execution_count": 10,
   "metadata": {
    "colab": {
     "base_uri": "https://localhost:8080/"
    },
    "id": "rGyULtUVij5A",
    "outputId": "1918006d-035a-405e-f412-ef778d795c0a"
   },
   "outputs": [],
   "source": [
    "encoder = tf.keras.models.Sequential([\n",
    "  tf.keras.layers.Conv2D(2*H, kernel_size=3, strides=1, padding = 'same', input_shape=(256, 256, 1)),\n",
    "  tf.keras.layers.LeakyReLU(0.2),\n",
    "  tf.keras.layers.Conv2D(2*H, kernel_size=3, strides=1, padding = 'same'),\n",
    "  tf.keras.layers.BatchNormalization(),  \n",
    "  tf.keras.layers.LeakyReLU(0.2),\n",
    "  tf.keras.layers.Conv2D(2*H, kernel_size=2, strides=2, padding = 'valid'),\n",
    "  tf.keras.layers.BatchNormalization(),  \n",
    "  tf.keras.layers.LeakyReLU(0.2),\n",
    "  tf.keras.layers.Conv2D(4*H, kernel_size=3, strides=1, padding = 'same'),\n",
    "  tf.keras.layers.BatchNormalization(),\n",
    "  tf.keras.layers.LeakyReLU(0.2),\n",
    "  tf.keras.layers.Conv2D(4*H, kernel_size=3, strides=1, padding = 'same'),\n",
    "  tf.keras.layers.BatchNormalization(),  \n",
    "  tf.keras.layers.LeakyReLU(0.2),\n",
    "  tf.keras.layers.Conv2D(4*H, kernel_size=2, strides=2, padding = 'valid'),\n",
    "  tf.keras.layers.BatchNormalization(),  \n",
    "  tf.keras.layers.LeakyReLU(0.2),  \n",
    "  tf.keras.layers.Conv2D(8*H, kernel_size=3, strides=1, padding = 'same'),\n",
    "  tf.keras.layers.BatchNormalization(),\n",
    "  tf.keras.layers.LeakyReLU(0.2),\n",
    "  tf.keras.layers.Conv2D(8*H, kernel_size=3, strides=1, padding = 'same'),\n",
    "  tf.keras.layers.BatchNormalization(),  \n",
    "  tf.keras.layers.LeakyReLU(0.2),\n",
    "  tf.keras.layers.Conv2D(8*H, kernel_size=2, strides=2, padding = 'valid'),\n",
    "  tf.keras.layers.BatchNormalization(),  \n",
    "  tf.keras.layers.LeakyReLU(0.2),    \n",
    "  tf.keras.layers.Conv2D(16*H, kernel_size=3, strides=1, padding = 'same'),\n",
    "  tf.keras.layers.BatchNormalization(),\n",
    "  tf.keras.layers.LeakyReLU(0.2),\n",
    "  tf.keras.layers.Conv2D(16*H, kernel_size=3, strides=1, padding = 'same'),\n",
    "  tf.keras.layers.BatchNormalization(),  \n",
    "  tf.keras.layers.LeakyReLU(0.2),\n",
    "  tf.keras.layers.Conv2D(16*H, kernel_size=2, strides=2, padding = 'valid'),\n",
    "  tf.keras.layers.BatchNormalization(),  \n",
    "  tf.keras.layers.LeakyReLU(0.2),    \n",
    "  tf.keras.layers.Conv2D(32*H, kernel_size=3, strides=1, padding = 'same'),\n",
    "  tf.keras.layers.BatchNormalization(),\n",
    "  tf.keras.layers.LeakyReLU(0.2),\n",
    "  tf.keras.layers.Conv2D(32*H, kernel_size=3, strides=1, padding = 'same'),\n",
    "  tf.keras.layers.BatchNormalization(),  \n",
    "  tf.keras.layers.LeakyReLU(0.2),\n",
    "  tf.keras.layers.Conv2D(32*H, kernel_size=2, strides=2, padding = 'valid'),\n",
    "  tf.keras.layers.BatchNormalization(),  \n",
    "  tf.keras.layers.LeakyReLU(0.2),\n",
    "  tf.keras.layers.Conv2D(64*H, kernel_size=3, strides=1, padding = 'same'),\n",
    "  tf.keras.layers.BatchNormalization(),\n",
    "  tf.keras.layers.LeakyReLU(0.2),\n",
    "  tf.keras.layers.Conv2D(64*H, kernel_size=3, strides=1, padding = 'same'),\n",
    "  tf.keras.layers.BatchNormalization(),  \n",
    "  tf.keras.layers.LeakyReLU(0.2),\n",
    "  tf.keras.layers.Conv2D(64*H, kernel_size=2, strides=2, padding = 'valid'),\n",
    "  tf.keras.layers.BatchNormalization(),  \n",
    "  tf.keras.layers.LeakyReLU(0.2),  \n",
    "  tf.keras.layers.Conv2D(128*H, kernel_size=4, strides=1, padding = 'valid'),  \n",
    "  tf.keras.layers.BatchNormalization(),  \n",
    "  tf.keras.layers.LeakyReLU(0.2),  \n",
    "  tf.keras.layers.Flatten()\n",
    "])"
   ]
  },
  {
   "cell_type": "code",
   "execution_count": 11,
   "metadata": {},
   "outputs": [],
   "source": [
    "task = tf.keras.models.Sequential([\n",
    "    tf.keras.layers.Dropout(0.2),\n",
    "    tf.keras.layers.Dense(64*H),\n",
    "    tf.keras.layers.LeakyReLU(0.2), \n",
    "    tf.keras.layers.Dropout(0.2),  \n",
    "    tf.keras.layers.Dense(1)\n",
    "])"
   ]
  },
  {
   "cell_type": "code",
   "execution_count": 12,
   "metadata": {
    "id": "L1RqzVaomuQu"
   },
   "outputs": [],
   "source": [
    "opt = tf.keras.optimizers.Adam(beta_1=0.5, beta_2=0.999)\n",
    "opt_enc = tf.keras.optimizers.Adam(beta_1=0.5, beta_2=0.499)\n",
    "opt_disc = tf.keras.optimizers.Adam(beta_1=0.5, beta_2=0.999)\n",
    "reduce_lr = tf.keras.callbacks.ReduceLROnPlateau(monitor='val_loss', factor=0.3, patience=10)"
   ]
  },
  {
   "cell_type": "code",
   "execution_count": 13,
   "metadata": {
    "id": "UbO3PKd7eqH_"
   },
   "outputs": [],
   "source": [
    "epochs = 75"
   ]
  },
  {
   "cell_type": "code",
   "execution_count": 14,
   "metadata": {},
   "outputs": [],
   "source": [
    "train_x_simba = simba_train.map(get_features).prefetch(tf.data.AUTOTUNE)\n",
    "train_y_simba = simba_train.map(get_labels).prefetch(tf.data.AUTOTUNE)"
   ]
  },
  {
   "cell_type": "code",
   "execution_count": 16,
   "metadata": {},
   "outputs": [],
   "source": [
    "coral = DeepCORAL(encoder, task,\n",
    "            loss=\"mae\",\n",
    "            metrics=[\"mse\"],\n",
    "            copy=False,\n",
    "            optimizer=opt,\n",
    "            optimizer_enc=opt_enc,\n",
    "            optimizer_disc=opt_disc)"
   ]
  },
  {
   "cell_type": "code",
   "execution_count": 17,
   "metadata": {
    "colab": {
     "base_uri": "https://localhost:8080/"
    },
    "id": "eu91tco7muVe",
    "outputId": "41799fb5-43dc-43e7-9890-c448853a2f90"
   },
   "outputs": [
    {
     "name": "stderr",
     "output_type": "stream",
     "text": [
      "2022-12-20 10:42:57.630483: I tensorflow/compiler/xla/stream_executor/cuda/cuda_dnn.cc:428] Loaded cuDNN version 8100\n"
     ]
    },
    {
     "name": "stdout",
     "output_type": "stream",
     "text": [
      "Epoch 1/75\n"
     ]
    },
    {
     "name": "stderr",
     "output_type": "stream",
     "text": [
      "2022-12-20 10:42:59.082564: I tensorflow/compiler/xla/stream_executor/cuda/cuda_blas.cc:630] TensorFloat-32 will be used for the matrix multiplication. This will only be logged once.\n",
      "2022-12-20 10:43:14.640197: I tensorflow/core/kernels/data/shuffle_dataset_op.cc:392] Filling up shuffle buffer (this may take a while): 48 of 317\n",
      "2022-12-20 10:43:24.610529: I tensorflow/core/kernels/data/shuffle_dataset_op.cc:392] Filling up shuffle buffer (this may take a while): 100 of 317\n",
      "2022-12-20 10:43:34.541433: I tensorflow/core/kernels/data/shuffle_dataset_op.cc:392] Filling up shuffle buffer (this may take a while): 159 of 317\n",
      "2022-12-20 10:43:44.525969: I tensorflow/core/kernels/data/shuffle_dataset_op.cc:392] Filling up shuffle buffer (this may take a while): 219 of 317\n",
      "2022-12-20 10:43:54.534210: I tensorflow/core/kernels/data/shuffle_dataset_op.cc:392] Filling up shuffle buffer (this may take a while): 265 of 317\n",
      "2022-12-20 10:44:02.411298: I tensorflow/core/kernels/data/shuffle_dataset_op.cc:417] Shuffle buffer filled.\n",
      "2022-12-20 10:44:04.058027: I tensorflow/compiler/xla/service/service.cc:173] XLA service 0x7ff5caa0 initialized for platform CUDA (this does not guarantee that XLA will be used). Devices:\n",
      "2022-12-20 10:44:04.058096: I tensorflow/compiler/xla/service/service.cc:181]   StreamExecutor device (0): NVIDIA A100-SXM4-80GB, Compute Capability 8.0\n",
      "2022-12-20 10:44:04.096793: I tensorflow/compiler/mlir/tensorflow/utils/dump_mlir_util.cc:268] disabling MLIR crash reproducer, set env var `MLIR_CRASH_REPRODUCER_DIRECTORY` to enable.\n",
      "2022-12-20 10:44:05.254521: I tensorflow/compiler/jit/xla_compilation_cache.cc:477] Compiled cluster using XLA!  This line is logged at most once for the lifetime of the process.\n"
     ]
    },
    {
     "name": "stdout",
     "output_type": "stream",
     "text": [
      "320/320 [==============================] - ETA: 0s - loss: 0.2571 - mse: 0.2888 - disc_loss: 1.3096e-04\n",
      "Epoch 1: val_loss improved from inf to 0.11485, saving model to ./cp.ckpt\n"
     ]
    },
    {
     "name": "stderr",
     "output_type": "stream",
     "text": [
      "WARNING:absl:Found untraced functions such as _jit_compiled_convolution_op, _jit_compiled_convolution_op, _jit_compiled_convolution_op, _jit_compiled_convolution_op, _jit_compiled_convolution_op while saving (showing 5 of 19). These functions will not be directly callable after loading.\n"
     ]
    },
    {
     "name": "stdout",
     "output_type": "stream",
     "text": [
      "INFO:tensorflow:Assets written to: ./cp.ckpt/assets\n"
     ]
    },
    {
     "name": "stderr",
     "output_type": "stream",
     "text": [
      "INFO:tensorflow:Assets written to: ./cp.ckpt/assets\n"
     ]
    },
    {
     "name": "stdout",
     "output_type": "stream",
     "text": [
      "320/320 [==============================] - 204s 392ms/step - loss: 0.2571 - mse: 0.2888 - disc_loss: 1.3057e-04 - val_loss: 0.1149 - val_mse: 0.0189 - lr: 0.0010\n",
      "Epoch 2/75\n"
     ]
    },
    {
     "name": "stderr",
     "output_type": "stream",
     "text": [
      "2022-12-20 10:46:33.739148: I tensorflow/core/kernels/data/shuffle_dataset_op.cc:392] Filling up shuffle buffer (this may take a while): 38 of 317\n",
      "2022-12-20 10:46:43.739364: I tensorflow/core/kernels/data/shuffle_dataset_op.cc:392] Filling up shuffle buffer (this may take a while): 89 of 317\n",
      "2022-12-20 10:46:53.930830: I tensorflow/core/kernels/data/shuffle_dataset_op.cc:392] Filling up shuffle buffer (this may take a while): 151 of 317\n",
      "2022-12-20 10:47:03.903060: I tensorflow/core/kernels/data/shuffle_dataset_op.cc:392] Filling up shuffle buffer (this may take a while): 204 of 317\n",
      "2022-12-20 10:47:13.745245: I tensorflow/core/kernels/data/shuffle_dataset_op.cc:392] Filling up shuffle buffer (this may take a while): 270 of 317\n",
      "2022-12-20 10:47:21.270231: I tensorflow/core/kernels/data/shuffle_dataset_op.cc:417] Shuffle buffer filled.\n"
     ]
    },
    {
     "name": "stdout",
     "output_type": "stream",
     "text": [
      "320/320 [==============================] - ETA: 0s - loss: 0.1137 - mse: 0.0285 - disc_loss: 3.8353e-05\n",
      "Epoch 2: val_loss improved from 0.11485 to 0.10229, saving model to ./cp.ckpt\n"
     ]
    },
    {
     "name": "stderr",
     "output_type": "stream",
     "text": [
      "WARNING:absl:Found untraced functions such as _jit_compiled_convolution_op, _jit_compiled_convolution_op, _jit_compiled_convolution_op, _jit_compiled_convolution_op, _jit_compiled_convolution_op while saving (showing 5 of 19). These functions will not be directly callable after loading.\n"
     ]
    },
    {
     "name": "stdout",
     "output_type": "stream",
     "text": [
      "INFO:tensorflow:Assets written to: ./cp.ckpt/assets\n"
     ]
    },
    {
     "name": "stderr",
     "output_type": "stream",
     "text": [
      "INFO:tensorflow:Assets written to: ./cp.ckpt/assets\n"
     ]
    },
    {
     "name": "stdout",
     "output_type": "stream",
     "text": [
      "320/320 [==============================] - 178s 374ms/step - loss: 0.1137 - mse: 0.0285 - disc_loss: 3.8233e-05 - val_loss: 0.1023 - val_mse: 0.0140 - lr: 0.0010\n",
      "Epoch 3/75\n"
     ]
    },
    {
     "name": "stderr",
     "output_type": "stream",
     "text": [
      "2022-12-20 10:49:31.637237: I tensorflow/core/kernels/data/shuffle_dataset_op.cc:392] Filling up shuffle buffer (this may take a while): 51 of 317\n",
      "2022-12-20 10:49:41.702511: I tensorflow/core/kernels/data/shuffle_dataset_op.cc:392] Filling up shuffle buffer (this may take a while): 116 of 317\n",
      "2022-12-20 10:49:51.784386: I tensorflow/core/kernels/data/shuffle_dataset_op.cc:392] Filling up shuffle buffer (this may take a while): 171 of 317\n",
      "2022-12-20 10:50:01.644308: I tensorflow/core/kernels/data/shuffle_dataset_op.cc:392] Filling up shuffle buffer (this may take a while): 229 of 317\n",
      "2022-12-20 10:50:11.637093: I tensorflow/core/kernels/data/shuffle_dataset_op.cc:392] Filling up shuffle buffer (this may take a while): 295 of 317\n",
      "2022-12-20 10:50:14.884967: I tensorflow/core/kernels/data/shuffle_dataset_op.cc:417] Shuffle buffer filled.\n"
     ]
    },
    {
     "name": "stdout",
     "output_type": "stream",
     "text": [
      "320/320 [==============================] - ETA: 0s - loss: 0.1108 - mse: 0.0275 - disc_loss: 2.8770e-05\n",
      "Epoch 3: val_loss did not improve from 0.10229\n",
      "320/320 [==============================] - 165s 347ms/step - loss: 0.1108 - mse: 0.0275 - disc_loss: 2.8682e-05 - val_loss: 0.1879 - val_mse: 0.0636 - lr: 0.0010\n",
      "Epoch 4/75\n"
     ]
    },
    {
     "name": "stderr",
     "output_type": "stream",
     "text": [
      "2022-12-20 10:52:16.567035: I tensorflow/core/kernels/data/shuffle_dataset_op.cc:392] Filling up shuffle buffer (this may take a while): 68 of 317\n",
      "2022-12-20 10:52:26.571994: I tensorflow/core/kernels/data/shuffle_dataset_op.cc:392] Filling up shuffle buffer (this may take a while): 133 of 317\n",
      "2022-12-20 10:52:36.700497: I tensorflow/core/kernels/data/shuffle_dataset_op.cc:392] Filling up shuffle buffer (this may take a while): 199 of 317\n",
      "2022-12-20 10:52:46.596608: I tensorflow/core/kernels/data/shuffle_dataset_op.cc:392] Filling up shuffle buffer (this may take a while): 265 of 317\n",
      "2022-12-20 10:52:54.921921: I tensorflow/core/kernels/data/shuffle_dataset_op.cc:417] Shuffle buffer filled.\n"
     ]
    },
    {
     "name": "stdout",
     "output_type": "stream",
     "text": [
      "320/320 [==============================] - ETA: 0s - loss: 0.1091 - mse: 0.0239 - disc_loss: 2.3322e-05\n",
      "Epoch 4: val_loss improved from 0.10229 to 0.09389, saving model to ./cp.ckpt\n"
     ]
    },
    {
     "name": "stderr",
     "output_type": "stream",
     "text": [
      "WARNING:absl:Found untraced functions such as _jit_compiled_convolution_op, _jit_compiled_convolution_op, _jit_compiled_convolution_op, _jit_compiled_convolution_op, _jit_compiled_convolution_op while saving (showing 5 of 19). These functions will not be directly callable after loading.\n"
     ]
    },
    {
     "name": "stdout",
     "output_type": "stream",
     "text": [
      "INFO:tensorflow:Assets written to: ./cp.ckpt/assets\n"
     ]
    },
    {
     "name": "stderr",
     "output_type": "stream",
     "text": [
      "INFO:tensorflow:Assets written to: ./cp.ckpt/assets\n"
     ]
    },
    {
     "name": "stdout",
     "output_type": "stream",
     "text": [
      "320/320 [==============================] - 170s 378ms/step - loss: 0.1091 - mse: 0.0239 - disc_loss: 2.3250e-05 - val_loss: 0.0939 - val_mse: 0.0123 - lr: 0.0010\n",
      "Epoch 5/75\n"
     ]
    },
    {
     "name": "stderr",
     "output_type": "stream",
     "text": [
      "2022-12-20 10:55:06.742491: I tensorflow/core/kernels/data/shuffle_dataset_op.cc:392] Filling up shuffle buffer (this may take a while): 69 of 317\n",
      "2022-12-20 10:55:16.694145: I tensorflow/core/kernels/data/shuffle_dataset_op.cc:392] Filling up shuffle buffer (this may take a while): 138 of 317\n",
      "2022-12-20 10:55:26.714052: I tensorflow/core/kernels/data/shuffle_dataset_op.cc:392] Filling up shuffle buffer (this may take a while): 212 of 317\n",
      "2022-12-20 10:55:36.636971: I tensorflow/core/kernels/data/shuffle_dataset_op.cc:392] Filling up shuffle buffer (this may take a while): 285 of 317\n",
      "2022-12-20 10:55:41.296078: I tensorflow/core/kernels/data/shuffle_dataset_op.cc:417] Shuffle buffer filled.\n"
     ]
    },
    {
     "name": "stdout",
     "output_type": "stream",
     "text": [
      "320/320 [==============================] - ETA: 0s - loss: 0.1023 - mse: 0.0184 - disc_loss: 1.8781e-05\n",
      "Epoch 5: val_loss did not improve from 0.09389\n",
      "320/320 [==============================] - 156s 348ms/step - loss: 0.1023 - mse: 0.0184 - disc_loss: 1.8723e-05 - val_loss: 0.1756 - val_mse: 0.0565 - lr: 0.0010\n",
      "Epoch 6/75\n"
     ]
    },
    {
     "name": "stderr",
     "output_type": "stream",
     "text": [
      "2022-12-20 10:57:43.205953: I tensorflow/core/kernels/data/shuffle_dataset_op.cc:392] Filling up shuffle buffer (this may take a while): 66 of 317\n",
      "2022-12-20 10:57:53.202113: I tensorflow/core/kernels/data/shuffle_dataset_op.cc:392] Filling up shuffle buffer (this may take a while): 125 of 317\n",
      "2022-12-20 10:58:03.263420: I tensorflow/core/kernels/data/shuffle_dataset_op.cc:392] Filling up shuffle buffer (this may take a while): 196 of 317\n",
      "2022-12-20 10:58:13.239111: I tensorflow/core/kernels/data/shuffle_dataset_op.cc:392] Filling up shuffle buffer (this may take a while): 269 of 317\n",
      "2022-12-20 10:58:19.761909: I tensorflow/core/kernels/data/shuffle_dataset_op.cc:417] Shuffle buffer filled.\n"
     ]
    },
    {
     "name": "stdout",
     "output_type": "stream",
     "text": [
      "320/320 [==============================] - ETA: 0s - loss: 0.0953 - mse: 0.0149 - disc_loss: 1.6949e-05\n",
      "Epoch 6: val_loss did not improve from 0.09389\n",
      "320/320 [==============================] - 164s 365ms/step - loss: 0.0953 - mse: 0.0149 - disc_loss: 1.8691e-05 - val_loss: 0.1065 - val_mse: 0.0158 - lr: 0.0010\n",
      "Epoch 7/75\n"
     ]
    },
    {
     "name": "stderr",
     "output_type": "stream",
     "text": [
      "2022-12-20 11:00:27.028916: I tensorflow/core/kernels/data/shuffle_dataset_op.cc:392] Filling up shuffle buffer (this may take a while): 58 of 317\n",
      "2022-12-20 11:00:36.974531: I tensorflow/core/kernels/data/shuffle_dataset_op.cc:392] Filling up shuffle buffer (this may take a while): 122 of 317\n",
      "2022-12-20 11:00:47.035497: I tensorflow/core/kernels/data/shuffle_dataset_op.cc:392] Filling up shuffle buffer (this may take a while): 182 of 317\n",
      "2022-12-20 11:00:57.015103: I tensorflow/core/kernels/data/shuffle_dataset_op.cc:392] Filling up shuffle buffer (this may take a while): 249 of 317\n",
      "2022-12-20 11:01:07.067494: I tensorflow/core/kernels/data/shuffle_dataset_op.cc:392] Filling up shuffle buffer (this may take a while): 309 of 317\n",
      "2022-12-20 11:01:08.095333: I tensorflow/core/kernels/data/shuffle_dataset_op.cc:417] Shuffle buffer filled.\n"
     ]
    },
    {
     "name": "stdout",
     "output_type": "stream",
     "text": [
      "320/320 [==============================] - ETA: 0s - loss: 0.0943 - mse: 0.0135 - disc_loss: 1.1438e-05\n",
      "Epoch 7: val_loss did not improve from 0.09389\n",
      "320/320 [==============================] - 160s 339ms/step - loss: 0.0943 - mse: 0.0135 - disc_loss: 1.1403e-05 - val_loss: 0.1239 - val_mse: 0.0247 - lr: 0.0010\n",
      "Epoch 8/75\n"
     ]
    },
    {
     "name": "stderr",
     "output_type": "stream",
     "text": [
      "2022-12-20 11:03:07.130857: I tensorflow/core/kernels/data/shuffle_dataset_op.cc:392] Filling up shuffle buffer (this may take a while): 66 of 317\n",
      "2022-12-20 11:03:17.124402: I tensorflow/core/kernels/data/shuffle_dataset_op.cc:392] Filling up shuffle buffer (this may take a while): 135 of 317\n",
      "2022-12-20 11:03:27.075149: I tensorflow/core/kernels/data/shuffle_dataset_op.cc:392] Filling up shuffle buffer (this may take a while): 209 of 317\n",
      "2022-12-20 11:03:37.059718: I tensorflow/core/kernels/data/shuffle_dataset_op.cc:392] Filling up shuffle buffer (this may take a while): 266 of 317\n",
      "2022-12-20 11:03:44.231052: I tensorflow/core/kernels/data/shuffle_dataset_op.cc:417] Shuffle buffer filled.\n"
     ]
    },
    {
     "name": "stdout",
     "output_type": "stream",
     "text": [
      "320/320 [==============================] - ETA: 0s - loss: 0.0859 - mse: 0.0110 - disc_loss: 9.6028e-06\n",
      "Epoch 8: val_loss did not improve from 0.09389\n",
      "320/320 [==============================] - 168s 375ms/step - loss: 0.0859 - mse: 0.0110 - disc_loss: 9.5732e-06 - val_loss: 0.1034 - val_mse: 0.0165 - lr: 0.0010\n",
      "Epoch 9/75\n"
     ]
    },
    {
     "name": "stderr",
     "output_type": "stream",
     "text": [
      "2022-12-20 11:05:55.058849: I tensorflow/core/kernels/data/shuffle_dataset_op.cc:392] Filling up shuffle buffer (this may take a while): 56 of 317\n",
      "2022-12-20 11:06:05.005812: I tensorflow/core/kernels/data/shuffle_dataset_op.cc:392] Filling up shuffle buffer (this may take a while): 107 of 317\n",
      "2022-12-20 11:06:15.034239: I tensorflow/core/kernels/data/shuffle_dataset_op.cc:392] Filling up shuffle buffer (this may take a while): 161 of 317\n",
      "2022-12-20 11:06:25.013830: I tensorflow/core/kernels/data/shuffle_dataset_op.cc:392] Filling up shuffle buffer (this may take a while): 230 of 317\n",
      "2022-12-20 11:06:35.121141: I tensorflow/core/kernels/data/shuffle_dataset_op.cc:392] Filling up shuffle buffer (this may take a while): 290 of 317\n",
      "2022-12-20 11:06:40.953915: I tensorflow/core/kernels/data/shuffle_dataset_op.cc:417] Shuffle buffer filled.\n"
     ]
    },
    {
     "name": "stdout",
     "output_type": "stream",
     "text": [
      "320/320 [==============================] - ETA: 0s - loss: 0.0968 - mse: 0.0131 - disc_loss: 7.5859e-06\n",
      "Epoch 9: val_loss did not improve from 0.09389\n",
      "320/320 [==============================] - 176s 372ms/step - loss: 0.0968 - mse: 0.0131 - disc_loss: 7.5626e-06 - val_loss: 0.1045 - val_mse: 0.0148 - lr: 0.0010\n",
      "Epoch 10/75\n"
     ]
    },
    {
     "name": "stderr",
     "output_type": "stream",
     "text": [
      "2022-12-20 11:08:50.808455: I tensorflow/core/kernels/data/shuffle_dataset_op.cc:392] Filling up shuffle buffer (this may take a while): 54 of 317\n",
      "2022-12-20 11:09:00.765299: I tensorflow/core/kernels/data/shuffle_dataset_op.cc:392] Filling up shuffle buffer (this may take a while): 108 of 317\n",
      "2022-12-20 11:09:10.797409: I tensorflow/core/kernels/data/shuffle_dataset_op.cc:392] Filling up shuffle buffer (this may take a while): 162 of 317\n",
      "2022-12-20 11:09:20.698671: I tensorflow/core/kernels/data/shuffle_dataset_op.cc:392] Filling up shuffle buffer (this may take a while): 227 of 317\n",
      "2022-12-20 11:09:30.806838: I tensorflow/core/kernels/data/shuffle_dataset_op.cc:392] Filling up shuffle buffer (this may take a while): 284 of 317\n",
      "2022-12-20 11:09:36.820354: I tensorflow/core/kernels/data/shuffle_dataset_op.cc:417] Shuffle buffer filled.\n"
     ]
    },
    {
     "name": "stdout",
     "output_type": "stream",
     "text": [
      "320/320 [==============================] - ETA: 0s - loss: 0.0912 - mse: 0.0119 - disc_loss: 5.0627e-06\n",
      "Epoch 10: val_loss did not improve from 0.09389\n",
      "320/320 [==============================] - 173s 364ms/step - loss: 0.0912 - mse: 0.0119 - disc_loss: 5.0475e-06 - val_loss: 0.1258 - val_mse: 0.0233 - lr: 0.0010\n",
      "Epoch 11/75\n"
     ]
    },
    {
     "name": "stderr",
     "output_type": "stream",
     "text": [
      "2022-12-20 11:11:43.985793: I tensorflow/core/kernels/data/shuffle_dataset_op.cc:392] Filling up shuffle buffer (this may take a while): 70 of 317\n",
      "2022-12-20 11:11:53.971372: I tensorflow/core/kernels/data/shuffle_dataset_op.cc:392] Filling up shuffle buffer (this may take a while): 138 of 317\n",
      "2022-12-20 11:12:04.101607: I tensorflow/core/kernels/data/shuffle_dataset_op.cc:392] Filling up shuffle buffer (this may take a while): 202 of 317\n",
      "2022-12-20 11:12:13.925215: I tensorflow/core/kernels/data/shuffle_dataset_op.cc:392] Filling up shuffle buffer (this may take a while): 270 of 317\n",
      "2022-12-20 11:12:20.341792: I tensorflow/core/kernels/data/shuffle_dataset_op.cc:417] Shuffle buffer filled.\n"
     ]
    },
    {
     "name": "stdout",
     "output_type": "stream",
     "text": [
      "320/320 [==============================] - ETA: 0s - loss: 0.0888 - mse: 0.0113 - disc_loss: 4.0556e-06\n",
      "Epoch 11: val_loss did not improve from 0.09389\n",
      "320/320 [==============================] - 153s 333ms/step - loss: 0.0888 - mse: 0.0113 - disc_loss: 4.0430e-06 - val_loss: 0.1038 - val_mse: 0.0145 - lr: 0.0010\n",
      "Epoch 12/75\n"
     ]
    },
    {
     "name": "stderr",
     "output_type": "stream",
     "text": [
      "2022-12-20 11:14:17.488096: I tensorflow/core/kernels/data/shuffle_dataset_op.cc:392] Filling up shuffle buffer (this may take a while): 67 of 317\n",
      "2022-12-20 11:14:27.524771: I tensorflow/core/kernels/data/shuffle_dataset_op.cc:392] Filling up shuffle buffer (this may take a while): 127 of 317\n",
      "2022-12-20 11:14:37.496569: I tensorflow/core/kernels/data/shuffle_dataset_op.cc:392] Filling up shuffle buffer (this may take a while): 196 of 317\n",
      "2022-12-20 11:14:47.422616: I tensorflow/core/kernels/data/shuffle_dataset_op.cc:392] Filling up shuffle buffer (this may take a while): 266 of 317\n",
      "2022-12-20 11:14:55.894426: I tensorflow/core/kernels/data/shuffle_dataset_op.cc:417] Shuffle buffer filled.\n"
     ]
    },
    {
     "name": "stdout",
     "output_type": "stream",
     "text": [
      "320/320 [==============================] - ETA: 0s - loss: 0.0837 - mse: 0.0103 - disc_loss: 1.6482e-06\n",
      "Epoch 12: val_loss did not improve from 0.09389\n",
      "320/320 [==============================] - 156s 336ms/step - loss: 0.0837 - mse: 0.0103 - disc_loss: 1.6431e-06 - val_loss: 0.1151 - val_mse: 0.0196 - lr: 0.0010\n",
      "Epoch 13/75\n"
     ]
    },
    {
     "name": "stderr",
     "output_type": "stream",
     "text": [
      "2022-12-20 11:16:53.950472: I tensorflow/core/kernels/data/shuffle_dataset_op.cc:392] Filling up shuffle buffer (this may take a while): 71 of 317\n",
      "2022-12-20 11:17:03.970007: I tensorflow/core/kernels/data/shuffle_dataset_op.cc:392] Filling up shuffle buffer (this may take a while): 137 of 317\n",
      "2022-12-20 11:17:13.952993: I tensorflow/core/kernels/data/shuffle_dataset_op.cc:392] Filling up shuffle buffer (this may take a while): 203 of 317\n",
      "2022-12-20 11:17:23.962383: I tensorflow/core/kernels/data/shuffle_dataset_op.cc:392] Filling up shuffle buffer (this may take a while): 263 of 317\n",
      "2022-12-20 11:17:32.662252: I tensorflow/core/kernels/data/shuffle_dataset_op.cc:417] Shuffle buffer filled.\n"
     ]
    },
    {
     "name": "stdout",
     "output_type": "stream",
     "text": [
      "320/320 [==============================] - ETA: 0s - loss: 0.0841 - mse: 0.0104 - disc_loss: 2.9098e-06\n",
      "Epoch 13: val_loss did not improve from 0.09389\n",
      "320/320 [==============================] - 168s 371ms/step - loss: 0.0841 - mse: 0.0104 - disc_loss: 2.9008e-06 - val_loss: 0.1102 - val_mse: 0.0175 - lr: 0.0010\n",
      "Epoch 14/75\n"
     ]
    },
    {
     "name": "stderr",
     "output_type": "stream",
     "text": [
      "2022-12-20 11:19:41.989545: I tensorflow/core/kernels/data/shuffle_dataset_op.cc:392] Filling up shuffle buffer (this may take a while): 49 of 317\n",
      "2022-12-20 11:19:52.070960: I tensorflow/core/kernels/data/shuffle_dataset_op.cc:392] Filling up shuffle buffer (this may take a while): 120 of 317\n",
      "2022-12-20 11:20:02.003893: I tensorflow/core/kernels/data/shuffle_dataset_op.cc:392] Filling up shuffle buffer (this may take a while): 183 of 317\n",
      "2022-12-20 11:20:11.980528: I tensorflow/core/kernels/data/shuffle_dataset_op.cc:392] Filling up shuffle buffer (this may take a while): 242 of 317\n",
      "2022-12-20 11:20:21.956587: I tensorflow/core/kernels/data/shuffle_dataset_op.cc:392] Filling up shuffle buffer (this may take a while): 310 of 317\n",
      "2022-12-20 11:20:22.822556: I tensorflow/core/kernels/data/shuffle_dataset_op.cc:417] Shuffle buffer filled.\n"
     ]
    },
    {
     "name": "stdout",
     "output_type": "stream",
     "text": [
      "320/320 [==============================] - ETA: 0s - loss: 0.0836 - mse: 0.0103 - disc_loss: 2.6146e-06\n",
      "Epoch 14: val_loss did not improve from 0.09389\n",
      "320/320 [==============================] - 169s 367ms/step - loss: 0.0836 - mse: 0.0103 - disc_loss: 2.6065e-06 - val_loss: 0.1050 - val_mse: 0.0171 - lr: 0.0010\n",
      "Epoch 15/75\n"
     ]
    },
    {
     "name": "stderr",
     "output_type": "stream",
     "text": [
      "2022-12-20 11:22:30.764148: I tensorflow/core/kernels/data/shuffle_dataset_op.cc:392] Filling up shuffle buffer (this may take a while): 70 of 317\n",
      "2022-12-20 11:22:40.734963: I tensorflow/core/kernels/data/shuffle_dataset_op.cc:392] Filling up shuffle buffer (this may take a while): 132 of 317\n",
      "2022-12-20 11:22:50.801388: I tensorflow/core/kernels/data/shuffle_dataset_op.cc:392] Filling up shuffle buffer (this may take a while): 179 of 317\n",
      "2022-12-20 11:23:00.735851: I tensorflow/core/kernels/data/shuffle_dataset_op.cc:392] Filling up shuffle buffer (this may take a while): 232 of 317\n",
      "2022-12-20 11:23:10.832220: I tensorflow/core/kernels/data/shuffle_dataset_op.cc:392] Filling up shuffle buffer (this may take a while): 295 of 317\n",
      "2022-12-20 11:23:14.377892: I tensorflow/core/kernels/data/shuffle_dataset_op.cc:417] Shuffle buffer filled.\n"
     ]
    },
    {
     "name": "stdout",
     "output_type": "stream",
     "text": [
      "320/320 [==============================] - ETA: 0s - loss: 0.0818 - mse: 0.0099 - disc_loss: 2.4508e-06\n",
      "Epoch 15: val_loss did not improve from 0.09389\n",
      "320/320 [==============================] - 174s 376ms/step - loss: 0.0818 - mse: 0.0099 - disc_loss: 2.4432e-06 - val_loss: 0.1100 - val_mse: 0.0186 - lr: 3.0000e-04\n",
      "Epoch 16/75\n"
     ]
    },
    {
     "name": "stderr",
     "output_type": "stream",
     "text": [
      "2022-12-20 11:25:25.194390: I tensorflow/core/kernels/data/shuffle_dataset_op.cc:392] Filling up shuffle buffer (this may take a while): 71 of 317\n",
      "2022-12-20 11:25:35.175528: I tensorflow/core/kernels/data/shuffle_dataset_op.cc:392] Filling up shuffle buffer (this may take a while): 129 of 317\n",
      "2022-12-20 11:25:45.210562: I tensorflow/core/kernels/data/shuffle_dataset_op.cc:392] Filling up shuffle buffer (this may take a while): 197 of 317\n",
      "2022-12-20 11:25:55.188809: I tensorflow/core/kernels/data/shuffle_dataset_op.cc:392] Filling up shuffle buffer (this may take a while): 269 of 317\n",
      "2022-12-20 11:26:01.745754: I tensorflow/core/kernels/data/shuffle_dataset_op.cc:417] Shuffle buffer filled.\n"
     ]
    },
    {
     "name": "stdout",
     "output_type": "stream",
     "text": [
      "320/320 [==============================] - ETA: 0s - loss: 0.0822 - mse: 0.0100 - disc_loss: 2.3648e-06\n",
      "Epoch 16: val_loss improved from 0.09389 to 0.09312, saving model to ./cp.ckpt\n"
     ]
    },
    {
     "name": "stderr",
     "output_type": "stream",
     "text": [
      "WARNING:absl:Found untraced functions such as _jit_compiled_convolution_op, _jit_compiled_convolution_op, _jit_compiled_convolution_op, _jit_compiled_convolution_op, _jit_compiled_convolution_op while saving (showing 5 of 19). These functions will not be directly callable after loading.\n"
     ]
    },
    {
     "name": "stdout",
     "output_type": "stream",
     "text": [
      "INFO:tensorflow:Assets written to: ./cp.ckpt/assets\n"
     ]
    },
    {
     "name": "stderr",
     "output_type": "stream",
     "text": [
      "INFO:tensorflow:Assets written to: ./cp.ckpt/assets\n"
     ]
    },
    {
     "name": "stdout",
     "output_type": "stream",
     "text": [
      "320/320 [==============================] - 161s 355ms/step - loss: 0.0822 - mse: 0.0100 - disc_loss: 2.3576e-06 - val_loss: 0.0931 - val_mse: 0.0137 - lr: 3.0000e-04\n",
      "Epoch 17/75\n"
     ]
    },
    {
     "name": "stderr",
     "output_type": "stream",
     "text": [
      "2022-12-20 11:28:05.829093: I tensorflow/core/kernels/data/shuffle_dataset_op.cc:392] Filling up shuffle buffer (this may take a while): 59 of 317\n",
      "2022-12-20 11:28:15.907347: I tensorflow/core/kernels/data/shuffle_dataset_op.cc:392] Filling up shuffle buffer (this may take a while): 105 of 317\n",
      "2022-12-20 11:28:25.833324: I tensorflow/core/kernels/data/shuffle_dataset_op.cc:392] Filling up shuffle buffer (this may take a while): 156 of 317\n",
      "2022-12-20 11:28:35.893065: I tensorflow/core/kernels/data/shuffle_dataset_op.cc:392] Filling up shuffle buffer (this may take a while): 212 of 317\n",
      "2022-12-20 11:28:45.894999: I tensorflow/core/kernels/data/shuffle_dataset_op.cc:392] Filling up shuffle buffer (this may take a while): 277 of 317\n",
      "2022-12-20 11:28:52.640788: I tensorflow/core/kernels/data/shuffle_dataset_op.cc:417] Shuffle buffer filled.\n"
     ]
    },
    {
     "name": "stdout",
     "output_type": "stream",
     "text": [
      "320/320 [==============================] - ETA: 0s - loss: 0.0835 - mse: 0.0103 - disc_loss: 2.3336e-06\n",
      "Epoch 17: val_loss improved from 0.09312 to 0.09075, saving model to ./cp.ckpt\n"
     ]
    },
    {
     "name": "stderr",
     "output_type": "stream",
     "text": [
      "WARNING:absl:Found untraced functions such as _jit_compiled_convolution_op, _jit_compiled_convolution_op, _jit_compiled_convolution_op, _jit_compiled_convolution_op, _jit_compiled_convolution_op while saving (showing 5 of 19). These functions will not be directly callable after loading.\n"
     ]
    },
    {
     "name": "stdout",
     "output_type": "stream",
     "text": [
      "INFO:tensorflow:Assets written to: ./cp.ckpt/assets\n"
     ]
    },
    {
     "name": "stderr",
     "output_type": "stream",
     "text": [
      "INFO:tensorflow:Assets written to: ./cp.ckpt/assets\n"
     ]
    },
    {
     "name": "stdout",
     "output_type": "stream",
     "text": [
      "320/320 [==============================] - 172s 359ms/step - loss: 0.0835 - mse: 0.0103 - disc_loss: 2.3264e-06 - val_loss: 0.0908 - val_mse: 0.0128 - lr: 3.0000e-04\n",
      "Epoch 18/75\n"
     ]
    },
    {
     "name": "stderr",
     "output_type": "stream",
     "text": [
      "2022-12-20 11:30:58.162681: I tensorflow/core/kernels/data/shuffle_dataset_op.cc:392] Filling up shuffle buffer (this may take a while): 74 of 317\n",
      "2022-12-20 11:31:08.184727: I tensorflow/core/kernels/data/shuffle_dataset_op.cc:392] Filling up shuffle buffer (this may take a while): 137 of 317\n",
      "2022-12-20 11:31:18.165260: I tensorflow/core/kernels/data/shuffle_dataset_op.cc:392] Filling up shuffle buffer (this may take a while): 184 of 317\n",
      "2022-12-20 11:31:28.207145: I tensorflow/core/kernels/data/shuffle_dataset_op.cc:392] Filling up shuffle buffer (this may take a while): 249 of 317\n",
      "2022-12-20 11:31:38.185937: I tensorflow/core/kernels/data/shuffle_dataset_op.cc:392] Filling up shuffle buffer (this may take a while): 310 of 317\n",
      "2022-12-20 11:31:39.087472: I tensorflow/core/kernels/data/shuffle_dataset_op.cc:417] Shuffle buffer filled.\n"
     ]
    },
    {
     "name": "stdout",
     "output_type": "stream",
     "text": [
      "320/320 [==============================] - ETA: 0s - loss: 0.0837 - mse: 0.0103 - disc_loss: 2.3763e-06\n",
      "Epoch 18: val_loss did not improve from 0.09075\n",
      "320/320 [==============================] - 173s 381ms/step - loss: 0.0837 - mse: 0.0103 - disc_loss: 2.3689e-06 - val_loss: 0.0976 - val_mse: 0.0150 - lr: 3.0000e-04\n",
      "Epoch 19/75\n"
     ]
    },
    {
     "name": "stderr",
     "output_type": "stream",
     "text": [
      "2022-12-20 11:33:51.742868: I tensorflow/core/kernels/data/shuffle_dataset_op.cc:392] Filling up shuffle buffer (this may take a while): 62 of 317\n",
      "2022-12-20 11:34:01.680678: I tensorflow/core/kernels/data/shuffle_dataset_op.cc:392] Filling up shuffle buffer (this may take a while): 128 of 317\n",
      "2022-12-20 11:34:11.705894: I tensorflow/core/kernels/data/shuffle_dataset_op.cc:392] Filling up shuffle buffer (this may take a while): 198 of 317\n",
      "2022-12-20 11:34:21.737237: I tensorflow/core/kernels/data/shuffle_dataset_op.cc:392] Filling up shuffle buffer (this may take a while): 265 of 317\n",
      "2022-12-20 11:34:29.970369: I tensorflow/core/kernels/data/shuffle_dataset_op.cc:417] Shuffle buffer filled.\n"
     ]
    },
    {
     "name": "stdout",
     "output_type": "stream",
     "text": [
      "320/320 [==============================] - ETA: 0s - loss: 0.0837 - mse: 0.0103 - disc_loss: 2.2718e-06\n",
      "Epoch 19: val_loss did not improve from 0.09075\n",
      "320/320 [==============================] - 157s 338ms/step - loss: 0.0837 - mse: 0.0103 - disc_loss: 2.2649e-06 - val_loss: 0.0986 - val_mse: 0.0153 - lr: 3.0000e-04\n",
      "Epoch 20/75\n"
     ]
    },
    {
     "name": "stderr",
     "output_type": "stream",
     "text": [
      "2022-12-20 11:36:28.580885: I tensorflow/core/kernels/data/shuffle_dataset_op.cc:392] Filling up shuffle buffer (this may take a while): 61 of 317\n",
      "2022-12-20 11:36:38.691677: I tensorflow/core/kernels/data/shuffle_dataset_op.cc:392] Filling up shuffle buffer (this may take a while): 116 of 317\n",
      "2022-12-20 11:36:48.575461: I tensorflow/core/kernels/data/shuffle_dataset_op.cc:392] Filling up shuffle buffer (this may take a while): 182 of 317\n",
      "2022-12-20 11:36:58.586019: I tensorflow/core/kernels/data/shuffle_dataset_op.cc:392] Filling up shuffle buffer (this may take a while): 244 of 317\n",
      "2022-12-20 11:37:08.604579: I tensorflow/core/kernels/data/shuffle_dataset_op.cc:392] Filling up shuffle buffer (this may take a while): 304 of 317\n",
      "2022-12-20 11:37:10.777391: I tensorflow/core/kernels/data/shuffle_dataset_op.cc:417] Shuffle buffer filled.\n"
     ]
    },
    {
     "name": "stdout",
     "output_type": "stream",
     "text": [
      "320/320 [==============================] - ETA: 0s - loss: 0.0841 - mse: 0.0104 - disc_loss: 2.3966e-06\n",
      "Epoch 20: val_loss did not improve from 0.09075\n",
      "320/320 [==============================] - 162s 341ms/step - loss: 0.0841 - mse: 0.0104 - disc_loss: 2.3891e-06 - val_loss: 0.0999 - val_mse: 0.0156 - lr: 3.0000e-04\n",
      "Epoch 21/75\n"
     ]
    },
    {
     "name": "stderr",
     "output_type": "stream",
     "text": [
      "2022-12-20 11:39:10.424389: I tensorflow/core/kernels/data/shuffle_dataset_op.cc:392] Filling up shuffle buffer (this may take a while): 60 of 317\n",
      "2022-12-20 11:39:20.440259: I tensorflow/core/kernels/data/shuffle_dataset_op.cc:392] Filling up shuffle buffer (this may take a while): 126 of 317\n",
      "2022-12-20 11:39:30.494334: I tensorflow/core/kernels/data/shuffle_dataset_op.cc:392] Filling up shuffle buffer (this may take a while): 183 of 317\n",
      "2022-12-20 11:39:40.413817: I tensorflow/core/kernels/data/shuffle_dataset_op.cc:392] Filling up shuffle buffer (this may take a while): 241 of 317\n",
      "2022-12-20 11:39:50.436948: I tensorflow/core/kernels/data/shuffle_dataset_op.cc:392] Filling up shuffle buffer (this may take a while): 309 of 317\n",
      "2022-12-20 11:39:51.587059: I tensorflow/core/kernels/data/shuffle_dataset_op.cc:417] Shuffle buffer filled.\n"
     ]
    },
    {
     "name": "stdout",
     "output_type": "stream",
     "text": [
      "320/320 [==============================] - ETA: 0s - loss: 0.0841 - mse: 0.0104 - disc_loss: 2.4992e-06\n",
      "Epoch 21: val_loss improved from 0.09075 to 0.08209, saving model to ./cp.ckpt\n"
     ]
    },
    {
     "name": "stderr",
     "output_type": "stream",
     "text": [
      "WARNING:absl:Found untraced functions such as _jit_compiled_convolution_op, _jit_compiled_convolution_op, _jit_compiled_convolution_op, _jit_compiled_convolution_op, _jit_compiled_convolution_op while saving (showing 5 of 19). These functions will not be directly callable after loading.\n"
     ]
    },
    {
     "name": "stdout",
     "output_type": "stream",
     "text": [
      "INFO:tensorflow:Assets written to: ./cp.ckpt/assets\n"
     ]
    },
    {
     "name": "stderr",
     "output_type": "stream",
     "text": [
      "INFO:tensorflow:Assets written to: ./cp.ckpt/assets\n"
     ]
    },
    {
     "name": "stdout",
     "output_type": "stream",
     "text": [
      "320/320 [==============================] - 180s 400ms/step - loss: 0.0841 - mse: 0.0104 - disc_loss: 2.4915e-06 - val_loss: 0.0821 - val_mse: 0.0100 - lr: 3.0000e-04\n",
      "Epoch 22/75\n"
     ]
    },
    {
     "name": "stderr",
     "output_type": "stream",
     "text": [
      "2022-12-20 11:42:10.319255: I tensorflow/core/kernels/data/shuffle_dataset_op.cc:392] Filling up shuffle buffer (this may take a while): 70 of 317\n",
      "2022-12-20 11:42:20.406128: I tensorflow/core/kernels/data/shuffle_dataset_op.cc:392] Filling up shuffle buffer (this may take a while): 125 of 317\n",
      "2022-12-20 11:42:30.450782: I tensorflow/core/kernels/data/shuffle_dataset_op.cc:392] Filling up shuffle buffer (this may take a while): 189 of 317\n",
      "2022-12-20 11:42:40.441475: I tensorflow/core/kernels/data/shuffle_dataset_op.cc:392] Filling up shuffle buffer (this may take a while): 251 of 317\n",
      "2022-12-20 11:42:50.298991: I tensorflow/core/kernels/data/shuffle_dataset_op.cc:417] Shuffle buffer filled.\n"
     ]
    },
    {
     "name": "stdout",
     "output_type": "stream",
     "text": [
      "320/320 [==============================] - ETA: 0s - loss: 0.0841 - mse: 0.0103 - disc_loss: 2.6359e-06\n",
      "Epoch 22: val_loss did not improve from 0.08209\n",
      "320/320 [==============================] - 166s 362ms/step - loss: 0.0841 - mse: 0.0103 - disc_loss: 2.6277e-06 - val_loss: 0.0932 - val_mse: 0.0133 - lr: 3.0000e-04\n",
      "Epoch 23/75\n"
     ]
    },
    {
     "name": "stderr",
     "output_type": "stream",
     "text": [
      "2022-12-20 11:44:56.974306: I tensorflow/core/kernels/data/shuffle_dataset_op.cc:392] Filling up shuffle buffer (this may take a while): 65 of 317\n",
      "2022-12-20 11:45:06.923294: I tensorflow/core/kernels/data/shuffle_dataset_op.cc:392] Filling up shuffle buffer (this may take a while): 117 of 317\n",
      "2022-12-20 11:45:16.982682: I tensorflow/core/kernels/data/shuffle_dataset_op.cc:392] Filling up shuffle buffer (this may take a while): 176 of 317\n",
      "2022-12-20 11:45:26.850248: I tensorflow/core/kernels/data/shuffle_dataset_op.cc:392] Filling up shuffle buffer (this may take a while): 225 of 317\n",
      "2022-12-20 11:45:36.842359: I tensorflow/core/kernels/data/shuffle_dataset_op.cc:392] Filling up shuffle buffer (this may take a while): 294 of 317\n",
      "2022-12-20 11:45:40.642725: I tensorflow/core/kernels/data/shuffle_dataset_op.cc:417] Shuffle buffer filled.\n"
     ]
    },
    {
     "name": "stdout",
     "output_type": "stream",
     "text": [
      "320/320 [==============================] - ETA: 0s - loss: 0.0839 - mse: 0.0103 - disc_loss: 2.7635e-06\n",
      "Epoch 23: val_loss did not improve from 0.08209\n",
      "320/320 [==============================] - 165s 347ms/step - loss: 0.0839 - mse: 0.0103 - disc_loss: 2.7549e-06 - val_loss: 0.1153 - val_mse: 0.0199 - lr: 3.0000e-04\n",
      "Epoch 24/75\n"
     ]
    },
    {
     "name": "stderr",
     "output_type": "stream",
     "text": [
      "2022-12-20 11:47:42.338748: I tensorflow/core/kernels/data/shuffle_dataset_op.cc:392] Filling up shuffle buffer (this may take a while): 71 of 317\n",
      "2022-12-20 11:47:52.299190: I tensorflow/core/kernels/data/shuffle_dataset_op.cc:392] Filling up shuffle buffer (this may take a while): 137 of 317\n",
      "2022-12-20 11:48:02.276588: I tensorflow/core/kernels/data/shuffle_dataset_op.cc:392] Filling up shuffle buffer (this may take a while): 207 of 317\n",
      "2022-12-20 11:48:12.223765: I tensorflow/core/kernels/data/shuffle_dataset_op.cc:392] Filling up shuffle buffer (this may take a while): 273 of 317\n",
      "2022-12-20 11:48:20.399456: I tensorflow/core/kernels/data/shuffle_dataset_op.cc:417] Shuffle buffer filled.\n"
     ]
    },
    {
     "name": "stdout",
     "output_type": "stream",
     "text": [
      "320/320 [==============================] - ETA: 0s - loss: 0.0838 - mse: 0.0103 - disc_loss: 3.0256e-06\n",
      "Epoch 24: val_loss did not improve from 0.08209\n",
      "320/320 [==============================] - 164s 361ms/step - loss: 0.0838 - mse: 0.0103 - disc_loss: 3.0162e-06 - val_loss: 0.0983 - val_mse: 0.0149 - lr: 3.0000e-04\n",
      "Epoch 25/75\n"
     ]
    },
    {
     "name": "stderr",
     "output_type": "stream",
     "text": [
      "2022-12-20 11:50:26.424810: I tensorflow/core/kernels/data/shuffle_dataset_op.cc:392] Filling up shuffle buffer (this may take a while): 59 of 317\n",
      "2022-12-20 11:50:36.474308: I tensorflow/core/kernels/data/shuffle_dataset_op.cc:392] Filling up shuffle buffer (this may take a while): 118 of 317\n",
      "2022-12-20 11:50:46.468185: I tensorflow/core/kernels/data/shuffle_dataset_op.cc:392] Filling up shuffle buffer (this may take a while): 183 of 317\n",
      "2022-12-20 11:50:56.428904: I tensorflow/core/kernels/data/shuffle_dataset_op.cc:392] Filling up shuffle buffer (this may take a while): 223 of 317\n",
      "2022-12-20 11:51:06.412083: I tensorflow/core/kernels/data/shuffle_dataset_op.cc:392] Filling up shuffle buffer (this may take a while): 288 of 317\n",
      "2022-12-20 11:51:10.636169: I tensorflow/core/kernels/data/shuffle_dataset_op.cc:417] Shuffle buffer filled.\n"
     ]
    },
    {
     "name": "stdout",
     "output_type": "stream",
     "text": [
      "320/320 [==============================] - ETA: 0s - loss: 0.0837 - mse: 0.0103 - disc_loss: 2.9646e-06\n",
      "Epoch 25: val_loss did not improve from 0.08209\n",
      "320/320 [==============================] - 168s 354ms/step - loss: 0.0837 - mse: 0.0103 - disc_loss: 2.9554e-06 - val_loss: 0.0919 - val_mse: 0.0135 - lr: 3.0000e-04\n",
      "Epoch 26/75\n"
     ]
    },
    {
     "name": "stderr",
     "output_type": "stream",
     "text": [
      "2022-12-20 11:53:14.461700: I tensorflow/core/kernels/data/shuffle_dataset_op.cc:392] Filling up shuffle buffer (this may take a while): 68 of 317\n",
      "2022-12-20 11:53:24.502322: I tensorflow/core/kernels/data/shuffle_dataset_op.cc:392] Filling up shuffle buffer (this may take a while): 138 of 317\n",
      "2022-12-20 11:53:34.517987: I tensorflow/core/kernels/data/shuffle_dataset_op.cc:392] Filling up shuffle buffer (this may take a while): 201 of 317\n",
      "2022-12-20 11:53:44.469532: I tensorflow/core/kernels/data/shuffle_dataset_op.cc:392] Filling up shuffle buffer (this may take a while): 262 of 317\n",
      "2022-12-20 11:53:52.060236: I tensorflow/core/kernels/data/shuffle_dataset_op.cc:417] Shuffle buffer filled.\n"
     ]
    },
    {
     "name": "stdout",
     "output_type": "stream",
     "text": [
      "320/320 [==============================] - ETA: 0s - loss: 0.0831 - mse: 0.0101 - disc_loss: 3.2922e-06\n",
      "Epoch 26: val_loss did not improve from 0.08209\n",
      "320/320 [==============================] - 156s 336ms/step - loss: 0.0831 - mse: 0.0101 - disc_loss: 3.2820e-06 - val_loss: 0.1039 - val_mse: 0.0170 - lr: 3.0000e-04\n",
      "Epoch 27/75\n"
     ]
    },
    {
     "name": "stderr",
     "output_type": "stream",
     "text": [
      "2022-12-20 11:55:50.266263: I tensorflow/core/kernels/data/shuffle_dataset_op.cc:392] Filling up shuffle buffer (this may take a while): 61 of 317\n",
      "2022-12-20 11:56:00.303965: I tensorflow/core/kernels/data/shuffle_dataset_op.cc:392] Filling up shuffle buffer (this may take a while): 117 of 317\n",
      "2022-12-20 11:56:10.302850: I tensorflow/core/kernels/data/shuffle_dataset_op.cc:392] Filling up shuffle buffer (this may take a while): 185 of 317\n",
      "2022-12-20 11:56:20.275663: I tensorflow/core/kernels/data/shuffle_dataset_op.cc:392] Filling up shuffle buffer (this may take a while): 256 of 317\n",
      "2022-12-20 11:56:30.235727: I tensorflow/core/kernels/data/shuffle_dataset_op.cc:392] Filling up shuffle buffer (this may take a while): 314 of 317\n",
      "2022-12-20 11:56:30.699519: I tensorflow/core/kernels/data/shuffle_dataset_op.cc:417] Shuffle buffer filled.\n"
     ]
    },
    {
     "name": "stdout",
     "output_type": "stream",
     "text": [
      "320/320 [==============================] - ETA: 0s - loss: 0.0833 - mse: 0.0102 - disc_loss: 3.3692e-06\n",
      "Epoch 27: val_loss did not improve from 0.08209\n",
      "320/320 [==============================] - 159s 338ms/step - loss: 0.0833 - mse: 0.0102 - disc_loss: 3.3587e-06 - val_loss: 0.1017 - val_mse: 0.0162 - lr: 3.0000e-04\n",
      "Epoch 28/75\n"
     ]
    },
    {
     "name": "stderr",
     "output_type": "stream",
     "text": [
      "2022-12-20 11:58:29.512547: I tensorflow/core/kernels/data/shuffle_dataset_op.cc:392] Filling up shuffle buffer (this may take a while): 67 of 317\n",
      "2022-12-20 11:58:39.469059: I tensorflow/core/kernels/data/shuffle_dataset_op.cc:392] Filling up shuffle buffer (this may take a while): 119 of 317\n",
      "2022-12-20 11:58:49.465972: I tensorflow/core/kernels/data/shuffle_dataset_op.cc:392] Filling up shuffle buffer (this may take a while): 180 of 317\n",
      "2022-12-20 11:58:59.384319: I tensorflow/core/kernels/data/shuffle_dataset_op.cc:392] Filling up shuffle buffer (this may take a while): 244 of 317\n",
      "2022-12-20 11:59:09.379243: I tensorflow/core/kernels/data/shuffle_dataset_op.cc:392] Filling up shuffle buffer (this may take a while): 315 of 317\n",
      "2022-12-20 11:59:09.557757: I tensorflow/core/kernels/data/shuffle_dataset_op.cc:417] Shuffle buffer filled.\n"
     ]
    },
    {
     "name": "stdout",
     "output_type": "stream",
     "text": [
      "320/320 [==============================] - ETA: 0s - loss: 0.0829 - mse: 0.0101 - disc_loss: 3.7382e-06\n",
      "Epoch 28: val_loss did not improve from 0.08209\n",
      "320/320 [==============================] - 157s 332ms/step - loss: 0.0829 - mse: 0.0101 - disc_loss: 3.7266e-06 - val_loss: 0.1743 - val_mse: 0.0401 - lr: 3.0000e-04\n",
      "Epoch 29/75\n"
     ]
    },
    {
     "name": "stderr",
     "output_type": "stream",
     "text": [
      "2022-12-20 12:01:06.532914: I tensorflow/core/kernels/data/shuffle_dataset_op.cc:392] Filling up shuffle buffer (this may take a while): 65 of 317\n",
      "2022-12-20 12:01:16.559655: I tensorflow/core/kernels/data/shuffle_dataset_op.cc:392] Filling up shuffle buffer (this may take a while): 129 of 317\n",
      "2022-12-20 12:01:26.595328: I tensorflow/core/kernels/data/shuffle_dataset_op.cc:392] Filling up shuffle buffer (this may take a while): 187 of 317\n",
      "2022-12-20 12:01:36.526793: I tensorflow/core/kernels/data/shuffle_dataset_op.cc:392] Filling up shuffle buffer (this may take a while): 248 of 317\n",
      "2022-12-20 12:01:46.422813: I tensorflow/core/kernels/data/shuffle_dataset_op.cc:392] Filling up shuffle buffer (this may take a while): 311 of 317\n",
      "2022-12-20 12:01:47.153540: I tensorflow/core/kernels/data/shuffle_dataset_op.cc:417] Shuffle buffer filled.\n"
     ]
    },
    {
     "name": "stdout",
     "output_type": "stream",
     "text": [
      "320/320 [==============================] - ETA: 0s - loss: 0.0827 - mse: 0.0101 - disc_loss: 3.6789e-06\n",
      "Epoch 29: val_loss did not improve from 0.08209\n",
      "320/320 [==============================] - 174s 384ms/step - loss: 0.0827 - mse: 0.0101 - disc_loss: 3.6674e-06 - val_loss: 0.2055 - val_mse: 0.0530 - lr: 3.0000e-04\n",
      "Epoch 30/75\n"
     ]
    },
    {
     "name": "stderr",
     "output_type": "stream",
     "text": [
      "2022-12-20 12:04:00.716508: I tensorflow/core/kernels/data/shuffle_dataset_op.cc:392] Filling up shuffle buffer (this may take a while): 31 of 317\n",
      "2022-12-20 12:04:10.554937: I tensorflow/core/kernels/data/shuffle_dataset_op.cc:392] Filling up shuffle buffer (this may take a while): 61 of 317\n",
      "2022-12-20 12:04:20.463101: I tensorflow/core/kernels/data/shuffle_dataset_op.cc:392] Filling up shuffle buffer (this may take a while): 112 of 317\n",
      "2022-12-20 12:04:30.618986: I tensorflow/core/kernels/data/shuffle_dataset_op.cc:392] Filling up shuffle buffer (this may take a while): 170 of 317\n",
      "2022-12-20 12:04:40.558576: I tensorflow/core/kernels/data/shuffle_dataset_op.cc:392] Filling up shuffle buffer (this may take a while): 237 of 317\n",
      "2022-12-20 12:04:50.507552: I tensorflow/core/kernels/data/shuffle_dataset_op.cc:392] Filling up shuffle buffer (this may take a while): 307 of 317\n",
      "2022-12-20 12:04:51.814566: I tensorflow/core/kernels/data/shuffle_dataset_op.cc:417] Shuffle buffer filled.\n"
     ]
    },
    {
     "name": "stdout",
     "output_type": "stream",
     "text": [
      "320/320 [==============================] - ETA: 0s - loss: 0.0826 - mse: 0.0101 - disc_loss: 4.2556e-06\n",
      "Epoch 30: val_loss did not improve from 0.08209\n",
      "320/320 [==============================] - 182s 374ms/step - loss: 0.0826 - mse: 0.0101 - disc_loss: 4.2424e-06 - val_loss: 0.1115 - val_mse: 0.0179 - lr: 3.0000e-04\n",
      "Epoch 31/75\n"
     ]
    },
    {
     "name": "stderr",
     "output_type": "stream",
     "text": [
      "2022-12-20 12:07:02.199674: I tensorflow/core/kernels/data/shuffle_dataset_op.cc:392] Filling up shuffle buffer (this may take a while): 59 of 317\n",
      "2022-12-20 12:07:12.173624: I tensorflow/core/kernels/data/shuffle_dataset_op.cc:392] Filling up shuffle buffer (this may take a while): 116 of 317\n",
      "2022-12-20 12:07:22.338062: I tensorflow/core/kernels/data/shuffle_dataset_op.cc:392] Filling up shuffle buffer (this may take a while): 171 of 317\n",
      "2022-12-20 12:07:32.220870: I tensorflow/core/kernels/data/shuffle_dataset_op.cc:392] Filling up shuffle buffer (this may take a while): 236 of 317\n",
      "2022-12-20 12:07:42.235488: I tensorflow/core/kernels/data/shuffle_dataset_op.cc:392] Filling up shuffle buffer (this may take a while): 303 of 317\n",
      "2022-12-20 12:07:44.126163: I tensorflow/core/kernels/data/shuffle_dataset_op.cc:417] Shuffle buffer filled.\n"
     ]
    },
    {
     "name": "stdout",
     "output_type": "stream",
     "text": [
      "320/320 [==============================] - ETA: 0s - loss: 0.0831 - mse: 0.0101 - disc_loss: 4.2752e-07\n",
      "Epoch 31: val_loss did not improve from 0.08209\n",
      "320/320 [==============================] - 171s 370ms/step - loss: 0.0831 - mse: 0.0101 - disc_loss: 4.2619e-07 - val_loss: 0.1028 - val_mse: 0.0168 - lr: 3.0000e-04\n",
      "Epoch 32/75\n"
     ]
    },
    {
     "name": "stderr",
     "output_type": "stream",
     "text": [
      "2022-12-20 12:09:53.190483: I tensorflow/core/kernels/data/shuffle_dataset_op.cc:392] Filling up shuffle buffer (this may take a while): 42 of 317\n",
      "2022-12-20 12:10:03.142904: I tensorflow/core/kernels/data/shuffle_dataset_op.cc:392] Filling up shuffle buffer (this may take a while): 104 of 317\n",
      "2022-12-20 12:10:13.173976: I tensorflow/core/kernels/data/shuffle_dataset_op.cc:392] Filling up shuffle buffer (this may take a while): 148 of 317\n",
      "2022-12-20 12:10:23.230484: I tensorflow/core/kernels/data/shuffle_dataset_op.cc:392] Filling up shuffle buffer (this may take a while): 195 of 317\n",
      "2022-12-20 12:10:33.230108: I tensorflow/core/kernels/data/shuffle_dataset_op.cc:392] Filling up shuffle buffer (this may take a while): 256 of 317\n",
      "2022-12-20 12:10:41.667459: I tensorflow/core/kernels/data/shuffle_dataset_op.cc:417] Shuffle buffer filled.\n"
     ]
    },
    {
     "name": "stdout",
     "output_type": "stream",
     "text": [
      "320/320 [==============================] - ETA: 0s - loss: 0.0829 - mse: 0.0101 - disc_loss: 4.6667e-06\n",
      "Epoch 32: val_loss did not improve from 0.08209\n",
      "320/320 [==============================] - 182s 383ms/step - loss: 0.0829 - mse: 0.0101 - disc_loss: 4.6521e-06 - val_loss: 0.0931 - val_mse: 0.0137 - lr: 9.0000e-05\n",
      "Epoch 33/75\n"
     ]
    },
    {
     "name": "stderr",
     "output_type": "stream",
     "text": [
      "2022-12-20 12:12:54.904092: I tensorflow/core/kernels/data/shuffle_dataset_op.cc:392] Filling up shuffle buffer (this may take a while): 71 of 317\n",
      "2022-12-20 12:13:05.066948: I tensorflow/core/kernels/data/shuffle_dataset_op.cc:392] Filling up shuffle buffer (this may take a while): 126 of 317\n",
      "2022-12-20 12:13:14.907394: I tensorflow/core/kernels/data/shuffle_dataset_op.cc:392] Filling up shuffle buffer (this may take a while): 179 of 317\n",
      "2022-12-20 12:13:24.878439: I tensorflow/core/kernels/data/shuffle_dataset_op.cc:392] Filling up shuffle buffer (this may take a while): 243 of 317\n",
      "2022-12-20 12:13:34.899777: I tensorflow/core/kernels/data/shuffle_dataset_op.cc:392] Filling up shuffle buffer (this may take a while): 311 of 317\n",
      "2022-12-20 12:13:35.695331: I tensorflow/core/kernels/data/shuffle_dataset_op.cc:417] Shuffle buffer filled.\n"
     ]
    },
    {
     "name": "stdout",
     "output_type": "stream",
     "text": [
      "320/320 [==============================] - ETA: 0s - loss: 0.0832 - mse: 0.0101 - disc_loss: 5.1424e-06\n",
      "Epoch 33: val_loss did not improve from 0.08209\n",
      "320/320 [==============================] - 168s 366ms/step - loss: 0.0832 - mse: 0.0101 - disc_loss: 5.1264e-06 - val_loss: 0.0918 - val_mse: 0.0134 - lr: 9.0000e-05\n",
      "Epoch 34/75\n"
     ]
    },
    {
     "name": "stderr",
     "output_type": "stream",
     "text": [
      "2022-12-20 12:15:43.316436: I tensorflow/core/kernels/data/shuffle_dataset_op.cc:392] Filling up shuffle buffer (this may take a while): 41 of 317\n",
      "2022-12-20 12:15:53.404124: I tensorflow/core/kernels/data/shuffle_dataset_op.cc:392] Filling up shuffle buffer (this may take a while): 76 of 317\n",
      "2022-12-20 12:16:03.358781: I tensorflow/core/kernels/data/shuffle_dataset_op.cc:392] Filling up shuffle buffer (this may take a while): 138 of 317\n",
      "2022-12-20 12:16:13.335335: I tensorflow/core/kernels/data/shuffle_dataset_op.cc:392] Filling up shuffle buffer (this may take a while): 201 of 317\n",
      "2022-12-20 12:16:23.334804: I tensorflow/core/kernels/data/shuffle_dataset_op.cc:392] Filling up shuffle buffer (this may take a while): 262 of 317\n",
      "2022-12-20 12:16:33.407031: I tensorflow/core/kernels/data/shuffle_dataset_op.cc:392] Filling up shuffle buffer (this may take a while): 316 of 317\n",
      "2022-12-20 12:16:33.484444: I tensorflow/core/kernels/data/shuffle_dataset_op.cc:417] Shuffle buffer filled.\n"
     ]
    },
    {
     "name": "stdout",
     "output_type": "stream",
     "text": [
      "320/320 [==============================] - ETA: 0s - loss: 0.0830 - mse: 0.0101 - disc_loss: 5.6518e-06\n",
      "Epoch 34: val_loss did not improve from 0.08209\n",
      "320/320 [==============================] - 177s 361ms/step - loss: 0.0830 - mse: 0.0101 - disc_loss: 5.6342e-06 - val_loss: 0.0899 - val_mse: 0.0127 - lr: 9.0000e-05\n",
      "Epoch 35/75\n"
     ]
    },
    {
     "name": "stderr",
     "output_type": "stream",
     "text": [
      "2022-12-20 12:18:39.954124: I tensorflow/core/kernels/data/shuffle_dataset_op.cc:392] Filling up shuffle buffer (this may take a while): 66 of 317\n",
      "2022-12-20 12:18:49.963704: I tensorflow/core/kernels/data/shuffle_dataset_op.cc:392] Filling up shuffle buffer (this may take a while): 117 of 317\n",
      "2022-12-20 12:18:59.938320: I tensorflow/core/kernels/data/shuffle_dataset_op.cc:392] Filling up shuffle buffer (this may take a while): 186 of 317\n",
      "2022-12-20 12:19:09.938190: I tensorflow/core/kernels/data/shuffle_dataset_op.cc:392] Filling up shuffle buffer (this may take a while): 254 of 317\n",
      "2022-12-20 12:19:19.033818: I tensorflow/core/kernels/data/shuffle_dataset_op.cc:417] Shuffle buffer filled.\n"
     ]
    },
    {
     "name": "stdout",
     "output_type": "stream",
     "text": [
      "320/320 [==============================] - ETA: 0s - loss: 0.0836 - mse: 0.0102 - disc_loss: 5.5804e-06\n",
      "Epoch 35: val_loss did not improve from 0.08209\n",
      "320/320 [==============================] - 163s 355ms/step - loss: 0.0836 - mse: 0.0102 - disc_loss: 5.5631e-06 - val_loss: 0.0941 - val_mse: 0.0142 - lr: 9.0000e-05\n",
      "Epoch 36/75\n"
     ]
    },
    {
     "name": "stderr",
     "output_type": "stream",
     "text": [
      "2022-12-20 12:21:23.370810: I tensorflow/core/kernels/data/shuffle_dataset_op.cc:392] Filling up shuffle buffer (this may take a while): 47 of 317\n",
      "2022-12-20 12:21:33.391884: I tensorflow/core/kernels/data/shuffle_dataset_op.cc:392] Filling up shuffle buffer (this may take a while): 121 of 317\n",
      "2022-12-20 12:21:43.393566: I tensorflow/core/kernels/data/shuffle_dataset_op.cc:392] Filling up shuffle buffer (this may take a while): 183 of 317\n",
      "2022-12-20 12:21:53.370403: I tensorflow/core/kernels/data/shuffle_dataset_op.cc:392] Filling up shuffle buffer (this may take a while): 248 of 317\n",
      "2022-12-20 12:22:03.438840: I tensorflow/core/kernels/data/shuffle_dataset_op.cc:392] Filling up shuffle buffer (this may take a while): 306 of 317\n",
      "2022-12-20 12:22:05.167820: I tensorflow/core/kernels/data/shuffle_dataset_op.cc:417] Shuffle buffer filled.\n"
     ]
    },
    {
     "name": "stdout",
     "output_type": "stream",
     "text": [
      "320/320 [==============================] - ETA: 0s - loss: 0.0835 - mse: 0.0102 - disc_loss: 5.9166e-06\n",
      "Epoch 36: val_loss did not improve from 0.08209\n",
      "320/320 [==============================] - 164s 350ms/step - loss: 0.0835 - mse: 0.0102 - disc_loss: 5.8982e-06 - val_loss: 0.0906 - val_mse: 0.0129 - lr: 9.0000e-05\n",
      "Epoch 37/75\n"
     ]
    },
    {
     "name": "stderr",
     "output_type": "stream",
     "text": [
      "2022-12-20 12:24:07.792119: I tensorflow/core/kernels/data/shuffle_dataset_op.cc:392] Filling up shuffle buffer (this may take a while): 58 of 317\n",
      "2022-12-20 12:24:17.710558: I tensorflow/core/kernels/data/shuffle_dataset_op.cc:392] Filling up shuffle buffer (this may take a while): 117 of 317\n",
      "2022-12-20 12:24:27.804658: I tensorflow/core/kernels/data/shuffle_dataset_op.cc:392] Filling up shuffle buffer (this may take a while): 189 of 317\n",
      "2022-12-20 12:24:37.737030: I tensorflow/core/kernels/data/shuffle_dataset_op.cc:392] Filling up shuffle buffer (this may take a while): 256 of 317\n",
      "2022-12-20 12:24:46.310617: I tensorflow/core/kernels/data/shuffle_dataset_op.cc:417] Shuffle buffer filled.\n"
     ]
    },
    {
     "name": "stdout",
     "output_type": "stream",
     "text": [
      "320/320 [==============================] - ETA: 0s - loss: 0.0836 - mse: 0.0103 - disc_loss: 6.4660e-06\n",
      "Epoch 37: val_loss did not improve from 0.08209\n",
      "320/320 [==============================] - 167s 369ms/step - loss: 0.0836 - mse: 0.0103 - disc_loss: 6.4459e-06 - val_loss: 0.1075 - val_mse: 0.0162 - lr: 9.0000e-05\n",
      "Epoch 38/75\n"
     ]
    },
    {
     "name": "stderr",
     "output_type": "stream",
     "text": [
      "2022-12-20 12:26:54.836456: I tensorflow/core/kernels/data/shuffle_dataset_op.cc:392] Filling up shuffle buffer (this may take a while): 61 of 317\n",
      "2022-12-20 12:27:04.817563: I tensorflow/core/kernels/data/shuffle_dataset_op.cc:392] Filling up shuffle buffer (this may take a while): 121 of 317\n",
      "2022-12-20 12:27:14.786854: I tensorflow/core/kernels/data/shuffle_dataset_op.cc:392] Filling up shuffle buffer (this may take a while): 177 of 317\n",
      "2022-12-20 12:27:24.849743: I tensorflow/core/kernels/data/shuffle_dataset_op.cc:392] Filling up shuffle buffer (this may take a while): 224 of 317\n",
      "2022-12-20 12:27:34.866592: I tensorflow/core/kernels/data/shuffle_dataset_op.cc:392] Filling up shuffle buffer (this may take a while): 285 of 317\n",
      "2022-12-20 12:27:39.988335: I tensorflow/core/kernels/data/shuffle_dataset_op.cc:417] Shuffle buffer filled.\n"
     ]
    },
    {
     "name": "stdout",
     "output_type": "stream",
     "text": [
      "320/320 [==============================] - ETA: 0s - loss: 0.0832 - mse: 0.0101 - disc_loss: 6.3898e-06\n",
      "Epoch 38: val_loss did not improve from 0.08209\n",
      "320/320 [==============================] - 166s 346ms/step - loss: 0.0832 - mse: 0.0101 - disc_loss: 6.3699e-06 - val_loss: 0.1079 - val_mse: 0.0166 - lr: 9.0000e-05\n",
      "Epoch 39/75\n"
     ]
    },
    {
     "name": "stderr",
     "output_type": "stream",
     "text": [
      "2022-12-20 12:29:41.202808: I tensorflow/core/kernels/data/shuffle_dataset_op.cc:392] Filling up shuffle buffer (this may take a while): 61 of 317\n",
      "2022-12-20 12:29:51.163943: I tensorflow/core/kernels/data/shuffle_dataset_op.cc:392] Filling up shuffle buffer (this may take a while): 118 of 317\n",
      "2022-12-20 12:30:01.310399: I tensorflow/core/kernels/data/shuffle_dataset_op.cc:392] Filling up shuffle buffer (this may take a while): 180 of 317\n",
      "2022-12-20 12:30:11.264957: I tensorflow/core/kernels/data/shuffle_dataset_op.cc:392] Filling up shuffle buffer (this may take a while): 237 of 317\n",
      "2022-12-20 12:30:21.274661: I tensorflow/core/kernels/data/shuffle_dataset_op.cc:392] Filling up shuffle buffer (this may take a while): 291 of 317\n",
      "2022-12-20 12:30:25.670507: I tensorflow/core/kernels/data/shuffle_dataset_op.cc:417] Shuffle buffer filled.\n"
     ]
    },
    {
     "name": "stdout",
     "output_type": "stream",
     "text": [
      "320/320 [==============================] - ETA: 0s - loss: 0.0826 - mse: 0.0100 - disc_loss: 6.8249e-06\n",
      "Epoch 39: val_loss did not improve from 0.08209\n",
      "320/320 [==============================] - 164s 341ms/step - loss: 0.0826 - mse: 0.0100 - disc_loss: 6.8037e-06 - val_loss: 0.1338 - val_mse: 0.0259 - lr: 9.0000e-05\n",
      "Epoch 40/75\n"
     ]
    },
    {
     "name": "stderr",
     "output_type": "stream",
     "text": [
      "2022-12-20 12:32:25.383411: I tensorflow/core/kernels/data/shuffle_dataset_op.cc:392] Filling up shuffle buffer (this may take a while): 64 of 317\n",
      "2022-12-20 12:32:35.288157: I tensorflow/core/kernels/data/shuffle_dataset_op.cc:392] Filling up shuffle buffer (this may take a while): 135 of 317\n",
      "2022-12-20 12:32:45.374682: I tensorflow/core/kernels/data/shuffle_dataset_op.cc:392] Filling up shuffle buffer (this may take a while): 199 of 317\n",
      "2022-12-20 12:32:55.418339: I tensorflow/core/kernels/data/shuffle_dataset_op.cc:392] Filling up shuffle buffer (this may take a while): 248 of 317\n",
      "2022-12-20 12:33:05.321872: I tensorflow/core/kernels/data/shuffle_dataset_op.cc:392] Filling up shuffle buffer (this may take a while): 308 of 317\n",
      "2022-12-20 12:33:06.500247: I tensorflow/core/kernels/data/shuffle_dataset_op.cc:417] Shuffle buffer filled.\n"
     ]
    },
    {
     "name": "stdout",
     "output_type": "stream",
     "text": [
      "320/320 [==============================] - ETA: 0s - loss: 0.0870 - mse: 0.0109 - disc_loss: 6.9722e-06\n",
      "Epoch 40: val_loss did not improve from 0.08209\n",
      "320/320 [==============================] - 161s 342ms/step - loss: 0.0870 - mse: 0.0109 - disc_loss: 6.9505e-06 - val_loss: 0.1041 - val_mse: 0.0148 - lr: 9.0000e-05\n",
      "Epoch 41/75\n"
     ]
    },
    {
     "name": "stderr",
     "output_type": "stream",
     "text": [
      "2022-12-20 12:35:06.704053: I tensorflow/core/kernels/data/shuffle_dataset_op.cc:392] Filling up shuffle buffer (this may take a while): 54 of 317\n",
      "2022-12-20 12:35:16.857553: I tensorflow/core/kernels/data/shuffle_dataset_op.cc:392] Filling up shuffle buffer (this may take a while): 107 of 317\n",
      "2022-12-20 12:35:26.971882: I tensorflow/core/kernels/data/shuffle_dataset_op.cc:392] Filling up shuffle buffer (this may take a while): 143 of 317\n",
      "2022-12-20 12:35:36.635440: I tensorflow/core/kernels/data/shuffle_dataset_op.cc:392] Filling up shuffle buffer (this may take a while): 204 of 317\n",
      "2022-12-20 12:35:46.765006: I tensorflow/core/kernels/data/shuffle_dataset_op.cc:392] Filling up shuffle buffer (this may take a while): 268 of 317\n",
      "2022-12-20 12:35:54.207544: I tensorflow/core/kernels/data/shuffle_dataset_op.cc:417] Shuffle buffer filled.\n"
     ]
    },
    {
     "name": "stdout",
     "output_type": "stream",
     "text": [
      "320/320 [==============================] - ETA: 0s - loss: 0.0894 - mse: 0.0114 - disc_loss: 7.5510e-06\n",
      "Epoch 41: val_loss did not improve from 0.08209\n",
      "320/320 [==============================] - 175s 367ms/step - loss: 0.0894 - mse: 0.0114 - disc_loss: 7.5275e-06 - val_loss: 0.1033 - val_mse: 0.0146 - lr: 9.0000e-05\n",
      "Epoch 42/75\n"
     ]
    },
    {
     "name": "stderr",
     "output_type": "stream",
     "text": [
      "2022-12-20 12:38:02.322494: I tensorflow/core/kernels/data/shuffle_dataset_op.cc:392] Filling up shuffle buffer (this may take a while): 65 of 317\n",
      "2022-12-20 12:38:12.220930: I tensorflow/core/kernels/data/shuffle_dataset_op.cc:392] Filling up shuffle buffer (this may take a while): 131 of 317\n",
      "2022-12-20 12:38:22.395721: I tensorflow/core/kernels/data/shuffle_dataset_op.cc:392] Filling up shuffle buffer (this may take a while): 179 of 317\n",
      "2022-12-20 12:38:32.306778: I tensorflow/core/kernels/data/shuffle_dataset_op.cc:392] Filling up shuffle buffer (this may take a while): 233 of 317\n",
      "2022-12-20 12:38:42.246097: I tensorflow/core/kernels/data/shuffle_dataset_op.cc:392] Filling up shuffle buffer (this may take a while): 294 of 317\n",
      "2022-12-20 12:38:45.595892: I tensorflow/core/kernels/data/shuffle_dataset_op.cc:417] Shuffle buffer filled.\n"
     ]
    },
    {
     "name": "stdout",
     "output_type": "stream",
     "text": [
      "320/320 [==============================] - ETA: 0s - loss: 0.0858 - mse: 0.0107 - disc_loss: 7.9043e-06\n",
      "Epoch 42: val_loss did not improve from 0.08209\n",
      "320/320 [==============================] - 170s 363ms/step - loss: 0.0858 - mse: 0.0107 - disc_loss: 7.8796e-06 - val_loss: 0.1028 - val_mse: 0.0145 - lr: 2.7000e-05\n",
      "Epoch 43/75\n"
     ]
    },
    {
     "name": "stderr",
     "output_type": "stream",
     "text": [
      "2022-12-20 12:40:52.220105: I tensorflow/core/kernels/data/shuffle_dataset_op.cc:392] Filling up shuffle buffer (this may take a while): 69 of 317\n",
      "2022-12-20 12:41:02.295022: I tensorflow/core/kernels/data/shuffle_dataset_op.cc:392] Filling up shuffle buffer (this may take a while): 136 of 317\n",
      "2022-12-20 12:41:12.222272: I tensorflow/core/kernels/data/shuffle_dataset_op.cc:392] Filling up shuffle buffer (this may take a while): 204 of 317\n",
      "2022-12-20 12:41:22.347833: I tensorflow/core/kernels/data/shuffle_dataset_op.cc:392] Filling up shuffle buffer (this may take a while): 272 of 317\n",
      "2022-12-20 12:41:29.218139: I tensorflow/core/kernels/data/shuffle_dataset_op.cc:417] Shuffle buffer filled.\n"
     ]
    },
    {
     "name": "stdout",
     "output_type": "stream",
     "text": [
      "320/320 [==============================] - ETA: 0s - loss: 0.0833 - mse: 0.0102 - disc_loss: 8.3000e-06\n",
      "Epoch 43: val_loss did not improve from 0.08209\n",
      "320/320 [==============================] - 158s 346ms/step - loss: 0.0833 - mse: 0.0102 - disc_loss: 8.2741e-06 - val_loss: 0.1096 - val_mse: 0.0192 - lr: 2.7000e-05\n",
      "Epoch 44/75\n"
     ]
    },
    {
     "name": "stderr",
     "output_type": "stream",
     "text": [
      "2022-12-20 12:43:30.498904: I tensorflow/core/kernels/data/shuffle_dataset_op.cc:392] Filling up shuffle buffer (this may take a while): 68 of 317\n",
      "2022-12-20 12:43:40.561029: I tensorflow/core/kernels/data/shuffle_dataset_op.cc:392] Filling up shuffle buffer (this may take a while): 136 of 317\n",
      "2022-12-20 12:43:50.505886: I tensorflow/core/kernels/data/shuffle_dataset_op.cc:392] Filling up shuffle buffer (this may take a while): 205 of 317\n",
      "2022-12-20 12:44:00.515623: I tensorflow/core/kernels/data/shuffle_dataset_op.cc:392] Filling up shuffle buffer (this may take a while): 266 of 317\n",
      "2022-12-20 12:44:08.647283: I tensorflow/core/kernels/data/shuffle_dataset_op.cc:417] Shuffle buffer filled.\n"
     ]
    },
    {
     "name": "stdout",
     "output_type": "stream",
     "text": [
      "320/320 [==============================] - ETA: 0s - loss: 0.0841 - mse: 0.0103 - disc_loss: 8.4321e-06\n",
      "Epoch 44: val_loss did not improve from 0.08209\n",
      "320/320 [==============================] - 155s 334ms/step - loss: 0.0841 - mse: 0.0103 - disc_loss: 8.4059e-06 - val_loss: 0.1027 - val_mse: 0.0143 - lr: 2.7000e-05\n",
      "Epoch 45/75\n"
     ]
    },
    {
     "name": "stderr",
     "output_type": "stream",
     "text": [
      "2022-12-20 12:46:06.054780: I tensorflow/core/kernels/data/shuffle_dataset_op.cc:392] Filling up shuffle buffer (this may take a while): 71 of 317\n",
      "2022-12-20 12:46:16.005797: I tensorflow/core/kernels/data/shuffle_dataset_op.cc:392] Filling up shuffle buffer (this may take a while): 135 of 317\n",
      "2022-12-20 12:46:25.986708: I tensorflow/core/kernels/data/shuffle_dataset_op.cc:392] Filling up shuffle buffer (this may take a while): 206 of 317\n",
      "2022-12-20 12:46:36.069471: I tensorflow/core/kernels/data/shuffle_dataset_op.cc:392] Filling up shuffle buffer (this may take a while): 278 of 317\n",
      "2022-12-20 12:46:41.377680: I tensorflow/core/kernels/data/shuffle_dataset_op.cc:417] Shuffle buffer filled.\n"
     ]
    },
    {
     "name": "stdout",
     "output_type": "stream",
     "text": [
      "320/320 [==============================] - ETA: 0s - loss: 0.0861 - mse: 0.0108 - disc_loss: 8.8357e-06\n",
      "Epoch 45: val_loss did not improve from 0.08209\n",
      "320/320 [==============================] - 155s 339ms/step - loss: 0.0861 - mse: 0.0108 - disc_loss: 8.8082e-06 - val_loss: 0.1024 - val_mse: 0.0141 - lr: 2.7000e-05\n",
      "Epoch 46/75\n"
     ]
    },
    {
     "name": "stderr",
     "output_type": "stream",
     "text": [
      "2022-12-20 12:48:40.533076: I tensorflow/core/kernels/data/shuffle_dataset_op.cc:392] Filling up shuffle buffer (this may take a while): 65 of 317\n",
      "2022-12-20 12:48:50.547467: I tensorflow/core/kernels/data/shuffle_dataset_op.cc:392] Filling up shuffle buffer (this may take a while): 120 of 317\n",
      "2022-12-20 12:49:00.589022: I tensorflow/core/kernels/data/shuffle_dataset_op.cc:392] Filling up shuffle buffer (this may take a while): 177 of 317\n",
      "2022-12-20 12:49:10.540771: I tensorflow/core/kernels/data/shuffle_dataset_op.cc:392] Filling up shuffle buffer (this may take a while): 238 of 317\n",
      "2022-12-20 12:49:20.547885: I tensorflow/core/kernels/data/shuffle_dataset_op.cc:392] Filling up shuffle buffer (this may take a while): 302 of 317\n",
      "2022-12-20 12:49:22.585905: I tensorflow/core/kernels/data/shuffle_dataset_op.cc:417] Shuffle buffer filled.\n"
     ]
    },
    {
     "name": "stdout",
     "output_type": "stream",
     "text": [
      "320/320 [==============================] - ETA: 0s - loss: 0.0854 - mse: 0.0107 - disc_loss: 8.9392e-06\n",
      "Epoch 46: val_loss did not improve from 0.08209\n",
      "320/320 [==============================] - 166s 355ms/step - loss: 0.0854 - mse: 0.0107 - disc_loss: 8.9114e-06 - val_loss: 0.1015 - val_mse: 0.0141 - lr: 2.7000e-05\n",
      "Epoch 47/75\n"
     ]
    },
    {
     "name": "stderr",
     "output_type": "stream",
     "text": [
      "2022-12-20 12:51:26.726341: I tensorflow/core/kernels/data/shuffle_dataset_op.cc:392] Filling up shuffle buffer (this may take a while): 60 of 317\n",
      "2022-12-20 12:51:36.778639: I tensorflow/core/kernels/data/shuffle_dataset_op.cc:392] Filling up shuffle buffer (this may take a while): 115 of 317\n",
      "2022-12-20 12:51:46.865102: I tensorflow/core/kernels/data/shuffle_dataset_op.cc:392] Filling up shuffle buffer (this may take a while): 179 of 317\n",
      "2022-12-20 12:51:56.715472: I tensorflow/core/kernels/data/shuffle_dataset_op.cc:392] Filling up shuffle buffer (this may take a while): 240 of 317\n",
      "2022-12-20 12:52:06.749327: I tensorflow/core/kernels/data/shuffle_dataset_op.cc:392] Filling up shuffle buffer (this may take a while): 298 of 317\n",
      "2022-12-20 12:52:10.185099: I tensorflow/core/kernels/data/shuffle_dataset_op.cc:417] Shuffle buffer filled.\n"
     ]
    },
    {
     "name": "stdout",
     "output_type": "stream",
     "text": [
      "320/320 [==============================] - ETA: 0s - loss: 0.0831 - mse: 0.0100 - disc_loss: 9.0573e-06\n",
      "Epoch 47: val_loss did not improve from 0.08209\n",
      "320/320 [==============================] - 166s 351ms/step - loss: 0.0831 - mse: 0.0100 - disc_loss: 9.0291e-06 - val_loss: 0.0969 - val_mse: 0.0140 - lr: 2.7000e-05\n",
      "Epoch 48/75\n"
     ]
    },
    {
     "name": "stderr",
     "output_type": "stream",
     "text": [
      "2022-12-20 12:54:13.036895: I tensorflow/core/kernels/data/shuffle_dataset_op.cc:392] Filling up shuffle buffer (this may take a while): 71 of 317\n",
      "2022-12-20 12:54:22.989112: I tensorflow/core/kernels/data/shuffle_dataset_op.cc:392] Filling up shuffle buffer (this may take a while): 140 of 317\n",
      "2022-12-20 12:54:33.053779: I tensorflow/core/kernels/data/shuffle_dataset_op.cc:392] Filling up shuffle buffer (this may take a while): 213 of 317\n",
      "2022-12-20 12:54:42.947137: I tensorflow/core/kernels/data/shuffle_dataset_op.cc:392] Filling up shuffle buffer (this may take a while): 279 of 317\n",
      "2022-12-20 12:54:48.155262: I tensorflow/core/kernels/data/shuffle_dataset_op.cc:417] Shuffle buffer filled.\n"
     ]
    },
    {
     "name": "stdout",
     "output_type": "stream",
     "text": [
      "320/320 [==============================] - ETA: 0s - loss: 0.0830 - mse: 0.0100 - disc_loss: 9.4455e-06\n",
      "Epoch 48: val_loss did not improve from 0.08209\n",
      "320/320 [==============================] - 155s 341ms/step - loss: 0.0830 - mse: 0.0100 - disc_loss: 9.4161e-06 - val_loss: 0.1085 - val_mse: 0.0188 - lr: 2.7000e-05\n",
      "Epoch 49/75\n"
     ]
    },
    {
     "name": "stderr",
     "output_type": "stream",
     "text": [
      "2022-12-20 12:56:47.859259: I tensorflow/core/kernels/data/shuffle_dataset_op.cc:392] Filling up shuffle buffer (this may take a while): 61 of 317\n",
      "2022-12-20 12:56:57.963040: I tensorflow/core/kernels/data/shuffle_dataset_op.cc:392] Filling up shuffle buffer (this may take a while): 125 of 317\n",
      "2022-12-20 12:57:07.839624: I tensorflow/core/kernels/data/shuffle_dataset_op.cc:392] Filling up shuffle buffer (this may take a while): 185 of 317\n",
      "2022-12-20 12:57:17.931757: I tensorflow/core/kernels/data/shuffle_dataset_op.cc:392] Filling up shuffle buffer (this may take a while): 246 of 317\n",
      "2022-12-20 12:57:27.867931: I tensorflow/core/kernels/data/shuffle_dataset_op.cc:392] Filling up shuffle buffer (this may take a while): 308 of 317\n",
      "2022-12-20 12:57:29.250332: I tensorflow/core/kernels/data/shuffle_dataset_op.cc:417] Shuffle buffer filled.\n"
     ]
    },
    {
     "name": "stdout",
     "output_type": "stream",
     "text": [
      "320/320 [==============================] - ETA: 0s - loss: 0.0830 - mse: 0.0101 - disc_loss: 1.0043e-05\n",
      "Epoch 49: val_loss did not improve from 0.08209\n",
      "320/320 [==============================] - 160s 339ms/step - loss: 0.0830 - mse: 0.0101 - disc_loss: 1.0011e-05 - val_loss: 0.1029 - val_mse: 0.0170 - lr: 2.7000e-05\n",
      "Epoch 50/75\n"
     ]
    },
    {
     "name": "stderr",
     "output_type": "stream",
     "text": [
      "2022-12-20 12:59:28.387493: I tensorflow/core/kernels/data/shuffle_dataset_op.cc:392] Filling up shuffle buffer (this may take a while): 72 of 317\n",
      "2022-12-20 12:59:38.411355: I tensorflow/core/kernels/data/shuffle_dataset_op.cc:392] Filling up shuffle buffer (this may take a while): 133 of 317\n",
      "2022-12-20 12:59:48.533054: I tensorflow/core/kernels/data/shuffle_dataset_op.cc:392] Filling up shuffle buffer (this may take a while): 201 of 317\n",
      "2022-12-20 12:59:58.385153: I tensorflow/core/kernels/data/shuffle_dataset_op.cc:392] Filling up shuffle buffer (this may take a while): 266 of 317\n",
      "2022-12-20 13:00:06.636308: I tensorflow/core/kernels/data/shuffle_dataset_op.cc:417] Shuffle buffer filled.\n"
     ]
    },
    {
     "name": "stdout",
     "output_type": "stream",
     "text": [
      "320/320 [==============================] - ETA: 0s - loss: 0.0849 - mse: 0.0106 - disc_loss: 9.8991e-06\n",
      "Epoch 50: val_loss did not improve from 0.08209\n",
      "320/320 [==============================] - 161s 351ms/step - loss: 0.0849 - mse: 0.0106 - disc_loss: 9.8683e-06 - val_loss: 0.0903 - val_mse: 0.0114 - lr: 2.7000e-05\n",
      "Epoch 51/75\n"
     ]
    },
    {
     "name": "stderr",
     "output_type": "stream",
     "text": [
      "2022-12-20 13:02:09.511287: I tensorflow/core/kernels/data/shuffle_dataset_op.cc:392] Filling up shuffle buffer (this may take a while): 75 of 317\n",
      "2022-12-20 13:02:19.567705: I tensorflow/core/kernels/data/shuffle_dataset_op.cc:392] Filling up shuffle buffer (this may take a while): 145 of 317\n",
      "2022-12-20 13:02:29.516325: I tensorflow/core/kernels/data/shuffle_dataset_op.cc:392] Filling up shuffle buffer (this may take a while): 217 of 317\n",
      "2022-12-20 13:02:39.500739: I tensorflow/core/kernels/data/shuffle_dataset_op.cc:392] Filling up shuffle buffer (this may take a while): 294 of 317\n",
      "2022-12-20 13:02:42.601596: I tensorflow/core/kernels/data/shuffle_dataset_op.cc:417] Shuffle buffer filled.\n"
     ]
    },
    {
     "name": "stdout",
     "output_type": "stream",
     "text": [
      "320/320 [==============================] - ETA: 0s - loss: 0.0853 - mse: 0.0106 - disc_loss: 1.0495e-05\n",
      "Epoch 51: val_loss did not improve from 0.08209\n",
      "320/320 [==============================] - 164s 375ms/step - loss: 0.0853 - mse: 0.0106 - disc_loss: 1.0462e-05 - val_loss: 0.0999 - val_mse: 0.0161 - lr: 2.7000e-05\n",
      "Epoch 52/75\n"
     ]
    },
    {
     "name": "stderr",
     "output_type": "stream",
     "text": [
      "2022-12-20 13:04:53.226541: I tensorflow/core/kernels/data/shuffle_dataset_op.cc:392] Filling up shuffle buffer (this may take a while): 68 of 317\n",
      "2022-12-20 13:05:03.212763: I tensorflow/core/kernels/data/shuffle_dataset_op.cc:392] Filling up shuffle buffer (this may take a while): 133 of 317\n",
      "2022-12-20 13:05:13.246799: I tensorflow/core/kernels/data/shuffle_dataset_op.cc:392] Filling up shuffle buffer (this may take a while): 198 of 317\n",
      "2022-12-20 13:05:23.285374: I tensorflow/core/kernels/data/shuffle_dataset_op.cc:392] Filling up shuffle buffer (this may take a while): 262 of 317\n",
      "2022-12-20 13:05:32.227232: I tensorflow/core/kernels/data/shuffle_dataset_op.cc:417] Shuffle buffer filled.\n"
     ]
    },
    {
     "name": "stdout",
     "output_type": "stream",
     "text": [
      "320/320 [==============================] - ETA: 0s - loss: 0.0856 - mse: 0.0105 - disc_loss: 1.1035e-05\n",
      "Epoch 52: val_loss did not improve from 0.08209\n",
      "320/320 [==============================] - 157s 334ms/step - loss: 0.0856 - mse: 0.0105 - disc_loss: 1.1001e-05 - val_loss: 0.0974 - val_mse: 0.0153 - lr: 8.1000e-06\n",
      "Epoch 53/75\n"
     ]
    },
    {
     "name": "stderr",
     "output_type": "stream",
     "text": [
      "2022-12-20 13:07:29.925012: I tensorflow/core/kernels/data/shuffle_dataset_op.cc:392] Filling up shuffle buffer (this may take a while): 65 of 317\n",
      "2022-12-20 13:07:39.869947: I tensorflow/core/kernels/data/shuffle_dataset_op.cc:392] Filling up shuffle buffer (this may take a while): 133 of 317\n",
      "2022-12-20 13:07:49.785085: I tensorflow/core/kernels/data/shuffle_dataset_op.cc:392] Filling up shuffle buffer (this may take a while): 197 of 317\n",
      "2022-12-20 13:07:59.804200: I tensorflow/core/kernels/data/shuffle_dataset_op.cc:392] Filling up shuffle buffer (this may take a while): 256 of 317\n",
      "2022-12-20 13:08:08.640260: I tensorflow/core/kernels/data/shuffle_dataset_op.cc:417] Shuffle buffer filled.\n"
     ]
    },
    {
     "name": "stdout",
     "output_type": "stream",
     "text": [
      "320/320 [==============================] - ETA: 0s - loss: 0.0859 - mse: 0.0106 - disc_loss: 1.1311e-05\n",
      "Epoch 53: val_loss did not improve from 0.08209\n",
      "320/320 [==============================] - 157s 335ms/step - loss: 0.0859 - mse: 0.0106 - disc_loss: 1.1276e-05 - val_loss: 0.0954 - val_mse: 0.0146 - lr: 8.1000e-06\n",
      "Epoch 54/75\n"
     ]
    },
    {
     "name": "stderr",
     "output_type": "stream",
     "text": [
      "2022-12-20 13:10:06.519484: I tensorflow/core/kernels/data/shuffle_dataset_op.cc:392] Filling up shuffle buffer (this may take a while): 39 of 317\n",
      "2022-12-20 13:10:16.676805: I tensorflow/core/kernels/data/shuffle_dataset_op.cc:392] Filling up shuffle buffer (this may take a while): 87 of 317\n",
      "2022-12-20 13:10:26.371828: I tensorflow/core/kernels/data/shuffle_dataset_op.cc:392] Filling up shuffle buffer (this may take a while): 131 of 317\n",
      "2022-12-20 13:10:36.388888: I tensorflow/core/kernels/data/shuffle_dataset_op.cc:392] Filling up shuffle buffer (this may take a while): 186 of 317\n",
      "2022-12-20 13:10:46.378026: I tensorflow/core/kernels/data/shuffle_dataset_op.cc:392] Filling up shuffle buffer (this may take a while): 257 of 317\n",
      "2022-12-20 13:10:54.517084: I tensorflow/core/kernels/data/shuffle_dataset_op.cc:417] Shuffle buffer filled.\n"
     ]
    },
    {
     "name": "stdout",
     "output_type": "stream",
     "text": [
      "320/320 [==============================] - ETA: 0s - loss: 0.0860 - mse: 0.0106 - disc_loss: 1.1593e-05\n",
      "Epoch 54: val_loss did not improve from 0.08209\n",
      "320/320 [==============================] - 172s 353ms/step - loss: 0.0860 - mse: 0.0106 - disc_loss: 1.1557e-05 - val_loss: 0.0955 - val_mse: 0.0147 - lr: 8.1000e-06\n",
      "Epoch 55/75\n"
     ]
    },
    {
     "name": "stderr",
     "output_type": "stream",
     "text": [
      "2022-12-20 13:12:58.160967: I tensorflow/core/kernels/data/shuffle_dataset_op.cc:392] Filling up shuffle buffer (this may take a while): 54 of 317\n",
      "2022-12-20 13:13:08.187067: I tensorflow/core/kernels/data/shuffle_dataset_op.cc:392] Filling up shuffle buffer (this may take a while): 107 of 317\n",
      "2022-12-20 13:13:17.991169: I tensorflow/core/kernels/data/shuffle_dataset_op.cc:392] Filling up shuffle buffer (this may take a while): 159 of 317\n",
      "2022-12-20 13:13:28.072318: I tensorflow/core/kernels/data/shuffle_dataset_op.cc:392] Filling up shuffle buffer (this may take a while): 221 of 317\n",
      "2022-12-20 13:13:38.038985: I tensorflow/core/kernels/data/shuffle_dataset_op.cc:392] Filling up shuffle buffer (this may take a while): 289 of 317\n",
      "2022-12-20 13:13:42.492588: I tensorflow/core/kernels/data/shuffle_dataset_op.cc:417] Shuffle buffer filled.\n"
     ]
    },
    {
     "name": "stdout",
     "output_type": "stream",
     "text": [
      "320/320 [==============================] - ETA: 0s - loss: 0.0859 - mse: 0.0106 - disc_loss: 1.1653e-05\n",
      "Epoch 55: val_loss did not improve from 0.08209\n",
      "320/320 [==============================] - 163s 337ms/step - loss: 0.0859 - mse: 0.0106 - disc_loss: 1.1616e-05 - val_loss: 0.0936 - val_mse: 0.0141 - lr: 8.1000e-06\n",
      "Epoch 56/75\n"
     ]
    },
    {
     "name": "stderr",
     "output_type": "stream",
     "text": [
      "2022-12-20 13:15:40.712795: I tensorflow/core/kernels/data/shuffle_dataset_op.cc:392] Filling up shuffle buffer (this may take a while): 72 of 317\n",
      "2022-12-20 13:15:50.714309: I tensorflow/core/kernels/data/shuffle_dataset_op.cc:392] Filling up shuffle buffer (this may take a while): 138 of 317\n",
      "2022-12-20 13:16:00.699522: I tensorflow/core/kernels/data/shuffle_dataset_op.cc:392] Filling up shuffle buffer (this may take a while): 211 of 317\n",
      "2022-12-20 13:16:10.704605: I tensorflow/core/kernels/data/shuffle_dataset_op.cc:392] Filling up shuffle buffer (this may take a while): 282 of 317\n",
      "2022-12-20 13:16:15.374765: I tensorflow/core/kernels/data/shuffle_dataset_op.cc:417] Shuffle buffer filled.\n"
     ]
    },
    {
     "name": "stdout",
     "output_type": "stream",
     "text": [
      "320/320 [==============================] - ETA: 0s - loss: 0.0859 - mse: 0.0106 - disc_loss: 1.1478e-05\n",
      "Epoch 56: val_loss did not improve from 0.08209\n",
      "320/320 [==============================] - 164s 372ms/step - loss: 0.0859 - mse: 0.0106 - disc_loss: 1.1443e-05 - val_loss: 0.0935 - val_mse: 0.0141 - lr: 8.1000e-06\n",
      "Epoch 57/75\n"
     ]
    },
    {
     "name": "stderr",
     "output_type": "stream",
     "text": [
      "2022-12-20 13:18:25.017693: I tensorflow/core/kernels/data/shuffle_dataset_op.cc:392] Filling up shuffle buffer (this may take a while): 67 of 317\n",
      "2022-12-20 13:18:35.074935: I tensorflow/core/kernels/data/shuffle_dataset_op.cc:392] Filling up shuffle buffer (this may take a while): 140 of 317\n",
      "2022-12-20 13:18:45.068123: I tensorflow/core/kernels/data/shuffle_dataset_op.cc:392] Filling up shuffle buffer (this may take a while): 210 of 317\n",
      "2022-12-20 13:18:54.965193: I tensorflow/core/kernels/data/shuffle_dataset_op.cc:392] Filling up shuffle buffer (this may take a while): 279 of 317\n",
      "2022-12-20 13:19:00.326265: I tensorflow/core/kernels/data/shuffle_dataset_op.cc:417] Shuffle buffer filled.\n"
     ]
    },
    {
     "name": "stdout",
     "output_type": "stream",
     "text": [
      "320/320 [==============================] - ETA: 0s - loss: 0.0857 - mse: 0.0106 - disc_loss: 1.2149e-05\n",
      "Epoch 57: val_loss did not improve from 0.08209\n",
      "320/320 [==============================] - 152s 332ms/step - loss: 0.0857 - mse: 0.0106 - disc_loss: 1.2112e-05 - val_loss: 0.0922 - val_mse: 0.0137 - lr: 8.1000e-06\n",
      "Epoch 58/75\n"
     ]
    },
    {
     "name": "stderr",
     "output_type": "stream",
     "text": [
      "2022-12-20 13:20:57.146432: I tensorflow/core/kernels/data/shuffle_dataset_op.cc:392] Filling up shuffle buffer (this may take a while): 74 of 317\n",
      "2022-12-20 13:21:07.110737: I tensorflow/core/kernels/data/shuffle_dataset_op.cc:392] Filling up shuffle buffer (this may take a while): 142 of 317\n",
      "2022-12-20 13:21:17.092739: I tensorflow/core/kernels/data/shuffle_dataset_op.cc:392] Filling up shuffle buffer (this may take a while): 213 of 317\n",
      "2022-12-20 13:21:27.059754: I tensorflow/core/kernels/data/shuffle_dataset_op.cc:392] Filling up shuffle buffer (this may take a while): 268 of 317\n",
      "2022-12-20 13:21:33.698574: I tensorflow/core/kernels/data/shuffle_dataset_op.cc:417] Shuffle buffer filled.\n"
     ]
    },
    {
     "name": "stdout",
     "output_type": "stream",
     "text": [
      "320/320 [==============================] - ETA: 0s - loss: 0.0856 - mse: 0.0106 - disc_loss: 1.2153e-05\n",
      "Epoch 58: val_loss did not improve from 0.08209\n",
      "320/320 [==============================] - 157s 345ms/step - loss: 0.0856 - mse: 0.0106 - disc_loss: 1.2115e-05 - val_loss: 0.0987 - val_mse: 0.0157 - lr: 8.1000e-06\n",
      "Epoch 59/75\n"
     ]
    },
    {
     "name": "stderr",
     "output_type": "stream",
     "text": [
      "2022-12-20 13:23:34.549551: I tensorflow/core/kernels/data/shuffle_dataset_op.cc:392] Filling up shuffle buffer (this may take a while): 71 of 317\n",
      "2022-12-20 13:23:44.534769: I tensorflow/core/kernels/data/shuffle_dataset_op.cc:392] Filling up shuffle buffer (this may take a while): 144 of 317\n",
      "2022-12-20 13:23:54.687879: I tensorflow/core/kernels/data/shuffle_dataset_op.cc:392] Filling up shuffle buffer (this may take a while): 209 of 317\n",
      "2022-12-20 13:24:04.639696: I tensorflow/core/kernels/data/shuffle_dataset_op.cc:392] Filling up shuffle buffer (this may take a while): 273 of 317\n",
      "2022-12-20 13:24:10.754233: I tensorflow/core/kernels/data/shuffle_dataset_op.cc:417] Shuffle buffer filled.\n"
     ]
    },
    {
     "name": "stdout",
     "output_type": "stream",
     "text": [
      "320/320 [==============================] - ETA: 0s - loss: 0.0854 - mse: 0.0105 - disc_loss: 1.2496e-05\n",
      "Epoch 59: val_loss did not improve from 0.08209\n",
      "320/320 [==============================] - 158s 347ms/step - loss: 0.0854 - mse: 0.0105 - disc_loss: 1.2457e-05 - val_loss: 0.0923 - val_mse: 0.0138 - lr: 8.1000e-06\n",
      "Epoch 60/75\n"
     ]
    },
    {
     "name": "stderr",
     "output_type": "stream",
     "text": [
      "2022-12-20 13:26:12.603541: I tensorflow/core/kernels/data/shuffle_dataset_op.cc:392] Filling up shuffle buffer (this may take a while): 61 of 317\n",
      "2022-12-20 13:26:22.534252: I tensorflow/core/kernels/data/shuffle_dataset_op.cc:392] Filling up shuffle buffer (this may take a while): 127 of 317\n",
      "2022-12-20 13:26:32.554935: I tensorflow/core/kernels/data/shuffle_dataset_op.cc:392] Filling up shuffle buffer (this may take a while): 190 of 317\n",
      "2022-12-20 13:26:42.578459: I tensorflow/core/kernels/data/shuffle_dataset_op.cc:392] Filling up shuffle buffer (this may take a while): 249 of 317\n",
      "2022-12-20 13:26:52.275218: I tensorflow/core/kernels/data/shuffle_dataset_op.cc:417] Shuffle buffer filled.\n"
     ]
    },
    {
     "name": "stdout",
     "output_type": "stream",
     "text": [
      "320/320 [==============================] - ETA: 0s - loss: 0.0859 - mse: 0.0106 - disc_loss: 1.2784e-05\n",
      "Epoch 60: val_loss did not improve from 0.08209\n",
      "320/320 [==============================] - 160s 341ms/step - loss: 0.0859 - mse: 0.0106 - disc_loss: 1.2744e-05 - val_loss: 0.0950 - val_mse: 0.0145 - lr: 8.1000e-06\n",
      "Epoch 61/75\n"
     ]
    },
    {
     "name": "stderr",
     "output_type": "stream",
     "text": [
      "2022-12-20 13:28:52.104317: I tensorflow/core/kernels/data/shuffle_dataset_op.cc:392] Filling up shuffle buffer (this may take a while): 74 of 317\n",
      "2022-12-20 13:29:02.198645: I tensorflow/core/kernels/data/shuffle_dataset_op.cc:392] Filling up shuffle buffer (this may take a while): 140 of 317\n",
      "2022-12-20 13:29:12.083078: I tensorflow/core/kernels/data/shuffle_dataset_op.cc:392] Filling up shuffle buffer (this may take a while): 200 of 317\n",
      "2022-12-20 13:29:22.088078: I tensorflow/core/kernels/data/shuffle_dataset_op.cc:392] Filling up shuffle buffer (this may take a while): 260 of 317\n",
      "2022-12-20 13:29:30.060379: I tensorflow/core/kernels/data/shuffle_dataset_op.cc:417] Shuffle buffer filled.\n"
     ]
    },
    {
     "name": "stdout",
     "output_type": "stream",
     "text": [
      "320/320 [==============================] - ETA: 0s - loss: 0.0859 - mse: 0.0106 - disc_loss: 1.2544e-05\n",
      "Epoch 61: val_loss did not improve from 0.08209\n",
      "320/320 [==============================] - 158s 343ms/step - loss: 0.0859 - mse: 0.0106 - disc_loss: 1.2505e-05 - val_loss: 0.0916 - val_mse: 0.0135 - lr: 8.1000e-06\n",
      "Epoch 62/75\n"
     ]
    },
    {
     "name": "stderr",
     "output_type": "stream",
     "text": [
      "2022-12-20 13:31:30.475811: I tensorflow/core/kernels/data/shuffle_dataset_op.cc:392] Filling up shuffle buffer (this may take a while): 62 of 317\n",
      "2022-12-20 13:31:40.511623: I tensorflow/core/kernels/data/shuffle_dataset_op.cc:392] Filling up shuffle buffer (this may take a while): 110 of 317\n",
      "2022-12-20 13:31:50.394505: I tensorflow/core/kernels/data/shuffle_dataset_op.cc:392] Filling up shuffle buffer (this may take a while): 165 of 317\n",
      "2022-12-20 13:32:00.412695: I tensorflow/core/kernels/data/shuffle_dataset_op.cc:392] Filling up shuffle buffer (this may take a while): 234 of 317\n",
      "2022-12-20 13:32:10.428316: I tensorflow/core/kernels/data/shuffle_dataset_op.cc:392] Filling up shuffle buffer (this may take a while): 293 of 317\n",
      "2022-12-20 13:32:14.485421: I tensorflow/core/kernels/data/shuffle_dataset_op.cc:417] Shuffle buffer filled.\n"
     ]
    },
    {
     "name": "stdout",
     "output_type": "stream",
     "text": [
      "320/320 [==============================] - ETA: 0s - loss: 0.0860 - mse: 0.0107 - disc_loss: 1.2649e-05\n",
      "Epoch 62: val_loss did not improve from 0.08209\n",
      "320/320 [==============================] - 177s 381ms/step - loss: 0.0860 - mse: 0.0107 - disc_loss: 1.2610e-05 - val_loss: 0.0942 - val_mse: 0.0143 - lr: 2.4300e-06\n",
      "Epoch 63/75\n"
     ]
    },
    {
     "name": "stderr",
     "output_type": "stream",
     "text": [
      "2022-12-20 13:34:27.059991: I tensorflow/core/kernels/data/shuffle_dataset_op.cc:392] Filling up shuffle buffer (this may take a while): 46 of 317\n",
      "2022-12-20 13:34:36.954095: I tensorflow/core/kernels/data/shuffle_dataset_op.cc:392] Filling up shuffle buffer (this may take a while): 112 of 317\n",
      "2022-12-20 13:34:47.104451: I tensorflow/core/kernels/data/shuffle_dataset_op.cc:392] Filling up shuffle buffer (this may take a while): 178 of 317\n",
      "2022-12-20 13:34:57.068646: I tensorflow/core/kernels/data/shuffle_dataset_op.cc:392] Filling up shuffle buffer (this may take a while): 236 of 317\n",
      "2022-12-20 13:35:07.080025: I tensorflow/core/kernels/data/shuffle_dataset_op.cc:392] Filling up shuffle buffer (this may take a while): 306 of 317\n",
      "2022-12-20 13:35:09.086290: I tensorflow/core/kernels/data/shuffle_dataset_op.cc:417] Shuffle buffer filled.\n"
     ]
    },
    {
     "name": "stdout",
     "output_type": "stream",
     "text": [
      "320/320 [==============================] - ETA: 0s - loss: 0.0858 - mse: 0.0106 - disc_loss: 1.2661e-05\n",
      "Epoch 63: val_loss did not improve from 0.08209\n",
      "320/320 [==============================] - 160s 336ms/step - loss: 0.0858 - mse: 0.0106 - disc_loss: 1.2622e-05 - val_loss: 0.0915 - val_mse: 0.0134 - lr: 2.4300e-06\n",
      "Epoch 64/75\n"
     ]
    },
    {
     "name": "stderr",
     "output_type": "stream",
     "text": [
      "2022-12-20 13:37:07.345860: I tensorflow/core/kernels/data/shuffle_dataset_op.cc:392] Filling up shuffle buffer (this may take a while): 37 of 317\n",
      "2022-12-20 13:37:17.216932: I tensorflow/core/kernels/data/shuffle_dataset_op.cc:392] Filling up shuffle buffer (this may take a while): 70 of 317\n",
      "2022-12-20 13:37:27.245350: I tensorflow/core/kernels/data/shuffle_dataset_op.cc:392] Filling up shuffle buffer (this may take a while): 124 of 317\n",
      "2022-12-20 13:37:37.305004: I tensorflow/core/kernels/data/shuffle_dataset_op.cc:392] Filling up shuffle buffer (this may take a while): 190 of 317\n",
      "2022-12-20 13:37:47.226403: I tensorflow/core/kernels/data/shuffle_dataset_op.cc:392] Filling up shuffle buffer (this may take a while): 231 of 317\n",
      "2022-12-20 13:37:57.373651: I tensorflow/core/kernels/data/shuffle_dataset_op.cc:392] Filling up shuffle buffer (this may take a while): 300 of 317\n",
      "2022-12-20 13:38:00.140260: I tensorflow/core/kernels/data/shuffle_dataset_op.cc:417] Shuffle buffer filled.\n"
     ]
    },
    {
     "name": "stdout",
     "output_type": "stream",
     "text": [
      "320/320 [==============================] - ETA: 0s - loss: 0.0856 - mse: 0.0106 - disc_loss: 1.2946e-05\n",
      "Epoch 64: val_loss did not improve from 0.08209\n",
      "320/320 [==============================] - 177s 354ms/step - loss: 0.0856 - mse: 0.0106 - disc_loss: 1.2906e-05 - val_loss: 0.0874 - val_mse: 0.0120 - lr: 2.4300e-06\n",
      "Epoch 65/75\n"
     ]
    },
    {
     "name": "stderr",
     "output_type": "stream",
     "text": [
      "2022-12-20 13:40:04.046770: I tensorflow/core/kernels/data/shuffle_dataset_op.cc:392] Filling up shuffle buffer (this may take a while): 45 of 317\n",
      "2022-12-20 13:40:13.975021: I tensorflow/core/kernels/data/shuffle_dataset_op.cc:392] Filling up shuffle buffer (this may take a while): 95 of 317\n",
      "2022-12-20 13:40:24.103812: I tensorflow/core/kernels/data/shuffle_dataset_op.cc:392] Filling up shuffle buffer (this may take a while): 152 of 317\n",
      "2022-12-20 13:40:34.040066: I tensorflow/core/kernels/data/shuffle_dataset_op.cc:392] Filling up shuffle buffer (this may take a while): 215 of 317\n",
      "2022-12-20 13:40:44.148267: I tensorflow/core/kernels/data/shuffle_dataset_op.cc:392] Filling up shuffle buffer (this may take a while): 274 of 317\n",
      "2022-12-20 13:40:50.690337: I tensorflow/core/kernels/data/shuffle_dataset_op.cc:417] Shuffle buffer filled.\n"
     ]
    },
    {
     "name": "stdout",
     "output_type": "stream",
     "text": [
      "320/320 [==============================] - ETA: 0s - loss: 0.0854 - mse: 0.0105 - disc_loss: 1.2531e-05\n",
      "Epoch 65: val_loss did not improve from 0.08209\n",
      "320/320 [==============================] - 168s 348ms/step - loss: 0.0854 - mse: 0.0105 - disc_loss: 1.2492e-05 - val_loss: 0.0914 - val_mse: 0.0135 - lr: 2.4300e-06\n",
      "Epoch 66/75\n"
     ]
    },
    {
     "name": "stderr",
     "output_type": "stream",
     "text": [
      "2022-12-20 13:42:52.484567: I tensorflow/core/kernels/data/shuffle_dataset_op.cc:392] Filling up shuffle buffer (this may take a while): 68 of 317\n",
      "2022-12-20 13:43:02.502517: I tensorflow/core/kernels/data/shuffle_dataset_op.cc:392] Filling up shuffle buffer (this may take a while): 133 of 317\n",
      "2022-12-20 13:43:12.565964: I tensorflow/core/kernels/data/shuffle_dataset_op.cc:392] Filling up shuffle buffer (this may take a while): 201 of 317\n",
      "2022-12-20 13:43:22.516277: I tensorflow/core/kernels/data/shuffle_dataset_op.cc:392] Filling up shuffle buffer (this may take a while): 270 of 317\n",
      "2022-12-20 13:43:28.953805: I tensorflow/core/kernels/data/shuffle_dataset_op.cc:417] Shuffle buffer filled.\n"
     ]
    },
    {
     "name": "stdout",
     "output_type": "stream",
     "text": [
      "320/320 [==============================] - ETA: 0s - loss: 0.0853 - mse: 0.0105 - disc_loss: 1.2840e-05\n",
      "Epoch 66: val_loss did not improve from 0.08209\n",
      "320/320 [==============================] - 158s 346ms/step - loss: 0.0853 - mse: 0.0105 - disc_loss: 1.2800e-05 - val_loss: 0.0959 - val_mse: 0.0148 - lr: 2.4300e-06\n",
      "Epoch 67/75\n"
     ]
    },
    {
     "name": "stderr",
     "output_type": "stream",
     "text": [
      "2022-12-20 13:45:30.244997: I tensorflow/core/kernels/data/shuffle_dataset_op.cc:392] Filling up shuffle buffer (this may take a while): 68 of 317\n",
      "2022-12-20 13:45:40.244998: I tensorflow/core/kernels/data/shuffle_dataset_op.cc:392] Filling up shuffle buffer (this may take a while): 135 of 317\n",
      "2022-12-20 13:45:50.144234: I tensorflow/core/kernels/data/shuffle_dataset_op.cc:392] Filling up shuffle buffer (this may take a while): 206 of 317\n",
      "2022-12-20 13:46:00.201543: I tensorflow/core/kernels/data/shuffle_dataset_op.cc:392] Filling up shuffle buffer (this may take a while): 279 of 317\n",
      "2022-12-20 13:46:05.410782: I tensorflow/core/kernels/data/shuffle_dataset_op.cc:417] Shuffle buffer filled.\n"
     ]
    },
    {
     "name": "stdout",
     "output_type": "stream",
     "text": [
      "320/320 [==============================] - ETA: 0s - loss: 0.0851 - mse: 0.0105 - disc_loss: 1.2541e-05\n",
      "Epoch 67: val_loss did not improve from 0.08209\n",
      "320/320 [==============================] - 155s 340ms/step - loss: 0.0851 - mse: 0.0105 - disc_loss: 1.2502e-05 - val_loss: 0.0911 - val_mse: 0.0133 - lr: 2.4300e-06\n",
      "Epoch 68/75\n"
     ]
    },
    {
     "name": "stderr",
     "output_type": "stream",
     "text": [
      "2022-12-20 13:48:04.859998: I tensorflow/core/kernels/data/shuffle_dataset_op.cc:392] Filling up shuffle buffer (this may take a while): 68 of 317\n",
      "2022-12-20 13:48:14.770681: I tensorflow/core/kernels/data/shuffle_dataset_op.cc:392] Filling up shuffle buffer (this may take a while): 137 of 317\n",
      "2022-12-20 13:48:24.927412: I tensorflow/core/kernels/data/shuffle_dataset_op.cc:392] Filling up shuffle buffer (this may take a while): 210 of 317\n",
      "2022-12-20 13:48:34.879545: I tensorflow/core/kernels/data/shuffle_dataset_op.cc:392] Filling up shuffle buffer (this may take a while): 273 of 317\n",
      "2022-12-20 13:48:41.966887: I tensorflow/core/kernels/data/shuffle_dataset_op.cc:417] Shuffle buffer filled.\n"
     ]
    },
    {
     "name": "stdout",
     "output_type": "stream",
     "text": [
      "320/320 [==============================] - ETA: 0s - loss: 0.0846 - mse: 0.0104 - disc_loss: 1.2425e-05\n",
      "Epoch 68: val_loss did not improve from 0.08209\n",
      "320/320 [==============================] - 157s 343ms/step - loss: 0.0846 - mse: 0.0104 - disc_loss: 1.2386e-05 - val_loss: 0.0942 - val_mse: 0.0143 - lr: 2.4300e-06\n",
      "Epoch 69/75\n"
     ]
    },
    {
     "name": "stderr",
     "output_type": "stream",
     "text": [
      "2022-12-20 13:50:42.262159: I tensorflow/core/kernels/data/shuffle_dataset_op.cc:392] Filling up shuffle buffer (this may take a while): 69 of 317\n",
      "2022-12-20 13:50:52.333792: I tensorflow/core/kernels/data/shuffle_dataset_op.cc:392] Filling up shuffle buffer (this may take a while): 130 of 317\n",
      "2022-12-20 13:51:02.287030: I tensorflow/core/kernels/data/shuffle_dataset_op.cc:392] Filling up shuffle buffer (this may take a while): 192 of 317\n",
      "2022-12-20 13:51:12.425154: I tensorflow/core/kernels/data/shuffle_dataset_op.cc:392] Filling up shuffle buffer (this may take a while): 248 of 317\n",
      "2022-12-20 13:51:22.264520: I tensorflow/core/kernels/data/shuffle_dataset_op.cc:392] Filling up shuffle buffer (this may take a while): 308 of 317\n",
      "2022-12-20 13:51:23.392281: I tensorflow/core/kernels/data/shuffle_dataset_op.cc:417] Shuffle buffer filled.\n"
     ]
    },
    {
     "name": "stdout",
     "output_type": "stream",
     "text": [
      "320/320 [==============================] - ETA: 0s - loss: 0.0844 - mse: 0.0103 - disc_loss: 1.2440e-05\n",
      "Epoch 69: val_loss did not improve from 0.08209\n",
      "320/320 [==============================] - 166s 358ms/step - loss: 0.0844 - mse: 0.0103 - disc_loss: 1.2401e-05 - val_loss: 0.0938 - val_mse: 0.0142 - lr: 2.4300e-06\n",
      "Epoch 70/75\n"
     ]
    },
    {
     "name": "stderr",
     "output_type": "stream",
     "text": [
      "2022-12-20 13:53:28.650830: I tensorflow/core/kernels/data/shuffle_dataset_op.cc:392] Filling up shuffle buffer (this may take a while): 75 of 317\n",
      "2022-12-20 13:53:38.636042: I tensorflow/core/kernels/data/shuffle_dataset_op.cc:392] Filling up shuffle buffer (this may take a while): 137 of 317\n",
      "2022-12-20 13:53:48.614079: I tensorflow/core/kernels/data/shuffle_dataset_op.cc:392] Filling up shuffle buffer (this may take a while): 188 of 317\n",
      "2022-12-20 13:53:58.614632: I tensorflow/core/kernels/data/shuffle_dataset_op.cc:392] Filling up shuffle buffer (this may take a while): 247 of 317\n",
      "2022-12-20 13:54:08.711335: I tensorflow/core/kernels/data/shuffle_dataset_op.cc:392] Filling up shuffle buffer (this may take a while): 306 of 317\n",
      "2022-12-20 13:54:10.355896: I tensorflow/core/kernels/data/shuffle_dataset_op.cc:417] Shuffle buffer filled.\n"
     ]
    },
    {
     "name": "stdout",
     "output_type": "stream",
     "text": [
      "320/320 [==============================] - ETA: 0s - loss: 0.0849 - mse: 0.0105 - disc_loss: 1.2118e-05\n",
      "Epoch 70: val_loss did not improve from 0.08209\n",
      "320/320 [==============================] - 167s 358ms/step - loss: 0.0849 - mse: 0.0105 - disc_loss: 1.2080e-05 - val_loss: 0.0951 - val_mse: 0.0145 - lr: 2.4300e-06\n",
      "Epoch 71/75\n"
     ]
    },
    {
     "name": "stderr",
     "output_type": "stream",
     "text": [
      "2022-12-20 13:56:15.526705: I tensorflow/core/kernels/data/shuffle_dataset_op.cc:392] Filling up shuffle buffer (this may take a while): 69 of 317\n",
      "2022-12-20 13:56:25.795444: I tensorflow/core/kernels/data/shuffle_dataset_op.cc:392] Filling up shuffle buffer (this may take a while): 134 of 317\n",
      "2022-12-20 13:56:35.709112: I tensorflow/core/kernels/data/shuffle_dataset_op.cc:392] Filling up shuffle buffer (this may take a while): 183 of 317\n",
      "2022-12-20 13:56:45.570606: I tensorflow/core/kernels/data/shuffle_dataset_op.cc:392] Filling up shuffle buffer (this may take a while): 220 of 317\n",
      "2022-12-20 13:56:55.616644: I tensorflow/core/kernels/data/shuffle_dataset_op.cc:392] Filling up shuffle buffer (this may take a while): 286 of 317\n",
      "2022-12-20 13:57:00.118497: I tensorflow/core/kernels/data/shuffle_dataset_op.cc:417] Shuffle buffer filled.\n"
     ]
    },
    {
     "name": "stdout",
     "output_type": "stream",
     "text": [
      "320/320 [==============================] - ETA: 0s - loss: 0.0845 - mse: 0.0104 - disc_loss: 1.2080e-05\n",
      "Epoch 71: val_loss did not improve from 0.08209\n",
      "320/320 [==============================] - 163s 337ms/step - loss: 0.0845 - mse: 0.0104 - disc_loss: 1.2043e-05 - val_loss: 0.0858 - val_mse: 0.0113 - lr: 2.4300e-06\n"
     ]
    },
    {
     "data": {
      "text/plain": [
       "<adapt.feature_based._deepcoral.DeepCORAL at 0x7f9f6026ccd0>"
      ]
     },
     "execution_count": 17,
     "metadata": {},
     "output_type": "execute_result"
    }
   ],
   "source": [
    "checkpoint_path = \"./cp.ckpt\"\n",
    "checkpoint_dir = os.path.dirname(checkpoint_path)\n",
    "\n",
    "# Create a callback that saves the model's weights\n",
    "cp_callback = tf.keras.callbacks.ModelCheckpoint(filepath=checkpoint_path,\n",
    "                                                 save_weights_only=False,\n",
    "                                                 monitor='val_loss',\n",
    "                                                 mode='min',\n",
    "                                                 verbose=1,\n",
    "                                                 save_best_only=True)\n",
    "\n",
    "coral.fit(cmd_train,\\\n",
    "        Xt=train_x_simba,\\\n",
    "        epochs=epochs,\\\n",
    "        callbacks=[tf.keras.callbacks.EarlyStopping(monitor='val_loss', patience=50, restore_best_weights=True),\\\n",
    "                     reduce_lr, cp_callback],\\\n",
    "        validation_data=cmd_val)"
   ]
  },
  {
   "cell_type": "code",
   "execution_count": 18,
   "metadata": {
    "id": "duAVufwQpJMF"
   },
   "outputs": [],
   "source": [
    "best_model = tf.keras.models.load_model(checkpoint_path)"
   ]
  },
  {
   "cell_type": "code",
   "execution_count": 19,
   "metadata": {},
   "outputs": [
    {
     "name": "stdout",
     "output_type": "stream",
     "text": [
      "6/6 [==============================] - 1s 28ms/step - loss: 0.0831 - mse: 0.0099\n"
     ]
    },
    {
     "data": {
      "text/plain": [
       "[0.08312711864709854, 0.009938535280525684]"
      ]
     },
     "execution_count": 19,
     "metadata": {},
     "output_type": "execute_result"
    }
   ],
   "source": [
    "best_model.evaluate(cmd_test)"
   ]
  },
  {
   "cell_type": "code",
   "execution_count": 20,
   "metadata": {},
   "outputs": [
    {
     "name": "stdout",
     "output_type": "stream",
     "text": [
      "6/6 [==============================] - 0s 25ms/step - loss: 0.1056 - mse: 0.0165\n"
     ]
    },
    {
     "data": {
      "text/plain": [
       "[0.105638287961483, 0.016529615968465805]"
      ]
     },
     "execution_count": 20,
     "metadata": {},
     "output_type": "execute_result"
    }
   ],
   "source": [
    "best_model.evaluate(simba_test)"
   ]
  },
  {
   "cell_type": "code",
   "execution_count": 21,
   "metadata": {
    "colab": {
     "base_uri": "https://localhost:8080/"
    },
    "id": "zyYL-C2IpsdJ",
    "outputId": "debc9317-9229-48b1-caf6-6d91b336304f"
   },
   "outputs": [
    {
     "name": "stdout",
     "output_type": "stream",
     "text": [
      "6/6 [==============================] - 1s 22ms/step\n"
     ]
    }
   ],
   "source": [
    "yhat_cmd = best_model.predict(cmd_test)"
   ]
  },
  {
   "cell_type": "code",
   "execution_count": 22,
   "metadata": {},
   "outputs": [
    {
     "name": "stdout",
     "output_type": "stream",
     "text": [
      "6/6 [==============================] - 0s 22ms/step\n"
     ]
    }
   ],
   "source": [
    "yhat_simba = best_model.predict(simba_test)"
   ]
  },
  {
   "cell_type": "code",
   "execution_count": 23,
   "metadata": {},
   "outputs": [],
   "source": [
    "lbl_cmd = np.concatenate([y for x, y in cmd_test], axis=0)"
   ]
  },
  {
   "cell_type": "code",
   "execution_count": 24,
   "metadata": {},
   "outputs": [],
   "source": [
    "lbl_simba = np.concatenate([y for x, y in simba_test], axis=0)"
   ]
  },
  {
   "cell_type": "code",
   "execution_count": 25,
   "metadata": {},
   "outputs": [
    {
     "data": {
      "text/plain": [
       "(750, 1)"
      ]
     },
     "execution_count": 25,
     "metadata": {},
     "output_type": "execute_result"
    }
   ],
   "source": [
    "yhat_cmd.shape"
   ]
  },
  {
   "cell_type": "code",
   "execution_count": 26,
   "metadata": {},
   "outputs": [
    {
     "data": {
      "text/plain": [
       "(750, 1)"
      ]
     },
     "execution_count": 26,
     "metadata": {},
     "output_type": "execute_result"
    }
   ],
   "source": [
    "lbl_cmd.shape"
   ]
  },
  {
   "cell_type": "code",
   "execution_count": 27,
   "metadata": {},
   "outputs": [
    {
     "data": {
      "text/plain": [
       "0.3435363"
      ]
     },
     "execution_count": 27,
     "metadata": {},
     "output_type": "execute_result"
    }
   ],
   "source": [
    "np.mean(np.abs((lbl_cmd - yhat_cmd) / lbl_cmd))"
   ]
  },
  {
   "cell_type": "code",
   "execution_count": 28,
   "metadata": {},
   "outputs": [
    {
     "data": {
      "text/plain": [
       "0.5488087"
      ]
     },
     "execution_count": 28,
     "metadata": {},
     "output_type": "execute_result"
    }
   ],
   "source": [
    "np.mean(np.abs((lbl_simba - yhat_simba) / lbl_simba))"
   ]
  },
  {
   "cell_type": "code",
   "execution_count": 29,
   "metadata": {
    "colab": {
     "base_uri": "https://localhost:8080/",
     "height": 279
    },
    "id": "1aMYBd3eAaC-",
    "outputId": "2bd87b64-61e0-49eb-87b9-fcbf03787b65"
   },
   "outputs": [
    {
     "data": {
      "image/png": "[encoded data removed]",
      "text/plain": [
       "<Figure size 640x480 with 1 Axes>"
      ]
     },
     "metadata": {},
     "output_type": "display_data"
    }
   ],
   "source": [
    "plt.scatter(lbl_cmd, yhat_cmd, s=2)\n",
    "plt.xlabel('Ground truth')\n",
    "plt.ylabel('Prediction')\n",
    "\n",
    "plt.show()"
   ]
  },
  {
   "cell_type": "code",
   "execution_count": null,
   "metadata": {
    "id": "uKjhFT22owRn"
   },
   "outputs": [],
   "source": []
  }
 ],
 "metadata": {
  "accelerator": "GPU",
  "colab": {
   "machine_shape": "hm",
   "provenance": []
  },
  "gpuClass": "premium",
  "kernelspec": {
   "display_name": "Python 3 (ipykernel)",
   "language": "python",
   "name": "python3"
  },
  "language_info": {
   "codemirror_mode": {
    "name": "ipython",
    "version": 3
   },
   "file_extension": ".py",
   "mimetype": "text/x-python",
   "name": "python",
   "nbconvert_exporter": "python",
   "pygments_lexer": "ipython3",
   "version": "3.8.10"
  },
  "vscode": {
   "interpreter": {
    "hash": "26de051ba29f2982a8de78e945f0abaf191376122a1563185a90213a26c5da77"
   }
  },
  "widgets": {
   "application/vnd.jupyter.widget-state+json": {
    "01568546218f4928a7f72f8e6f6699ca": {
     "model_module": "@jupyter-widgets/controls",
     "model_module_version": "1.5.0",
     "model_name": "HTMLModel",
     "state": {
      "_dom_classes": [],
      "_model_module": "@jupyter-widgets/controls",
      "_model_module_version": "1.5.0",
      "_model_name": "HTMLModel",
      "_view_count": null,
      "_view_module": "@jupyter-widgets/controls",
      "_view_module_version": "1.5.0",
      "_view_name": "HTMLView",
      "description": "",
      "description_tooltip": null,
      "layout": "IPY_MODEL_685122aa9c4b430db69bebefe5de7f4e",
      "placeholder": "​",
      "style": "IPY_MODEL_5297fa26f6ed40cdbc9fd64182722f96",
      "value": "Generating splits...: 100%"
     }
    },
    "0872bf294f534b48be0ba0a5f84b7649": {
     "model_module": "@jupyter-widgets/controls",
     "model_module_version": "1.5.0",
     "model_name": "FloatProgressModel",
     "state": {
      "_dom_classes": [],
      "_model_module": "@jupyter-widgets/controls",
      "_model_module_version": "1.5.0",
      "_model_name": "FloatProgressModel",
      "_view_count": null,
      "_view_module": "@jupyter-widgets/controls",
      "_view_module_version": "1.5.0",
      "_view_name": "ProgressView",
      "bar_style": "success",
      "description": "",
      "description_tooltip": null,
      "layout": "IPY_MODEL_94719df8ea7746c2aa8912bb3953f907",
      "max": 1,
      "min": 0,
      "orientation": "horizontal",
      "style": "IPY_MODEL_109bd6a97a7747aa91e509d8efe664e5",
      "value": 1
     }
    },
    "08791d4e234a45b2b7f6c43886e263e1": {
     "model_module": "@jupyter-widgets/controls",
     "model_module_version": "1.5.0",
     "model_name": "DescriptionStyleModel",
     "state": {
      "_model_module": "@jupyter-widgets/controls",
      "_model_module_version": "1.5.0",
      "_model_name": "DescriptionStyleModel",
      "_view_count": null,
      "_view_module": "@jupyter-widgets/base",
      "_view_module_version": "1.2.0",
      "_view_name": "StyleView",
      "description_width": ""
     }
    },
    "109bd6a97a7747aa91e509d8efe664e5": {
     "model_module": "@jupyter-widgets/controls",
     "model_module_version": "1.5.0",
     "model_name": "ProgressStyleModel",
     "state": {
      "_model_module": "@jupyter-widgets/controls",
      "_model_module_version": "1.5.0",
      "_model_name": "ProgressStyleModel",
      "_view_count": null,
      "_view_module": "@jupyter-widgets/base",
      "_view_module_version": "1.2.0",
      "_view_name": "StyleView",
      "bar_color": null,
      "description_width": ""
     }
    },
    "1320b32751504bc8ad7726fd1d111120": {
     "model_module": "@jupyter-widgets/base",
     "model_module_version": "1.2.0",
     "model_name": "LayoutModel",
     "state": {
      "_model_module": "@jupyter-widgets/base",
      "_model_module_version": "1.2.0",
      "_model_name": "LayoutModel",
      "_view_count": null,
      "_view_module": "@jupyter-widgets/base",
      "_view_module_version": "1.2.0",
      "_view_name": "LayoutView",
      "align_content": null,
      "align_items": null,
      "align_self": null,
      "border": null,
      "bottom": null,
      "display": null,
      "flex": null,
      "flex_flow": null,
      "grid_area": null,
      "grid_auto_columns": null,
      "grid_auto_flow": null,
      "grid_auto_rows": null,
      "grid_column": null,
      "grid_gap": null,
      "grid_row": null,
      "grid_template_areas": null,
      "grid_template_columns": null,
      "grid_template_rows": null,
      "height": null,
      "justify_content": null,
      "justify_items": null,
      "left": null,
      "margin": null,
      "max_height": null,
      "max_width": null,
      "min_height": null,
      "min_width": null,
      "object_fit": null,
      "object_position": null,
      "order": null,
      "overflow": null,
      "overflow_x": null,
      "overflow_y": null,
      "padding": null,
      "right": null,
      "top": null,
      "visibility": null,
      "width": null
     }
    },
    "13ae8348717048bfafef5c6846542cf3": {
     "model_module": "@jupyter-widgets/controls",
     "model_module_version": "1.5.0",
     "model_name": "HTMLModel",
     "state": {
      "_dom_classes": [],
      "_model_module": "@jupyter-widgets/controls",
      "_model_module_version": "1.5.0",
      "_model_name": "HTMLModel",
      "_view_count": null,
      "_view_module": "@jupyter-widgets/controls",
      "_view_module_version": "1.5.0",
      "_view_name": "HTMLView",
      "description": "",
      "description_tooltip": null,
      "layout": "IPY_MODEL_b0b05e12268840799d5e862be43d279e",
      "placeholder": "​",
      "style": "IPY_MODEL_e4844600a61548eda30d5c07ac5f4a2e",
      "value": " 1/1 [10:38&lt;00:00, 638.13s/ url]"
     }
    },
    "13cab7b0fa28447faac12aa2decd5798": {
     "model_module": "@jupyter-widgets/base",
     "model_module_version": "1.2.0",
     "model_name": "LayoutModel",
     "state": {
      "_model_module": "@jupyter-widgets/base",
      "_model_module_version": "1.2.0",
      "_model_name": "LayoutModel",
      "_view_count": null,
      "_view_module": "@jupyter-widgets/base",
      "_view_module_version": "1.2.0",
      "_view_name": "LayoutView",
      "align_content": null,
      "align_items": null,
      "align_self": null,
      "border": null,
      "bottom": null,
      "display": null,
      "flex": null,
      "flex_flow": null,
      "grid_area": null,
      "grid_auto_columns": null,
      "grid_auto_flow": null,
      "grid_auto_rows": null,
      "grid_column": null,
      "grid_gap": null,
      "grid_row": null,
      "grid_template_areas": null,
      "grid_template_columns": null,
      "grid_template_rows": null,
      "height": null,
      "justify_content": null,
      "justify_items": null,
      "left": null,
      "margin": null,
      "max_height": null,
      "max_width": null,
      "min_height": null,
      "min_width": null,
      "object_fit": null,
      "object_position": null,
      "order": null,
      "overflow": null,
      "overflow_x": null,
      "overflow_y": null,
      "padding": null,
      "right": null,
      "top": null,
      "visibility": null,
      "width": null
     }
    },
    "16d7612c9cc14fb6a1be19f22e44c19f": {
     "model_module": "@jupyter-widgets/controls",
     "model_module_version": "1.5.0",
     "model_name": "HBoxModel",
     "state": {
      "_dom_classes": [],
      "_model_module": "@jupyter-widgets/controls",
      "_model_module_version": "1.5.0",
      "_model_name": "HBoxModel",
      "_view_count": null,
      "_view_module": "@jupyter-widgets/controls",
      "_view_module_version": "1.5.0",
      "_view_name": "HBoxView",
      "box_style": "",
      "children": [
       "IPY_MODEL_6df7d0d4cdb24af3bcf11445d9daccb6",
       "IPY_MODEL_c4754680e4f440c8baf0a3234246f6fb",
       "IPY_MODEL_bbaa93e9116442c5b4b285f9f04d82c5"
      ],
      "layout": "IPY_MODEL_a12eb51368f7485a9034687df6b9de9e"
     }
    },
    "18b75c6a88ff4991a38e054817811b4d": {
     "model_module": "@jupyter-widgets/controls",
     "model_module_version": "1.5.0",
     "model_name": "FloatProgressModel",
     "state": {
      "_dom_classes": [],
      "_model_module": "@jupyter-widgets/controls",
      "_model_module_version": "1.5.0",
      "_model_name": "FloatProgressModel",
      "_view_count": null,
      "_view_module": "@jupyter-widgets/controls",
      "_view_module_version": "1.5.0",
      "_view_name": "ProgressView",
      "bar_style": "",
      "description": "",
      "description_tooltip": null,
      "layout": "IPY_MODEL_8fa534e92adc4859a5c96fb44b2cf9a9",
      "max": 15000,
      "min": 0,
      "orientation": "horizontal",
      "style": "IPY_MODEL_eca37a59620c4475b41e207465b53db8",
      "value": 15000
     }
    },
    "1df0254f514640e6a2d4934e51b2605d": {
     "model_module": "@jupyter-widgets/base",
     "model_module_version": "1.2.0",
     "model_name": "LayoutModel",
     "state": {
      "_model_module": "@jupyter-widgets/base",
      "_model_module_version": "1.2.0",
      "_model_name": "LayoutModel",
      "_view_count": null,
      "_view_module": "@jupyter-widgets/base",
      "_view_module_version": "1.2.0",
      "_view_name": "LayoutView",
      "align_content": null,
      "align_items": null,
      "align_self": null,
      "border": null,
      "bottom": null,
      "display": null,
      "flex": null,
      "flex_flow": null,
      "grid_area": null,
      "grid_auto_columns": null,
      "grid_auto_flow": null,
      "grid_auto_rows": null,
      "grid_column": null,
      "grid_gap": null,
      "grid_row": null,
      "grid_template_areas": null,
      "grid_template_columns": null,
      "grid_template_rows": null,
      "height": null,
      "justify_content": null,
      "justify_items": null,
      "left": null,
      "margin": null,
      "max_height": null,
      "max_width": null,
      "min_height": null,
      "min_width": null,
      "object_fit": null,
      "object_position": null,
      "order": null,
      "overflow": null,
      "overflow_x": null,
      "overflow_y": null,
      "padding": null,
      "right": null,
      "top": null,
      "visibility": null,
      "width": "20px"
     }
    },
    "1efa77f99c2e4edc871818811c49efef": {
     "model_module": "@jupyter-widgets/base",
     "model_module_version": "1.2.0",
     "model_name": "LayoutModel",
     "state": {
      "_model_module": "@jupyter-widgets/base",
      "_model_module_version": "1.2.0",
      "_model_name": "LayoutModel",
      "_view_count": null,
      "_view_module": "@jupyter-widgets/base",
      "_view_module_version": "1.2.0",
      "_view_name": "LayoutView",
      "align_content": null,
      "align_items": null,
      "align_self": null,
      "border": null,
      "bottom": null,
      "display": null,
      "flex": null,
      "flex_flow": null,
      "grid_area": null,
      "grid_auto_columns": null,
      "grid_auto_flow": null,
      "grid_auto_rows": null,
      "grid_column": null,
      "grid_gap": null,
      "grid_row": null,
      "grid_template_areas": null,
      "grid_template_columns": null,
      "grid_template_rows": null,
      "height": null,
      "justify_content": null,
      "justify_items": null,
      "left": null,
      "margin": null,
      "max_height": null,
      "max_width": null,
      "min_height": null,
      "min_width": null,
      "object_fit": null,
      "object_position": null,
      "order": null,
      "overflow": null,
      "overflow_x": null,
      "overflow_y": null,
      "padding": null,
      "right": null,
      "top": null,
      "visibility": null,
      "width": null
     }
    },
    "207dce1ab2db4c448a36717026924a8d": {
     "model_module": "@jupyter-widgets/controls",
     "model_module_version": "1.5.0",
     "model_name": "DescriptionStyleModel",
     "state": {
      "_model_module": "@jupyter-widgets/controls",
      "_model_module_version": "1.5.0",
      "_model_name": "DescriptionStyleModel",
      "_view_count": null,
      "_view_module": "@jupyter-widgets/base",
      "_view_module_version": "1.2.0",
      "_view_name": "StyleView",
      "description_width": ""
     }
    },
    "23b38a0f45234ba082e08ae247d27333": {
     "model_module": "@jupyter-widgets/controls",
     "model_module_version": "1.5.0",
     "model_name": "DescriptionStyleModel",
     "state": {
      "_model_module": "@jupyter-widgets/controls",
      "_model_module_version": "1.5.0",
      "_model_name": "DescriptionStyleModel",
      "_view_count": null,
      "_view_module": "@jupyter-widgets/base",
      "_view_module_version": "1.2.0",
      "_view_name": "StyleView",
      "description_width": ""
     }
    },
    "2a8c41ede77143768fcedeb9d806c90f": {
     "model_module": "@jupyter-widgets/controls",
     "model_module_version": "1.5.0",
     "model_name": "HTMLModel",
     "state": {
      "_dom_classes": [],
      "_model_module": "@jupyter-widgets/controls",
      "_model_module_version": "1.5.0",
      "_model_name": "HTMLModel",
      "_view_count": null,
      "_view_module": "@jupyter-widgets/controls",
      "_view_module_version": "1.5.0",
      "_view_name": "HTMLView",
      "description": "",
      "description_tooltip": null,
      "layout": "IPY_MODEL_b66ec565cfd14ede8fe904b6160221c3",
      "placeholder": "​",
      "style": "IPY_MODEL_08791d4e234a45b2b7f6c43886e263e1",
      "value": " 3750/3750 [10:38&lt;00:00,  6.12 MiB/s]"
     }
    },
    "2e476b93d7b04fcaa6c26abc4ea654c1": {
     "model_module": "@jupyter-widgets/controls",
     "model_module_version": "1.5.0",
     "model_name": "FloatProgressModel",
     "state": {
      "_dom_classes": [],
      "_model_module": "@jupyter-widgets/controls",
      "_model_module_version": "1.5.0",
      "_model_name": "FloatProgressModel",
      "_view_count": null,
      "_view_module": "@jupyter-widgets/controls",
      "_view_module_version": "1.5.0",
      "_view_name": "ProgressView",
      "bar_style": "success",
      "description": "",
      "description_tooltip": null,
      "layout": "IPY_MODEL_e4f4a9a4f1d04b10949f6d6835a45204",
      "max": 1,
      "min": 0,
      "orientation": "horizontal",
      "style": "IPY_MODEL_6cdafb9e533f424f872c37c13c41225c",
      "value": 1
     }
    },
    "2e8f7c4f316246ac9acd897cbfc28bf1": {
     "model_module": "@jupyter-widgets/controls",
     "model_module_version": "1.5.0",
     "model_name": "HTMLModel",
     "state": {
      "_dom_classes": [],
      "_model_module": "@jupyter-widgets/controls",
      "_model_module_version": "1.5.0",
      "_model_name": "HTMLModel",
      "_view_count": null,
      "_view_module": "@jupyter-widgets/controls",
      "_view_module_version": "1.5.0",
      "_view_name": "HTMLView",
      "description": "",
      "description_tooltip": null,
      "layout": "IPY_MODEL_fafa794250c84144ae94ca6ff6fbeb92",
      "placeholder": "​",
      "style": "IPY_MODEL_82c21583518440a1a3079f7ee2114240",
      "value": " 1/1 [00:01&lt;00:00,  1.51s/ url]"
     }
    },
    "2f7eac50cf6c4658aa12b9e633bd8ab2": {
     "model_module": "@jupyter-widgets/base",
     "model_module_version": "1.2.0",
     "model_name": "LayoutModel",
     "state": {
      "_model_module": "@jupyter-widgets/base",
      "_model_module_version": "1.2.0",
      "_model_name": "LayoutModel",
      "_view_count": null,
      "_view_module": "@jupyter-widgets/base",
      "_view_module_version": "1.2.0",
      "_view_name": "LayoutView",
      "align_content": null,
      "align_items": null,
      "align_self": null,
      "border": null,
      "bottom": null,
      "display": null,
      "flex": null,
      "flex_flow": null,
      "grid_area": null,
      "grid_auto_columns": null,
      "grid_auto_flow": null,
      "grid_auto_rows": null,
      "grid_column": null,
      "grid_gap": null,
      "grid_row": null,
      "grid_template_areas": null,
      "grid_template_columns": null,
      "grid_template_rows": null,
      "height": null,
      "justify_content": null,
      "justify_items": null,
      "left": null,
      "margin": null,
      "max_height": null,
      "max_width": null,
      "min_height": null,
      "min_width": null,
      "object_fit": null,
      "object_position": null,
      "order": null,
      "overflow": null,
      "overflow_x": null,
      "overflow_y": null,
      "padding": null,
      "right": null,
      "top": null,
      "visibility": null,
      "width": null
     }
    },
    "30741f50a0a54d90827fa5a1136eb425": {
     "model_module": "@jupyter-widgets/base",
     "model_module_version": "1.2.0",
     "model_name": "LayoutModel",
     "state": {
      "_model_module": "@jupyter-widgets/base",
      "_model_module_version": "1.2.0",
      "_model_name": "LayoutModel",
      "_view_count": null,
      "_view_module": "@jupyter-widgets/base",
      "_view_module_version": "1.2.0",
      "_view_name": "LayoutView",
      "align_content": null,
      "align_items": null,
      "align_self": null,
      "border": null,
      "bottom": null,
      "display": null,
      "flex": null,
      "flex_flow": null,
      "grid_area": null,
      "grid_auto_columns": null,
      "grid_auto_flow": null,
      "grid_auto_rows": null,
      "grid_column": null,
      "grid_gap": null,
      "grid_row": null,
      "grid_template_areas": null,
      "grid_template_columns": null,
      "grid_template_rows": null,
      "height": null,
      "justify_content": null,
      "justify_items": null,
      "left": null,
      "margin": null,
      "max_height": null,
      "max_width": null,
      "min_height": null,
      "min_width": null,
      "object_fit": null,
      "object_position": null,
      "order": null,
      "overflow": null,
      "overflow_x": null,
      "overflow_y": null,
      "padding": null,
      "right": null,
      "top": null,
      "visibility": "hidden",
      "width": null
     }
    },
    "32b8754d61a645ec8fd53e6700822281": {
     "model_module": "@jupyter-widgets/controls",
     "model_module_version": "1.5.0",
     "model_name": "HTMLModel",
     "state": {
      "_dom_classes": [],
      "_model_module": "@jupyter-widgets/controls",
      "_model_module_version": "1.5.0",
      "_model_name": "HTMLModel",
      "_view_count": null,
      "_view_module": "@jupyter-widgets/controls",
      "_view_module_version": "1.5.0",
      "_view_name": "HTMLView",
      "description": "",
      "description_tooltip": null,
      "layout": "IPY_MODEL_a61514e113cf4e18b729cf19b0dd2ad6",
      "placeholder": "​",
      "style": "IPY_MODEL_aac206b12c184e3183198aaa4421d38d",
      "value": "Generating train examples...: "
     }
    },
    "3536c6f894074e36a6b105877660198b": {
     "model_module": "@jupyter-widgets/controls",
     "model_module_version": "1.5.0",
     "model_name": "HBoxModel",
     "state": {
      "_dom_classes": [],
      "_model_module": "@jupyter-widgets/controls",
      "_model_module_version": "1.5.0",
      "_model_name": "HBoxModel",
      "_view_count": null,
      "_view_module": "@jupyter-widgets/controls",
      "_view_module_version": "1.5.0",
      "_view_name": "HBoxView",
      "box_style": "",
      "children": [
       "IPY_MODEL_b66a839a14c746d182580fd2aa88cf07",
       "IPY_MODEL_2e476b93d7b04fcaa6c26abc4ea654c1",
       "IPY_MODEL_2a8c41ede77143768fcedeb9d806c90f"
      ],
      "layout": "IPY_MODEL_8585a478dec043aab9ec973f182b6b20"
     }
    },
    "36bb4ba67fe2493b9bfac92c64a6179e": {
     "model_module": "@jupyter-widgets/controls",
     "model_module_version": "1.5.0",
     "model_name": "HTMLModel",
     "state": {
      "_dom_classes": [],
      "_model_module": "@jupyter-widgets/controls",
      "_model_module_version": "1.5.0",
      "_model_name": "HTMLModel",
      "_view_count": null,
      "_view_module": "@jupyter-widgets/controls",
      "_view_module_version": "1.5.0",
      "_view_name": "HTMLView",
      "description": "",
      "description_tooltip": null,
      "layout": "IPY_MODEL_e7995821c28d4aa0a7724c9fbb831046",
      "placeholder": "​",
      "style": "IPY_MODEL_9ed72f6f5f1840d1aeb271af38eaa5e0",
      "value": " 14996/? [03:54&lt;00:00, 67.12 examples/s]"
     }
    },
    "3b68968364324cd48e16f5d1e647fccb": {
     "model_module": "@jupyter-widgets/controls",
     "model_module_version": "1.5.0",
     "model_name": "HBoxModel",
     "state": {
      "_dom_classes": [],
      "_model_module": "@jupyter-widgets/controls",
      "_model_module_version": "1.5.0",
      "_model_name": "HBoxModel",
      "_view_count": null,
      "_view_module": "@jupyter-widgets/controls",
      "_view_module_version": "1.5.0",
      "_view_name": "HBoxView",
      "box_style": "",
      "children": [
       "IPY_MODEL_5cb92045903143138d75ffbf3260b129",
       "IPY_MODEL_0872bf294f534b48be0ba0a5f84b7649",
       "IPY_MODEL_2e8f7c4f316246ac9acd897cbfc28bf1"
      ],
      "layout": "IPY_MODEL_1efa77f99c2e4edc871818811c49efef"
     }
    },
    "3d8d1de2d6774f1ca27b6641b098401e": {
     "model_module": "@jupyter-widgets/base",
     "model_module_version": "1.2.0",
     "model_name": "LayoutModel",
     "state": {
      "_model_module": "@jupyter-widgets/base",
      "_model_module_version": "1.2.0",
      "_model_name": "LayoutModel",
      "_view_count": null,
      "_view_module": "@jupyter-widgets/base",
      "_view_module_version": "1.2.0",
      "_view_name": "LayoutView",
      "align_content": null,
      "align_items": null,
      "align_self": null,
      "border": null,
      "bottom": null,
      "display": null,
      "flex": null,
      "flex_flow": null,
      "grid_area": null,
      "grid_auto_columns": null,
      "grid_auto_flow": null,
      "grid_auto_rows": null,
      "grid_column": null,
      "grid_gap": null,
      "grid_row": null,
      "grid_template_areas": null,
      "grid_template_columns": null,
      "grid_template_rows": null,
      "height": null,
      "justify_content": null,
      "justify_items": null,
      "left": null,
      "margin": null,
      "max_height": null,
      "max_width": null,
      "min_height": null,
      "min_width": null,
      "object_fit": null,
      "object_position": null,
      "order": null,
      "overflow": null,
      "overflow_x": null,
      "overflow_y": null,
      "padding": null,
      "right": null,
      "top": null,
      "visibility": null,
      "width": null
     }
    },
    "44f9a2e27198421e982321b23aad0532": {
     "model_module": "@jupyter-widgets/controls",
     "model_module_version": "1.5.0",
     "model_name": "FloatProgressModel",
     "state": {
      "_dom_classes": [],
      "_model_module": "@jupyter-widgets/controls",
      "_model_module_version": "1.5.0",
      "_model_name": "FloatProgressModel",
      "_view_count": null,
      "_view_module": "@jupyter-widgets/controls",
      "_view_module_version": "1.5.0",
      "_view_name": "ProgressView",
      "bar_style": "success",
      "description": "",
      "description_tooltip": null,
      "layout": "IPY_MODEL_1df0254f514640e6a2d4934e51b2605d",
      "max": 1,
      "min": 0,
      "orientation": "horizontal",
      "style": "IPY_MODEL_8736be90c95c43bd973e57321b129b3b",
      "value": 1
     }
    },
    "5297fa26f6ed40cdbc9fd64182722f96": {
     "model_module": "@jupyter-widgets/controls",
     "model_module_version": "1.5.0",
     "model_name": "DescriptionStyleModel",
     "state": {
      "_model_module": "@jupyter-widgets/controls",
      "_model_module_version": "1.5.0",
      "_model_name": "DescriptionStyleModel",
      "_view_count": null,
      "_view_module": "@jupyter-widgets/base",
      "_view_module_version": "1.2.0",
      "_view_name": "StyleView",
      "description_width": ""
     }
    },
    "54c5eb9612514a799fa376478e572c29": {
     "model_module": "@jupyter-widgets/controls",
     "model_module_version": "1.5.0",
     "model_name": "DescriptionStyleModel",
     "state": {
      "_model_module": "@jupyter-widgets/controls",
      "_model_module_version": "1.5.0",
      "_model_name": "DescriptionStyleModel",
      "_view_count": null,
      "_view_module": "@jupyter-widgets/base",
      "_view_module_version": "1.2.0",
      "_view_name": "StyleView",
      "description_width": ""
     }
    },
    "59d08cffe4604c0a88b54875f06db5ca": {
     "model_module": "@jupyter-widgets/base",
     "model_module_version": "1.2.0",
     "model_name": "LayoutModel",
     "state": {
      "_model_module": "@jupyter-widgets/base",
      "_model_module_version": "1.2.0",
      "_model_name": "LayoutModel",
      "_view_count": null,
      "_view_module": "@jupyter-widgets/base",
      "_view_module_version": "1.2.0",
      "_view_name": "LayoutView",
      "align_content": null,
      "align_items": null,
      "align_self": null,
      "border": null,
      "bottom": null,
      "display": null,
      "flex": null,
      "flex_flow": null,
      "grid_area": null,
      "grid_auto_columns": null,
      "grid_auto_flow": null,
      "grid_auto_rows": null,
      "grid_column": null,
      "grid_gap": null,
      "grid_row": null,
      "grid_template_areas": null,
      "grid_template_columns": null,
      "grid_template_rows": null,
      "height": null,
      "justify_content": null,
      "justify_items": null,
      "left": null,
      "margin": null,
      "max_height": null,
      "max_width": null,
      "min_height": null,
      "min_width": null,
      "object_fit": null,
      "object_position": null,
      "order": null,
      "overflow": null,
      "overflow_x": null,
      "overflow_y": null,
      "padding": null,
      "right": null,
      "top": null,
      "visibility": null,
      "width": null
     }
    },
    "5cb92045903143138d75ffbf3260b129": {
     "model_module": "@jupyter-widgets/controls",
     "model_module_version": "1.5.0",
     "model_name": "HTMLModel",
     "state": {
      "_dom_classes": [],
      "_model_module": "@jupyter-widgets/controls",
      "_model_module_version": "1.5.0",
      "_model_name": "HTMLModel",
      "_view_count": null,
      "_view_module": "@jupyter-widgets/controls",
      "_view_module_version": "1.5.0",
      "_view_name": "HTMLView",
      "description": "",
      "description_tooltip": null,
      "layout": "IPY_MODEL_c7c1e696f7164102804ba95e015a9682",
      "placeholder": "​",
      "style": "IPY_MODEL_54c5eb9612514a799fa376478e572c29",
      "value": "Dl Completed...: 100%"
     }
    },
    "6345bcc451e047539f07a1d2378f6f2e": {
     "model_module": "@jupyter-widgets/controls",
     "model_module_version": "1.5.0",
     "model_name": "DescriptionStyleModel",
     "state": {
      "_model_module": "@jupyter-widgets/controls",
      "_model_module_version": "1.5.0",
      "_model_name": "DescriptionStyleModel",
      "_view_count": null,
      "_view_module": "@jupyter-widgets/base",
      "_view_module_version": "1.2.0",
      "_view_name": "StyleView",
      "description_width": ""
     }
    },
    "63a1f50e64874294bb48ba88d78c06f8": {
     "model_module": "@jupyter-widgets/base",
     "model_module_version": "1.2.0",
     "model_name": "LayoutModel",
     "state": {
      "_model_module": "@jupyter-widgets/base",
      "_model_module_version": "1.2.0",
      "_model_name": "LayoutModel",
      "_view_count": null,
      "_view_module": "@jupyter-widgets/base",
      "_view_module_version": "1.2.0",
      "_view_name": "LayoutView",
      "align_content": null,
      "align_items": null,
      "align_self": null,
      "border": null,
      "bottom": null,
      "display": null,
      "flex": null,
      "flex_flow": null,
      "grid_area": null,
      "grid_auto_columns": null,
      "grid_auto_flow": null,
      "grid_auto_rows": null,
      "grid_column": null,
      "grid_gap": null,
      "grid_row": null,
      "grid_template_areas": null,
      "grid_template_columns": null,
      "grid_template_rows": null,
      "height": null,
      "justify_content": null,
      "justify_items": null,
      "left": null,
      "margin": null,
      "max_height": null,
      "max_width": null,
      "min_height": null,
      "min_width": null,
      "object_fit": null,
      "object_position": null,
      "order": null,
      "overflow": null,
      "overflow_x": null,
      "overflow_y": null,
      "padding": null,
      "right": null,
      "top": null,
      "visibility": null,
      "width": null
     }
    },
    "675c125c6b094e3684e7be8363e5ab0b": {
     "model_module": "@jupyter-widgets/controls",
     "model_module_version": "1.5.0",
     "model_name": "DescriptionStyleModel",
     "state": {
      "_model_module": "@jupyter-widgets/controls",
      "_model_module_version": "1.5.0",
      "_model_name": "DescriptionStyleModel",
      "_view_count": null,
      "_view_module": "@jupyter-widgets/base",
      "_view_module_version": "1.2.0",
      "_view_name": "StyleView",
      "description_width": ""
     }
    },
    "685122aa9c4b430db69bebefe5de7f4e": {
     "model_module": "@jupyter-widgets/base",
     "model_module_version": "1.2.0",
     "model_name": "LayoutModel",
     "state": {
      "_model_module": "@jupyter-widgets/base",
      "_model_module_version": "1.2.0",
      "_model_name": "LayoutModel",
      "_view_count": null,
      "_view_module": "@jupyter-widgets/base",
      "_view_module_version": "1.2.0",
      "_view_name": "LayoutView",
      "align_content": null,
      "align_items": null,
      "align_self": null,
      "border": null,
      "bottom": null,
      "display": null,
      "flex": null,
      "flex_flow": null,
      "grid_area": null,
      "grid_auto_columns": null,
      "grid_auto_flow": null,
      "grid_auto_rows": null,
      "grid_column": null,
      "grid_gap": null,
      "grid_row": null,
      "grid_template_areas": null,
      "grid_template_columns": null,
      "grid_template_rows": null,
      "height": null,
      "justify_content": null,
      "justify_items": null,
      "left": null,
      "margin": null,
      "max_height": null,
      "max_width": null,
      "min_height": null,
      "min_width": null,
      "object_fit": null,
      "object_position": null,
      "order": null,
      "overflow": null,
      "overflow_x": null,
      "overflow_y": null,
      "padding": null,
      "right": null,
      "top": null,
      "visibility": null,
      "width": null
     }
    },
    "6cdafb9e533f424f872c37c13c41225c": {
     "model_module": "@jupyter-widgets/controls",
     "model_module_version": "1.5.0",
     "model_name": "ProgressStyleModel",
     "state": {
      "_model_module": "@jupyter-widgets/controls",
      "_model_module_version": "1.5.0",
      "_model_name": "ProgressStyleModel",
      "_view_count": null,
      "_view_module": "@jupyter-widgets/base",
      "_view_module_version": "1.2.0",
      "_view_name": "StyleView",
      "bar_color": null,
      "description_width": ""
     }
    },
    "6df7d0d4cdb24af3bcf11445d9daccb6": {
     "model_module": "@jupyter-widgets/controls",
     "model_module_version": "1.5.0",
     "model_name": "HTMLModel",
     "state": {
      "_dom_classes": [],
      "_model_module": "@jupyter-widgets/controls",
      "_model_module_version": "1.5.0",
      "_model_name": "HTMLModel",
      "_view_count": null,
      "_view_module": "@jupyter-widgets/controls",
      "_view_module_version": "1.5.0",
      "_view_name": "HTMLView",
      "description": "",
      "description_tooltip": null,
      "layout": "IPY_MODEL_63a1f50e64874294bb48ba88d78c06f8",
      "placeholder": "​",
      "style": "IPY_MODEL_207dce1ab2db4c448a36717026924a8d",
      "value": "Dl Size...: "
     }
    },
    "748bc322693743bf9c6c3f2a10c916ed": {
     "model_module": "@jupyter-widgets/base",
     "model_module_version": "1.2.0",
     "model_name": "LayoutModel",
     "state": {
      "_model_module": "@jupyter-widgets/base",
      "_model_module_version": "1.2.0",
      "_model_name": "LayoutModel",
      "_view_count": null,
      "_view_module": "@jupyter-widgets/base",
      "_view_module_version": "1.2.0",
      "_view_name": "LayoutView",
      "align_content": null,
      "align_items": null,
      "align_self": null,
      "border": null,
      "bottom": null,
      "display": null,
      "flex": null,
      "flex_flow": null,
      "grid_area": null,
      "grid_auto_columns": null,
      "grid_auto_flow": null,
      "grid_auto_rows": null,
      "grid_column": null,
      "grid_gap": null,
      "grid_row": null,
      "grid_template_areas": null,
      "grid_template_columns": null,
      "grid_template_rows": null,
      "height": null,
      "justify_content": null,
      "justify_items": null,
      "left": null,
      "margin": null,
      "max_height": null,
      "max_width": null,
      "min_height": null,
      "min_width": null,
      "object_fit": null,
      "object_position": null,
      "order": null,
      "overflow": null,
      "overflow_x": null,
      "overflow_y": null,
      "padding": null,
      "right": null,
      "top": null,
      "visibility": "hidden",
      "width": null
     }
    },
    "7e12b19887004581b5dd961c769da7f5": {
     "model_module": "@jupyter-widgets/controls",
     "model_module_version": "1.5.0",
     "model_name": "HTMLModel",
     "state": {
      "_dom_classes": [],
      "_model_module": "@jupyter-widgets/controls",
      "_model_module_version": "1.5.0",
      "_model_name": "HTMLModel",
      "_view_count": null,
      "_view_module": "@jupyter-widgets/controls",
      "_view_module_version": "1.5.0",
      "_view_name": "HTMLView",
      "description": "",
      "description_tooltip": null,
      "layout": "IPY_MODEL_c7e7c23921cb471ebd5209312983917e",
      "placeholder": "​",
      "style": "IPY_MODEL_8262f53b95a94fdc8ed0e902a1db79bf",
      "value": "Shuffling /root/tensorflow_datasets/Nbody_IllustrisTNG_Mtot_omegam/cmd/1.0.4.incompleteTGJQNG/cmd-train.tfrecord*...: 100%"
     }
    },
    "8262f53b95a94fdc8ed0e902a1db79bf": {
     "model_module": "@jupyter-widgets/controls",
     "model_module_version": "1.5.0",
     "model_name": "DescriptionStyleModel",
     "state": {
      "_model_module": "@jupyter-widgets/controls",
      "_model_module_version": "1.5.0",
      "_model_name": "DescriptionStyleModel",
      "_view_count": null,
      "_view_module": "@jupyter-widgets/base",
      "_view_module_version": "1.2.0",
      "_view_name": "StyleView",
      "description_width": ""
     }
    },
    "82c21583518440a1a3079f7ee2114240": {
     "model_module": "@jupyter-widgets/controls",
     "model_module_version": "1.5.0",
     "model_name": "DescriptionStyleModel",
     "state": {
      "_model_module": "@jupyter-widgets/controls",
      "_model_module_version": "1.5.0",
      "_model_name": "DescriptionStyleModel",
      "_view_count": null,
      "_view_module": "@jupyter-widgets/base",
      "_view_module_version": "1.2.0",
      "_view_name": "StyleView",
      "description_width": ""
     }
    },
    "8585a478dec043aab9ec973f182b6b20": {
     "model_module": "@jupyter-widgets/base",
     "model_module_version": "1.2.0",
     "model_name": "LayoutModel",
     "state": {
      "_model_module": "@jupyter-widgets/base",
      "_model_module_version": "1.2.0",
      "_model_name": "LayoutModel",
      "_view_count": null,
      "_view_module": "@jupyter-widgets/base",
      "_view_module_version": "1.2.0",
      "_view_name": "LayoutView",
      "align_content": null,
      "align_items": null,
      "align_self": null,
      "border": null,
      "bottom": null,
      "display": null,
      "flex": null,
      "flex_flow": null,
      "grid_area": null,
      "grid_auto_columns": null,
      "grid_auto_flow": null,
      "grid_auto_rows": null,
      "grid_column": null,
      "grid_gap": null,
      "grid_row": null,
      "grid_template_areas": null,
      "grid_template_columns": null,
      "grid_template_rows": null,
      "height": null,
      "justify_content": null,
      "justify_items": null,
      "left": null,
      "margin": null,
      "max_height": null,
      "max_width": null,
      "min_height": null,
      "min_width": null,
      "object_fit": null,
      "object_position": null,
      "order": null,
      "overflow": null,
      "overflow_x": null,
      "overflow_y": null,
      "padding": null,
      "right": null,
      "top": null,
      "visibility": null,
      "width": null
     }
    },
    "8736be90c95c43bd973e57321b129b3b": {
     "model_module": "@jupyter-widgets/controls",
     "model_module_version": "1.5.0",
     "model_name": "ProgressStyleModel",
     "state": {
      "_model_module": "@jupyter-widgets/controls",
      "_model_module_version": "1.5.0",
      "_model_name": "ProgressStyleModel",
      "_view_count": null,
      "_view_module": "@jupyter-widgets/base",
      "_view_module_version": "1.2.0",
      "_view_name": "StyleView",
      "bar_color": null,
      "description_width": ""
     }
    },
    "895a65e8ccb840478abde449315f5096": {
     "model_module": "@jupyter-widgets/controls",
     "model_module_version": "1.5.0",
     "model_name": "ProgressStyleModel",
     "state": {
      "_model_module": "@jupyter-widgets/controls",
      "_model_module_version": "1.5.0",
      "_model_name": "ProgressStyleModel",
      "_view_count": null,
      "_view_module": "@jupyter-widgets/base",
      "_view_module_version": "1.2.0",
      "_view_name": "StyleView",
      "bar_color": null,
      "description_width": ""
     }
    },
    "8b2ac74524d740e2900fedd815d6fde8": {
     "model_module": "@jupyter-widgets/controls",
     "model_module_version": "1.5.0",
     "model_name": "ProgressStyleModel",
     "state": {
      "_model_module": "@jupyter-widgets/controls",
      "_model_module_version": "1.5.0",
      "_model_name": "ProgressStyleModel",
      "_view_count": null,
      "_view_module": "@jupyter-widgets/base",
      "_view_module_version": "1.2.0",
      "_view_name": "StyleView",
      "bar_color": null,
      "description_width": ""
     }
    },
    "8fa534e92adc4859a5c96fb44b2cf9a9": {
     "model_module": "@jupyter-widgets/base",
     "model_module_version": "1.2.0",
     "model_name": "LayoutModel",
     "state": {
      "_model_module": "@jupyter-widgets/base",
      "_model_module_version": "1.2.0",
      "_model_name": "LayoutModel",
      "_view_count": null,
      "_view_module": "@jupyter-widgets/base",
      "_view_module_version": "1.2.0",
      "_view_name": "LayoutView",
      "align_content": null,
      "align_items": null,
      "align_self": null,
      "border": null,
      "bottom": null,
      "display": null,
      "flex": null,
      "flex_flow": null,
      "grid_area": null,
      "grid_auto_columns": null,
      "grid_auto_flow": null,
      "grid_auto_rows": null,
      "grid_column": null,
      "grid_gap": null,
      "grid_row": null,
      "grid_template_areas": null,
      "grid_template_columns": null,
      "grid_template_rows": null,
      "height": null,
      "justify_content": null,
      "justify_items": null,
      "left": null,
      "margin": null,
      "max_height": null,
      "max_width": null,
      "min_height": null,
      "min_width": null,
      "object_fit": null,
      "object_position": null,
      "order": null,
      "overflow": null,
      "overflow_x": null,
      "overflow_y": null,
      "padding": null,
      "right": null,
      "top": null,
      "visibility": null,
      "width": null
     }
    },
    "94719df8ea7746c2aa8912bb3953f907": {
     "model_module": "@jupyter-widgets/base",
     "model_module_version": "1.2.0",
     "model_name": "LayoutModel",
     "state": {
      "_model_module": "@jupyter-widgets/base",
      "_model_module_version": "1.2.0",
      "_model_name": "LayoutModel",
      "_view_count": null,
      "_view_module": "@jupyter-widgets/base",
      "_view_module_version": "1.2.0",
      "_view_name": "LayoutView",
      "align_content": null,
      "align_items": null,
      "align_self": null,
      "border": null,
      "bottom": null,
      "display": null,
      "flex": null,
      "flex_flow": null,
      "grid_area": null,
      "grid_auto_columns": null,
      "grid_auto_flow": null,
      "grid_auto_rows": null,
      "grid_column": null,
      "grid_gap": null,
      "grid_row": null,
      "grid_template_areas": null,
      "grid_template_columns": null,
      "grid_template_rows": null,
      "height": null,
      "justify_content": null,
      "justify_items": null,
      "left": null,
      "margin": null,
      "max_height": null,
      "max_width": null,
      "min_height": null,
      "min_width": null,
      "object_fit": null,
      "object_position": null,
      "order": null,
      "overflow": null,
      "overflow_x": null,
      "overflow_y": null,
      "padding": null,
      "right": null,
      "top": null,
      "visibility": null,
      "width": "20px"
     }
    },
    "9ed72f6f5f1840d1aeb271af38eaa5e0": {
     "model_module": "@jupyter-widgets/controls",
     "model_module_version": "1.5.0",
     "model_name": "DescriptionStyleModel",
     "state": {
      "_model_module": "@jupyter-widgets/controls",
      "_model_module_version": "1.5.0",
      "_model_name": "DescriptionStyleModel",
      "_view_count": null,
      "_view_module": "@jupyter-widgets/base",
      "_view_module_version": "1.2.0",
      "_view_name": "StyleView",
      "description_width": ""
     }
    },
    "9f388cac02434a41bb01f95440694a08": {
     "model_module": "@jupyter-widgets/base",
     "model_module_version": "1.2.0",
     "model_name": "LayoutModel",
     "state": {
      "_model_module": "@jupyter-widgets/base",
      "_model_module_version": "1.2.0",
      "_model_name": "LayoutModel",
      "_view_count": null,
      "_view_module": "@jupyter-widgets/base",
      "_view_module_version": "1.2.0",
      "_view_name": "LayoutView",
      "align_content": null,
      "align_items": null,
      "align_self": null,
      "border": null,
      "bottom": null,
      "display": null,
      "flex": null,
      "flex_flow": null,
      "grid_area": null,
      "grid_auto_columns": null,
      "grid_auto_flow": null,
      "grid_auto_rows": null,
      "grid_column": null,
      "grid_gap": null,
      "grid_row": null,
      "grid_template_areas": null,
      "grid_template_columns": null,
      "grid_template_rows": null,
      "height": null,
      "justify_content": null,
      "justify_items": null,
      "left": null,
      "margin": null,
      "max_height": null,
      "max_width": null,
      "min_height": null,
      "min_width": null,
      "object_fit": null,
      "object_position": null,
      "order": null,
      "overflow": null,
      "overflow_x": null,
      "overflow_y": null,
      "padding": null,
      "right": null,
      "top": null,
      "visibility": "hidden",
      "width": null
     }
    },
    "a12eb51368f7485a9034687df6b9de9e": {
     "model_module": "@jupyter-widgets/base",
     "model_module_version": "1.2.0",
     "model_name": "LayoutModel",
     "state": {
      "_model_module": "@jupyter-widgets/base",
      "_model_module_version": "1.2.0",
      "_model_name": "LayoutModel",
      "_view_count": null,
      "_view_module": "@jupyter-widgets/base",
      "_view_module_version": "1.2.0",
      "_view_name": "LayoutView",
      "align_content": null,
      "align_items": null,
      "align_self": null,
      "border": null,
      "bottom": null,
      "display": null,
      "flex": null,
      "flex_flow": null,
      "grid_area": null,
      "grid_auto_columns": null,
      "grid_auto_flow": null,
      "grid_auto_rows": null,
      "grid_column": null,
      "grid_gap": null,
      "grid_row": null,
      "grid_template_areas": null,
      "grid_template_columns": null,
      "grid_template_rows": null,
      "height": null,
      "justify_content": null,
      "justify_items": null,
      "left": null,
      "margin": null,
      "max_height": null,
      "max_width": null,
      "min_height": null,
      "min_width": null,
      "object_fit": null,
      "object_position": null,
      "order": null,
      "overflow": null,
      "overflow_x": null,
      "overflow_y": null,
      "padding": null,
      "right": null,
      "top": null,
      "visibility": null,
      "width": null
     }
    },
    "a27015cefb3a450c8feb4ff9f35c16ec": {
     "model_module": "@jupyter-widgets/base",
     "model_module_version": "1.2.0",
     "model_name": "LayoutModel",
     "state": {
      "_model_module": "@jupyter-widgets/base",
      "_model_module_version": "1.2.0",
      "_model_name": "LayoutModel",
      "_view_count": null,
      "_view_module": "@jupyter-widgets/base",
      "_view_module_version": "1.2.0",
      "_view_name": "LayoutView",
      "align_content": null,
      "align_items": null,
      "align_self": null,
      "border": null,
      "bottom": null,
      "display": null,
      "flex": null,
      "flex_flow": null,
      "grid_area": null,
      "grid_auto_columns": null,
      "grid_auto_flow": null,
      "grid_auto_rows": null,
      "grid_column": null,
      "grid_gap": null,
      "grid_row": null,
      "grid_template_areas": null,
      "grid_template_columns": null,
      "grid_template_rows": null,
      "height": null,
      "justify_content": null,
      "justify_items": null,
      "left": null,
      "margin": null,
      "max_height": null,
      "max_width": null,
      "min_height": null,
      "min_width": null,
      "object_fit": null,
      "object_position": null,
      "order": null,
      "overflow": null,
      "overflow_x": null,
      "overflow_y": null,
      "padding": null,
      "right": null,
      "top": null,
      "visibility": null,
      "width": "20px"
     }
    },
    "a61514e113cf4e18b729cf19b0dd2ad6": {
     "model_module": "@jupyter-widgets/base",
     "model_module_version": "1.2.0",
     "model_name": "LayoutModel",
     "state": {
      "_model_module": "@jupyter-widgets/base",
      "_model_module_version": "1.2.0",
      "_model_name": "LayoutModel",
      "_view_count": null,
      "_view_module": "@jupyter-widgets/base",
      "_view_module_version": "1.2.0",
      "_view_name": "LayoutView",
      "align_content": null,
      "align_items": null,
      "align_self": null,
      "border": null,
      "bottom": null,
      "display": null,
      "flex": null,
      "flex_flow": null,
      "grid_area": null,
      "grid_auto_columns": null,
      "grid_auto_flow": null,
      "grid_auto_rows": null,
      "grid_column": null,
      "grid_gap": null,
      "grid_row": null,
      "grid_template_areas": null,
      "grid_template_columns": null,
      "grid_template_rows": null,
      "height": null,
      "justify_content": null,
      "justify_items": null,
      "left": null,
      "margin": null,
      "max_height": null,
      "max_width": null,
      "min_height": null,
      "min_width": null,
      "object_fit": null,
      "object_position": null,
      "order": null,
      "overflow": null,
      "overflow_x": null,
      "overflow_y": null,
      "padding": null,
      "right": null,
      "top": null,
      "visibility": null,
      "width": null
     }
    },
    "aac206b12c184e3183198aaa4421d38d": {
     "model_module": "@jupyter-widgets/controls",
     "model_module_version": "1.5.0",
     "model_name": "DescriptionStyleModel",
     "state": {
      "_model_module": "@jupyter-widgets/controls",
      "_model_module_version": "1.5.0",
      "_model_name": "DescriptionStyleModel",
      "_view_count": null,
      "_view_module": "@jupyter-widgets/base",
      "_view_module_version": "1.2.0",
      "_view_name": "StyleView",
      "description_width": ""
     }
    },
    "b0b05e12268840799d5e862be43d279e": {
     "model_module": "@jupyter-widgets/base",
     "model_module_version": "1.2.0",
     "model_name": "LayoutModel",
     "state": {
      "_model_module": "@jupyter-widgets/base",
      "_model_module_version": "1.2.0",
      "_model_name": "LayoutModel",
      "_view_count": null,
      "_view_module": "@jupyter-widgets/base",
      "_view_module_version": "1.2.0",
      "_view_name": "LayoutView",
      "align_content": null,
      "align_items": null,
      "align_self": null,
      "border": null,
      "bottom": null,
      "display": null,
      "flex": null,
      "flex_flow": null,
      "grid_area": null,
      "grid_auto_columns": null,
      "grid_auto_flow": null,
      "grid_auto_rows": null,
      "grid_column": null,
      "grid_gap": null,
      "grid_row": null,
      "grid_template_areas": null,
      "grid_template_columns": null,
      "grid_template_rows": null,
      "height": null,
      "justify_content": null,
      "justify_items": null,
      "left": null,
      "margin": null,
      "max_height": null,
      "max_width": null,
      "min_height": null,
      "min_width": null,
      "object_fit": null,
      "object_position": null,
      "order": null,
      "overflow": null,
      "overflow_x": null,
      "overflow_y": null,
      "padding": null,
      "right": null,
      "top": null,
      "visibility": null,
      "width": null
     }
    },
    "b66a839a14c746d182580fd2aa88cf07": {
     "model_module": "@jupyter-widgets/controls",
     "model_module_version": "1.5.0",
     "model_name": "HTMLModel",
     "state": {
      "_dom_classes": [],
      "_model_module": "@jupyter-widgets/controls",
      "_model_module_version": "1.5.0",
      "_model_name": "HTMLModel",
      "_view_count": null,
      "_view_module": "@jupyter-widgets/controls",
      "_view_module_version": "1.5.0",
      "_view_name": "HTMLView",
      "description": "",
      "description_tooltip": null,
      "layout": "IPY_MODEL_fa6d2f012bed4d57af3a8d7b73b98d34",
      "placeholder": "​",
      "style": "IPY_MODEL_23b38a0f45234ba082e08ae247d27333",
      "value": "Dl Size...: 100%"
     }
    },
    "b66ec565cfd14ede8fe904b6160221c3": {
     "model_module": "@jupyter-widgets/base",
     "model_module_version": "1.2.0",
     "model_name": "LayoutModel",
     "state": {
      "_model_module": "@jupyter-widgets/base",
      "_model_module_version": "1.2.0",
      "_model_name": "LayoutModel",
      "_view_count": null,
      "_view_module": "@jupyter-widgets/base",
      "_view_module_version": "1.2.0",
      "_view_name": "LayoutView",
      "align_content": null,
      "align_items": null,
      "align_self": null,
      "border": null,
      "bottom": null,
      "display": null,
      "flex": null,
      "flex_flow": null,
      "grid_area": null,
      "grid_auto_columns": null,
      "grid_auto_flow": null,
      "grid_auto_rows": null,
      "grid_column": null,
      "grid_gap": null,
      "grid_row": null,
      "grid_template_areas": null,
      "grid_template_columns": null,
      "grid_template_rows": null,
      "height": null,
      "justify_content": null,
      "justify_items": null,
      "left": null,
      "margin": null,
      "max_height": null,
      "max_width": null,
      "min_height": null,
      "min_width": null,
      "object_fit": null,
      "object_position": null,
      "order": null,
      "overflow": null,
      "overflow_x": null,
      "overflow_y": null,
      "padding": null,
      "right": null,
      "top": null,
      "visibility": null,
      "width": null
     }
    },
    "bbaa93e9116442c5b4b285f9f04d82c5": {
     "model_module": "@jupyter-widgets/controls",
     "model_module_version": "1.5.0",
     "model_name": "HTMLModel",
     "state": {
      "_dom_classes": [],
      "_model_module": "@jupyter-widgets/controls",
      "_model_module_version": "1.5.0",
      "_model_name": "HTMLModel",
      "_view_count": null,
      "_view_module": "@jupyter-widgets/controls",
      "_view_module_version": "1.5.0",
      "_view_name": "HTMLView",
      "description": "",
      "description_tooltip": null,
      "layout": "IPY_MODEL_13cab7b0fa28447faac12aa2decd5798",
      "placeholder": "​",
      "style": "IPY_MODEL_c4c52ff96f684366a6cdd995f9151a95",
      "value": " 0/0 [00:01&lt;?, ? MiB/s]"
     }
    },
    "c003576e562a4dc38c4ea319a69c18fc": {
     "model_module": "@jupyter-widgets/controls",
     "model_module_version": "1.5.0",
     "model_name": "HBoxModel",
     "state": {
      "_dom_classes": [],
      "_model_module": "@jupyter-widgets/controls",
      "_model_module_version": "1.5.0",
      "_model_name": "HBoxModel",
      "_view_count": null,
      "_view_module": "@jupyter-widgets/controls",
      "_view_module_version": "1.5.0",
      "_view_name": "HBoxView",
      "box_style": "",
      "children": [
       "IPY_MODEL_cb4860c5712d48e694f0392cf3c81df3",
       "IPY_MODEL_44f9a2e27198421e982321b23aad0532",
       "IPY_MODEL_13ae8348717048bfafef5c6846542cf3"
      ],
      "layout": "IPY_MODEL_1320b32751504bc8ad7726fd1d111120"
     }
    },
    "c104accdccf941978f742ca944095be0": {
     "model_module": "@jupyter-widgets/controls",
     "model_module_version": "1.5.0",
     "model_name": "HTMLModel",
     "state": {
      "_dom_classes": [],
      "_model_module": "@jupyter-widgets/controls",
      "_model_module_version": "1.5.0",
      "_model_name": "HTMLModel",
      "_view_count": null,
      "_view_module": "@jupyter-widgets/controls",
      "_view_module_version": "1.5.0",
      "_view_name": "HTMLView",
      "description": "",
      "description_tooltip": null,
      "layout": "IPY_MODEL_59d08cffe4604c0a88b54875f06db5ca",
      "placeholder": "​",
      "style": "IPY_MODEL_ce6e9b42383a4a85b9662d890a81640e",
      "value": " 1/1 [04:05&lt;00:00, 245.63s/ splits]"
     }
    },
    "c4754680e4f440c8baf0a3234246f6fb": {
     "model_module": "@jupyter-widgets/controls",
     "model_module_version": "1.5.0",
     "model_name": "FloatProgressModel",
     "state": {
      "_dom_classes": [],
      "_model_module": "@jupyter-widgets/controls",
      "_model_module_version": "1.5.0",
      "_model_name": "FloatProgressModel",
      "_view_count": null,
      "_view_module": "@jupyter-widgets/controls",
      "_view_module_version": "1.5.0",
      "_view_name": "ProgressView",
      "bar_style": "success",
      "description": "",
      "description_tooltip": null,
      "layout": "IPY_MODEL_fafe9af928df4bcdb37ae80fd0b6c67c",
      "max": 1,
      "min": 0,
      "orientation": "horizontal",
      "style": "IPY_MODEL_8b2ac74524d740e2900fedd815d6fde8",
      "value": 0
     }
    },
    "c4c52ff96f684366a6cdd995f9151a95": {
     "model_module": "@jupyter-widgets/controls",
     "model_module_version": "1.5.0",
     "model_name": "DescriptionStyleModel",
     "state": {
      "_model_module": "@jupyter-widgets/controls",
      "_model_module_version": "1.5.0",
      "_model_name": "DescriptionStyleModel",
      "_view_count": null,
      "_view_module": "@jupyter-widgets/base",
      "_view_module_version": "1.2.0",
      "_view_name": "StyleView",
      "description_width": ""
     }
    },
    "c678b0e4761f46f8bb5749c24e253c4e": {
     "model_module": "@jupyter-widgets/base",
     "model_module_version": "1.2.0",
     "model_name": "LayoutModel",
     "state": {
      "_model_module": "@jupyter-widgets/base",
      "_model_module_version": "1.2.0",
      "_model_name": "LayoutModel",
      "_view_count": null,
      "_view_module": "@jupyter-widgets/base",
      "_view_module_version": "1.2.0",
      "_view_name": "LayoutView",
      "align_content": null,
      "align_items": null,
      "align_self": null,
      "border": null,
      "bottom": null,
      "display": null,
      "flex": null,
      "flex_flow": null,
      "grid_area": null,
      "grid_auto_columns": null,
      "grid_auto_flow": null,
      "grid_auto_rows": null,
      "grid_column": null,
      "grid_gap": null,
      "grid_row": null,
      "grid_template_areas": null,
      "grid_template_columns": null,
      "grid_template_rows": null,
      "height": null,
      "justify_content": null,
      "justify_items": null,
      "left": null,
      "margin": null,
      "max_height": null,
      "max_width": null,
      "min_height": null,
      "min_width": null,
      "object_fit": null,
      "object_position": null,
      "order": null,
      "overflow": null,
      "overflow_x": null,
      "overflow_y": null,
      "padding": null,
      "right": null,
      "top": null,
      "visibility": null,
      "width": null
     }
    },
    "c7c1e696f7164102804ba95e015a9682": {
     "model_module": "@jupyter-widgets/base",
     "model_module_version": "1.2.0",
     "model_name": "LayoutModel",
     "state": {
      "_model_module": "@jupyter-widgets/base",
      "_model_module_version": "1.2.0",
      "_model_name": "LayoutModel",
      "_view_count": null,
      "_view_module": "@jupyter-widgets/base",
      "_view_module_version": "1.2.0",
      "_view_name": "LayoutView",
      "align_content": null,
      "align_items": null,
      "align_self": null,
      "border": null,
      "bottom": null,
      "display": null,
      "flex": null,
      "flex_flow": null,
      "grid_area": null,
      "grid_auto_columns": null,
      "grid_auto_flow": null,
      "grid_auto_rows": null,
      "grid_column": null,
      "grid_gap": null,
      "grid_row": null,
      "grid_template_areas": null,
      "grid_template_columns": null,
      "grid_template_rows": null,
      "height": null,
      "justify_content": null,
      "justify_items": null,
      "left": null,
      "margin": null,
      "max_height": null,
      "max_width": null,
      "min_height": null,
      "min_width": null,
      "object_fit": null,
      "object_position": null,
      "order": null,
      "overflow": null,
      "overflow_x": null,
      "overflow_y": null,
      "padding": null,
      "right": null,
      "top": null,
      "visibility": null,
      "width": null
     }
    },
    "c7e7c23921cb471ebd5209312983917e": {
     "model_module": "@jupyter-widgets/base",
     "model_module_version": "1.2.0",
     "model_name": "LayoutModel",
     "state": {
      "_model_module": "@jupyter-widgets/base",
      "_model_module_version": "1.2.0",
      "_model_name": "LayoutModel",
      "_view_count": null,
      "_view_module": "@jupyter-widgets/base",
      "_view_module_version": "1.2.0",
      "_view_name": "LayoutView",
      "align_content": null,
      "align_items": null,
      "align_self": null,
      "border": null,
      "bottom": null,
      "display": null,
      "flex": null,
      "flex_flow": null,
      "grid_area": null,
      "grid_auto_columns": null,
      "grid_auto_flow": null,
      "grid_auto_rows": null,
      "grid_column": null,
      "grid_gap": null,
      "grid_row": null,
      "grid_template_areas": null,
      "grid_template_columns": null,
      "grid_template_rows": null,
      "height": null,
      "justify_content": null,
      "justify_items": null,
      "left": null,
      "margin": null,
      "max_height": null,
      "max_width": null,
      "min_height": null,
      "min_width": null,
      "object_fit": null,
      "object_position": null,
      "order": null,
      "overflow": null,
      "overflow_x": null,
      "overflow_y": null,
      "padding": null,
      "right": null,
      "top": null,
      "visibility": null,
      "width": null
     }
    },
    "cb4860c5712d48e694f0392cf3c81df3": {
     "model_module": "@jupyter-widgets/controls",
     "model_module_version": "1.5.0",
     "model_name": "HTMLModel",
     "state": {
      "_dom_classes": [],
      "_model_module": "@jupyter-widgets/controls",
      "_model_module_version": "1.5.0",
      "_model_name": "HTMLModel",
      "_view_count": null,
      "_view_module": "@jupyter-widgets/controls",
      "_view_module_version": "1.5.0",
      "_view_name": "HTMLView",
      "description": "",
      "description_tooltip": null,
      "layout": "IPY_MODEL_c678b0e4761f46f8bb5749c24e253c4e",
      "placeholder": "​",
      "style": "IPY_MODEL_675c125c6b094e3684e7be8363e5ab0b",
      "value": "Dl Completed...: 100%"
     }
    },
    "cd3a4be7618a48c99621e8189908af4b": {
     "model_module": "@jupyter-widgets/controls",
     "model_module_version": "1.5.0",
     "model_name": "HBoxModel",
     "state": {
      "_dom_classes": [],
      "_model_module": "@jupyter-widgets/controls",
      "_model_module_version": "1.5.0",
      "_model_name": "HBoxModel",
      "_view_count": null,
      "_view_module": "@jupyter-widgets/controls",
      "_view_module_version": "1.5.0",
      "_view_name": "HBoxView",
      "box_style": "",
      "children": [
       "IPY_MODEL_01568546218f4928a7f72f8e6f6699ca",
       "IPY_MODEL_d82e2a9c1fa84d668901e3c31bfd3eae",
       "IPY_MODEL_c104accdccf941978f742ca944095be0"
      ],
      "layout": "IPY_MODEL_9f388cac02434a41bb01f95440694a08"
     }
    },
    "ce6e9b42383a4a85b9662d890a81640e": {
     "model_module": "@jupyter-widgets/controls",
     "model_module_version": "1.5.0",
     "model_name": "DescriptionStyleModel",
     "state": {
      "_model_module": "@jupyter-widgets/controls",
      "_model_module_version": "1.5.0",
      "_model_name": "DescriptionStyleModel",
      "_view_count": null,
      "_view_module": "@jupyter-widgets/base",
      "_view_module_version": "1.2.0",
      "_view_name": "StyleView",
      "description_width": ""
     }
    },
    "d82e2a9c1fa84d668901e3c31bfd3eae": {
     "model_module": "@jupyter-widgets/controls",
     "model_module_version": "1.5.0",
     "model_name": "FloatProgressModel",
     "state": {
      "_dom_classes": [],
      "_model_module": "@jupyter-widgets/controls",
      "_model_module_version": "1.5.0",
      "_model_name": "FloatProgressModel",
      "_view_count": null,
      "_view_module": "@jupyter-widgets/controls",
      "_view_module_version": "1.5.0",
      "_view_name": "ProgressView",
      "bar_style": "",
      "description": "",
      "description_tooltip": null,
      "layout": "IPY_MODEL_2f7eac50cf6c4658aa12b9e633bd8ab2",
      "max": 1,
      "min": 0,
      "orientation": "horizontal",
      "style": "IPY_MODEL_895a65e8ccb840478abde449315f5096",
      "value": 1
     }
    },
    "d9d23eb2b7854d83aad25df0cc31194f": {
     "model_module": "@jupyter-widgets/controls",
     "model_module_version": "1.5.0",
     "model_name": "ProgressStyleModel",
     "state": {
      "_model_module": "@jupyter-widgets/controls",
      "_model_module_version": "1.5.0",
      "_model_name": "ProgressStyleModel",
      "_view_count": null,
      "_view_module": "@jupyter-widgets/base",
      "_view_module_version": "1.2.0",
      "_view_name": "StyleView",
      "bar_color": null,
      "description_width": ""
     }
    },
    "e139bd3372ba43bf9dfa7180acfce002": {
     "model_module": "@jupyter-widgets/controls",
     "model_module_version": "1.5.0",
     "model_name": "HBoxModel",
     "state": {
      "_dom_classes": [],
      "_model_module": "@jupyter-widgets/controls",
      "_model_module_version": "1.5.0",
      "_model_name": "HBoxModel",
      "_view_count": null,
      "_view_module": "@jupyter-widgets/controls",
      "_view_module_version": "1.5.0",
      "_view_name": "HBoxView",
      "box_style": "",
      "children": [
       "IPY_MODEL_32b8754d61a645ec8fd53e6700822281",
       "IPY_MODEL_fa9385b2ef3a403ca422a0ef022968f0",
       "IPY_MODEL_36bb4ba67fe2493b9bfac92c64a6179e"
      ],
      "layout": "IPY_MODEL_30741f50a0a54d90827fa5a1136eb425"
     }
    },
    "e27c4de0c26d404f9cdefb9778dc7051": {
     "model_module": "@jupyter-widgets/controls",
     "model_module_version": "1.5.0",
     "model_name": "HTMLModel",
     "state": {
      "_dom_classes": [],
      "_model_module": "@jupyter-widgets/controls",
      "_model_module_version": "1.5.0",
      "_model_name": "HTMLModel",
      "_view_count": null,
      "_view_module": "@jupyter-widgets/controls",
      "_view_module_version": "1.5.0",
      "_view_name": "HTMLView",
      "description": "",
      "description_tooltip": null,
      "layout": "IPY_MODEL_3d8d1de2d6774f1ca27b6641b098401e",
      "placeholder": "​",
      "style": "IPY_MODEL_6345bcc451e047539f07a1d2378f6f2e",
      "value": " 14956/15000 [00:10&lt;00:00, 1312.54 examples/s]"
     }
    },
    "e4844600a61548eda30d5c07ac5f4a2e": {
     "model_module": "@jupyter-widgets/controls",
     "model_module_version": "1.5.0",
     "model_name": "DescriptionStyleModel",
     "state": {
      "_model_module": "@jupyter-widgets/controls",
      "_model_module_version": "1.5.0",
      "_model_name": "DescriptionStyleModel",
      "_view_count": null,
      "_view_module": "@jupyter-widgets/base",
      "_view_module_version": "1.2.0",
      "_view_name": "StyleView",
      "description_width": ""
     }
    },
    "e4f4a9a4f1d04b10949f6d6835a45204": {
     "model_module": "@jupyter-widgets/base",
     "model_module_version": "1.2.0",
     "model_name": "LayoutModel",
     "state": {
      "_model_module": "@jupyter-widgets/base",
      "_model_module_version": "1.2.0",
      "_model_name": "LayoutModel",
      "_view_count": null,
      "_view_module": "@jupyter-widgets/base",
      "_view_module_version": "1.2.0",
      "_view_name": "LayoutView",
      "align_content": null,
      "align_items": null,
      "align_self": null,
      "border": null,
      "bottom": null,
      "display": null,
      "flex": null,
      "flex_flow": null,
      "grid_area": null,
      "grid_auto_columns": null,
      "grid_auto_flow": null,
      "grid_auto_rows": null,
      "grid_column": null,
      "grid_gap": null,
      "grid_row": null,
      "grid_template_areas": null,
      "grid_template_columns": null,
      "grid_template_rows": null,
      "height": null,
      "justify_content": null,
      "justify_items": null,
      "left": null,
      "margin": null,
      "max_height": null,
      "max_width": null,
      "min_height": null,
      "min_width": null,
      "object_fit": null,
      "object_position": null,
      "order": null,
      "overflow": null,
      "overflow_x": null,
      "overflow_y": null,
      "padding": null,
      "right": null,
      "top": null,
      "visibility": null,
      "width": "20px"
     }
    },
    "e7995821c28d4aa0a7724c9fbb831046": {
     "model_module": "@jupyter-widgets/base",
     "model_module_version": "1.2.0",
     "model_name": "LayoutModel",
     "state": {
      "_model_module": "@jupyter-widgets/base",
      "_model_module_version": "1.2.0",
      "_model_name": "LayoutModel",
      "_view_count": null,
      "_view_module": "@jupyter-widgets/base",
      "_view_module_version": "1.2.0",
      "_view_name": "LayoutView",
      "align_content": null,
      "align_items": null,
      "align_self": null,
      "border": null,
      "bottom": null,
      "display": null,
      "flex": null,
      "flex_flow": null,
      "grid_area": null,
      "grid_auto_columns": null,
      "grid_auto_flow": null,
      "grid_auto_rows": null,
      "grid_column": null,
      "grid_gap": null,
      "grid_row": null,
      "grid_template_areas": null,
      "grid_template_columns": null,
      "grid_template_rows": null,
      "height": null,
      "justify_content": null,
      "justify_items": null,
      "left": null,
      "margin": null,
      "max_height": null,
      "max_width": null,
      "min_height": null,
      "min_width": null,
      "object_fit": null,
      "object_position": null,
      "order": null,
      "overflow": null,
      "overflow_x": null,
      "overflow_y": null,
      "padding": null,
      "right": null,
      "top": null,
      "visibility": null,
      "width": null
     }
    },
    "ebe5d292e1474fd8b94ac981b8755658": {
     "model_module": "@jupyter-widgets/controls",
     "model_module_version": "1.5.0",
     "model_name": "HBoxModel",
     "state": {
      "_dom_classes": [],
      "_model_module": "@jupyter-widgets/controls",
      "_model_module_version": "1.5.0",
      "_model_name": "HBoxModel",
      "_view_count": null,
      "_view_module": "@jupyter-widgets/controls",
      "_view_module_version": "1.5.0",
      "_view_name": "HBoxView",
      "box_style": "",
      "children": [
       "IPY_MODEL_7e12b19887004581b5dd961c769da7f5",
       "IPY_MODEL_18b75c6a88ff4991a38e054817811b4d",
       "IPY_MODEL_e27c4de0c26d404f9cdefb9778dc7051"
      ],
      "layout": "IPY_MODEL_748bc322693743bf9c6c3f2a10c916ed"
     }
    },
    "eca37a59620c4475b41e207465b53db8": {
     "model_module": "@jupyter-widgets/controls",
     "model_module_version": "1.5.0",
     "model_name": "ProgressStyleModel",
     "state": {
      "_model_module": "@jupyter-widgets/controls",
      "_model_module_version": "1.5.0",
      "_model_name": "ProgressStyleModel",
      "_view_count": null,
      "_view_module": "@jupyter-widgets/base",
      "_view_module_version": "1.2.0",
      "_view_name": "StyleView",
      "bar_color": null,
      "description_width": ""
     }
    },
    "fa6d2f012bed4d57af3a8d7b73b98d34": {
     "model_module": "@jupyter-widgets/base",
     "model_module_version": "1.2.0",
     "model_name": "LayoutModel",
     "state": {
      "_model_module": "@jupyter-widgets/base",
      "_model_module_version": "1.2.0",
      "_model_name": "LayoutModel",
      "_view_count": null,
      "_view_module": "@jupyter-widgets/base",
      "_view_module_version": "1.2.0",
      "_view_name": "LayoutView",
      "align_content": null,
      "align_items": null,
      "align_self": null,
      "border": null,
      "bottom": null,
      "display": null,
      "flex": null,
      "flex_flow": null,
      "grid_area": null,
      "grid_auto_columns": null,
      "grid_auto_flow": null,
      "grid_auto_rows": null,
      "grid_column": null,
      "grid_gap": null,
      "grid_row": null,
      "grid_template_areas": null,
      "grid_template_columns": null,
      "grid_template_rows": null,
      "height": null,
      "justify_content": null,
      "justify_items": null,
      "left": null,
      "margin": null,
      "max_height": null,
      "max_width": null,
      "min_height": null,
      "min_width": null,
      "object_fit": null,
      "object_position": null,
      "order": null,
      "overflow": null,
      "overflow_x": null,
      "overflow_y": null,
      "padding": null,
      "right": null,
      "top": null,
      "visibility": null,
      "width": null
     }
    },
    "fa9385b2ef3a403ca422a0ef022968f0": {
     "model_module": "@jupyter-widgets/controls",
     "model_module_version": "1.5.0",
     "model_name": "FloatProgressModel",
     "state": {
      "_dom_classes": [],
      "_model_module": "@jupyter-widgets/controls",
      "_model_module_version": "1.5.0",
      "_model_name": "FloatProgressModel",
      "_view_count": null,
      "_view_module": "@jupyter-widgets/controls",
      "_view_module_version": "1.5.0",
      "_view_name": "ProgressView",
      "bar_style": "info",
      "description": "",
      "description_tooltip": null,
      "layout": "IPY_MODEL_a27015cefb3a450c8feb4ff9f35c16ec",
      "max": 1,
      "min": 0,
      "orientation": "horizontal",
      "style": "IPY_MODEL_d9d23eb2b7854d83aad25df0cc31194f",
      "value": 1
     }
    },
    "fafa794250c84144ae94ca6ff6fbeb92": {
     "model_module": "@jupyter-widgets/base",
     "model_module_version": "1.2.0",
     "model_name": "LayoutModel",
     "state": {
      "_model_module": "@jupyter-widgets/base",
      "_model_module_version": "1.2.0",
      "_model_name": "LayoutModel",
      "_view_count": null,
      "_view_module": "@jupyter-widgets/base",
      "_view_module_version": "1.2.0",
      "_view_name": "LayoutView",
      "align_content": null,
      "align_items": null,
      "align_self": null,
      "border": null,
      "bottom": null,
      "display": null,
      "flex": null,
      "flex_flow": null,
      "grid_area": null,
      "grid_auto_columns": null,
      "grid_auto_flow": null,
      "grid_auto_rows": null,
      "grid_column": null,
      "grid_gap": null,
      "grid_row": null,
      "grid_template_areas": null,
      "grid_template_columns": null,
      "grid_template_rows": null,
      "height": null,
      "justify_content": null,
      "justify_items": null,
      "left": null,
      "margin": null,
      "max_height": null,
      "max_width": null,
      "min_height": null,
      "min_width": null,
      "object_fit": null,
      "object_position": null,
      "order": null,
      "overflow": null,
      "overflow_x": null,
      "overflow_y": null,
      "padding": null,
      "right": null,
      "top": null,
      "visibility": null,
      "width": null
     }
    },
    "fafe9af928df4bcdb37ae80fd0b6c67c": {
     "model_module": "@jupyter-widgets/base",
     "model_module_version": "1.2.0",
     "model_name": "LayoutModel",
     "state": {
      "_model_module": "@jupyter-widgets/base",
      "_model_module_version": "1.2.0",
      "_model_name": "LayoutModel",
      "_view_count": null,
      "_view_module": "@jupyter-widgets/base",
      "_view_module_version": "1.2.0",
      "_view_name": "LayoutView",
      "align_content": null,
      "align_items": null,
      "align_self": null,
      "border": null,
      "bottom": null,
      "display": null,
      "flex": null,
      "flex_flow": null,
      "grid_area": null,
      "grid_auto_columns": null,
      "grid_auto_flow": null,
      "grid_auto_rows": null,
      "grid_column": null,
      "grid_gap": null,
      "grid_row": null,
      "grid_template_areas": null,
      "grid_template_columns": null,
      "grid_template_rows": null,
      "height": null,
      "justify_content": null,
      "justify_items": null,
      "left": null,
      "margin": null,
      "max_height": null,
      "max_width": null,
      "min_height": null,
      "min_width": null,
      "object_fit": null,
      "object_position": null,
      "order": null,
      "overflow": null,
      "overflow_x": null,
      "overflow_y": null,
      "padding": null,
      "right": null,
      "top": null,
      "visibility": null,
      "width": "20px"
     }
    }
   }
  }
 },
 "nbformat": 4,
 "nbformat_minor": 1
}
